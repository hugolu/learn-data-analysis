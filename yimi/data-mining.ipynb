{
 "cells": [
  {
   "cell_type": "markdown",
   "metadata": {
    "deletable": true,
    "editable": true
   },
   "source": [
    "# 数据挖掘"
   ]
  },
  {
   "cell_type": "code",
   "execution_count": 1,
   "metadata": {
    "collapsed": false,
    "deletable": true,
    "editable": true
   },
   "outputs": [
    {
     "name": "stdout",
     "output_type": "stream",
     "text": [
      "Populating the interactive namespace from numpy and matplotlib\n"
     ]
    }
   ],
   "source": [
    "%pylab inline"
   ]
  },
  {
   "cell_type": "code",
   "execution_count": 2,
   "metadata": {
    "collapsed": true,
    "deletable": true,
    "editable": true
   },
   "outputs": [],
   "source": [
    "import numpy as np\n",
    "import pandas as pd\n",
    "from pandas import Series, DataFrame\n",
    "import seaborn as sns\n",
    "from datetime import datetime"
   ]
  },
  {
   "cell_type": "markdown",
   "metadata": {
    "deletable": true,
    "editable": true
   },
   "source": [
    "## 数据转换\n",
    "\n",
    "- 数据挖掘（机器学习）前，数据需要先过滤、整理、转换。\n",
    "- 在[数据探索](data-exploration.ipynb)阶段，发现[测试数据](test_data.xls)某些字段需要额外处理。"
   ]
  },
  {
   "cell_type": "markdown",
   "metadata": {
    "deletable": true,
    "editable": true
   },
   "source": [
    "字段 | 分类 | 处理方式\n",
    "---|---|---\n",
    "ship_name | 杂讯 | 丢弃\n",
    "ship_mobile | 类别特征 | 重新编码\n",
    "order_id | 无关分析 | 丢弃\n",
    "total_amount | 数值特征 | ~~剔除异常值(0)，转成对数~~ 稍后决定\n",
    "final_amount | 重复信息 | 丢弃\n",
    "pay_status | 类别特征 | 使用\n",
    "ship_status | 类别特征 | 使用\n",
    "is_delivery | 无识别度 | 丢弃\n",
    "try_order | 无识别度 | 丢弃\n",
    "erp_order_id | 数值特征 | {0, 1}\n",
    "erp_status | 数值特征 | 重新编码\n",
    "createtime | 数值特征 | 转换成日期\n",
    "last_modified | 数值特征 | 转换成日期\n",
    "payment | 类别特征 | 重新编码\n",
    "shipping_id | 无识别度 | 丢弃\n",
    "shipping | 类别特征 | 重新编码\n",
    "member_id | 类别特征 | 重新编码\n",
    "promotion_type | 类别特征 | 重新编码\n",
    "group_id | 类别特征 | 重新编码\n",
    "groupOn_id | 类别特征 | 重新编码\n",
    "is_leader | 数值特征 | {0, 1}\n",
    "is_prepare | 无识别度 | 丢弃\n",
    "group_num | 数值特征 | {0, 3}\n",
    "status | 类别特征 | 重新编码\n",
    "confirm_delivery | 类别特征 | 重新编码\n",
    "confirm | 无识别度 | 丢弃\n",
    "ship_area | 类别特征 | 抽取区码\n",
    "weight | 数值特征 | ~~剔除异常值(0)，转成对数~~ 稍后决定\n",
    "tostr | 无关分析 | 丢弃\n",
    "itemnum | 数值特征 | 使用\n",
    "ip | 杂讯 | 丢弃\n",
    "ship_addr | 重复信息 | 丢弃\n",
    "ship_zip | 无关分析 | 丢弃\n",
    "ship_tel | 重复信息 | 丢弃\n",
    "ship_email | 无识别度 | 丢弃\n",
    "ship_time | 类别特征 | 抽取时段，重新编码\n",
    "cost_item | 数值特征 | ~~剔除异常值(0)，转成对数~~ 稍后决定\n",
    "is_tax | 数值特征 | {False, True}\n",
    "tax_type | 类别特征 | 重新编码\n",
    "cost_tax | 无识别度 | 丢弃\n",
    "is_protect | 无识别度 | 丢弃\n",
    "cost_protect | 无识别度 | 丢弃\n",
    "cost_payment | 无识别度 | 丢弃\n",
    "currency | 无识别度 | 丢弃\n",
    "cur_rate | 无识别度 | 丢弃\n",
    "advance | 数值特征 | ~~剔除异常值(0)，转成对数~~ 稍后决定\n",
    "score_u | 数值特征 | ~~剔除异常值(0)，转成对数~~ 稍后决定\n",
    "score_g | 数值特征 | ~~剔除异常值(0)，转成对数~~ 稍后决定\n",
    "discount | 数值特征 | 转成正数\n",
    "pmt_goods | 数值特征 | 使用\n",
    "pmt_order | 数值特征 | 使用\n",
    "payed | 杂讯 | 丢弃\n",
    "disabled | 无识别度 | 丢弃\n",
    "displayonsite | 数值特征 | {False, True}\n",
    "mark_type | 无识别度 | 丢弃\n",
    "cost_freight | 数值特征 | 使用\n",
    "extend | 无识别度 | 丢弃\n",
    "order_refer | 无识别度 | 丢弃\n",
    "addon | 杂讯 | 丢弃\n",
    "source | 类别特征 | 重新编码\n",
    "city_link | 数值特征 | {0, 1, 2}\n",
    "verify_city_link | 数值特征 | {-1，0，1，2}\n",
    "fuzzy | 数值特征 | {0,1}\n",
    "longitude | 数值特征 | ~~剔除异常值~~ 稍后决定\n",
    "latitude | 数值特征 | ~~剔除异常值~~ 稍后决定\n",
    "scalping | 数值特征 | {False, True}\n",
    "out_trade_no | 无关分析 | 丢弃\n",
    "autoSendErp | 数值特征 | {False,True}\n",
    "autoSendErpStatus | 类别特征 | {0, 1, 2}\n",
    "string_tag_id | 杂讯 | 丢弃\n",
    "lang | 类别特征 | 重新编码\n",
    "delivery_note_price | 类别特征 | 重新编码"
   ]
  },
  {
   "cell_type": "markdown",
   "metadata": {
    "deletable": true,
    "editable": true
   },
   "source": [
    "### 步骤一：过滤字段"
   ]
  },
  {
   "cell_type": "code",
   "execution_count": 3,
   "metadata": {
    "collapsed": false,
    "deletable": true,
    "editable": true
   },
   "outputs": [
    {
     "data": {
      "text/plain": [
       "(5881, 44)"
      ]
     },
     "execution_count": 3,
     "metadata": {},
     "output_type": "execute_result"
    }
   ],
   "source": [
    "# 选取需要的字段\n",
    "cols = ['ship_mobile', 'total_amount', 'pay_status', 'ship_status', 'erp_order_id', 'erp_status',\n",
    "        'createtime', 'last_modified', 'payment', 'shipping', 'member_id', 'promotion_type',\n",
    "        'group_id', 'groupOn_id', 'is_leader', 'group_num', 'status', 'confirm_delivery', 'ship_area',\n",
    "        'weight', 'itemnum', 'ship_time', 'cost_item', 'is_tax', 'tax_type', 'advance',\n",
    "        'score_u', 'score_g', 'discount', 'pmt_goods', 'pmt_order', 'displayonsite', 'cost_freight',\n",
    "        'source', 'city_link', 'verify_city_link', 'fuzzy', 'longitude', 'latitude', 'scalping',\n",
    "        'autoSendErp', 'autoSendErpStatus', 'lang', 'delivery_note_price']\n",
    "\n",
    "df = pd.read_excel('test_data.xls', usecols=cols)\n",
    "df.shape"
   ]
  },
  {
   "cell_type": "markdown",
   "metadata": {
    "deletable": true,
    "editable": true
   },
   "source": [
    "### 步骤二：转换格式"
   ]
  },
  {
   "cell_type": "code",
   "execution_count": 4,
   "metadata": {
    "collapsed": false,
    "deletable": true,
    "editable": true
   },
   "outputs": [],
   "source": [
    "# 函数：重新编码，转换level\n",
    "def levelize(values):\n",
    "    items = values.unique()\n",
    "    mapping = dict((item, idx) for idx, item in enumerate(items))\n",
    "    return values.map(mapping)\n",
    "\n",
    "# 直接编码\n",
    "cols = ['ship_mobile', 'erp_status', 'payment', 'shipping', 'member_id', 'promotion_type', 'group_id',\n",
    "        'groupOn_id', 'status', 'confirm_delivery', 'tax_type', 'source', 'lang', 'delivery_note_price']\n",
    "\n",
    "for col in cols:\n",
    "    df[col] = levelize(df[col])"
   ]
  },
  {
   "cell_type": "code",
   "execution_count": 5,
   "metadata": {
    "collapsed": false,
    "deletable": true,
    "editable": true
   },
   "outputs": [],
   "source": [
    "# 抽取区码\n",
    "df.ship_area = df.ship_area.map(lambda area: int(area.split(':')[-1]))"
   ]
  },
  {
   "cell_type": "code",
   "execution_count": 6,
   "metadata": {
    "collapsed": false,
    "deletable": true,
    "editable": true
   },
   "outputs": [],
   "source": [
    "# 抽取时段，重新编码\n",
    "def time2code(t):\n",
    "    mapping = {\n",
    "        '08:00-12:00': 0,\n",
    "        '14:00-18:00': 1,\n",
    "        '18:00-21:00': 2,\n",
    "        '14:00-21:00': 3}\n",
    "    return mapping.get(t, 4)\n",
    "\n",
    "df.ship_time = df.ship_time.fillna('??,??').map(lambda x: time2code(x.split(',')[1]))"
   ]
  },
  {
   "cell_type": "code",
   "execution_count": 7,
   "metadata": {
    "collapsed": false,
    "deletable": true,
    "editable": true
   },
   "outputs": [],
   "source": [
    "# 将时间戳转换成日期\n",
    "df.createtime = df.createtime.map(datetime.fromtimestamp).map(lambda ts: ts.dayofyear)\n",
    "df.last_modified = df.last_modified.map(datetime.fromtimestamp).map(lambda ts: ts.dayofyear)"
   ]
  },
  {
   "cell_type": "code",
   "execution_count": 8,
   "metadata": {
    "collapsed": false,
    "deletable": true,
    "editable": true
   },
   "outputs": [],
   "source": [
    "# 折扣：转成正数\n",
    "df.discount = df.discount.map(abs)"
   ]
  },
  {
   "cell_type": "markdown",
   "metadata": {
    "deletable": true,
    "editable": true
   },
   "source": [
    "### 步骤三：去除异常值\n",
    "\n",
    "根据[箱形图](http://baike.baidu.com/link?url=p5iilyxKfj00v8yBe7AkHusrO94ulEySuxDyqefi_6Qk34eSjJDe0MYvF2ZWFY1ke_nRy4aI8svvxKttWPgD1ti0vL7DW6nTGeFwlVlnwDKzFojUsp32aaQ6km01wIa9Rps-Va0ntNji-_kvHnNHzA_d3XTX-bpVspI3_jiFOM0CqZe0767L0SCo9qr9SyOR)定义，过滤极端异常值。"
   ]
  },
  {
   "cell_type": "code",
   "execution_count": 9,
   "metadata": {
    "collapsed": false,
    "deletable": true,
    "editable": true
   },
   "outputs": [],
   "source": [
    "_='''# 定义异常阈值\n",
    "outlier_thershold = 3\n",
    "\n",
    "# 函数：选出正常值\n",
    "def choose_normal(values):\n",
    "    Q1 = values.quantile(.25)\n",
    "    Q3 = values.quantile(.75)\n",
    "    IQR = Q3 - Q1\n",
    "    upper_fence = Q3 + outlier_thershold * IQR\n",
    "    lower_fence = Q1 - outlier_thershold * IQR\n",
    "    return ((values > lower_fence) & (values < upper_fence))\n",
    "\n",
    "log_normals = choose_normal(df.longitude) # 经度正常值\n",
    "lat_normals = choose_normal(df.latitude)  # 纬度正常值\n",
    "normals = log_normals & lat_normals       # 经、纬度正常值\n",
    "\n",
    "# 去除地理位置异常值 (含离群值、缺失值)\n",
    "df = df[normals]'''"
   ]
  },
  {
   "cell_type": "code",
   "execution_count": 10,
   "metadata": {
    "collapsed": false,
    "deletable": true,
    "editable": true
   },
   "outputs": [],
   "source": [
    "_='''cols = ['total_amount', 'weight', 'cost_item', 'advance', 'score_u', 'score_g']\n",
    "\n",
    "# 剔除异常值（0）,转成对数\n",
    "for col in cols:\n",
    "    df = df[df[col] > 0]\n",
    "    df[col] = df[col].map(log)'''"
   ]
  }
 ],
 "metadata": {
  "kernelspec": {
   "display_name": "Python 2",
   "language": "python",
   "name": "python2"
  },
  "language_info": {
   "codemirror_mode": {
    "name": "ipython",
    "version": 2
   },
   "file_extension": ".py",
   "mimetype": "text/x-python",
   "name": "python",
   "nbconvert_exporter": "python",
   "pygments_lexer": "ipython2",
   "version": "2.7.11"
  }
 },
 "nbformat": 4,
 "nbformat_minor": 2
}
