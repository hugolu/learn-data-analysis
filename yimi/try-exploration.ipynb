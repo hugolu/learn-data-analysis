{
 "cells": [
  {
   "cell_type": "markdown",
   "metadata": {
    "deletable": true,
    "editable": true
   },
   "source": [
    "# 数据探索"
   ]
  },
  {
   "cell_type": "code",
   "execution_count": 1,
   "metadata": {
    "collapsed": false,
    "deletable": true,
    "editable": true
   },
   "outputs": [
    {
     "name": "stdout",
     "output_type": "stream",
     "text": [
      "Populating the interactive namespace from numpy and matplotlib\n"
     ]
    }
   ],
   "source": [
    "%pylab inline"
   ]
  },
  {
   "cell_type": "code",
   "execution_count": 2,
   "metadata": {
    "collapsed": true,
    "deletable": true,
    "editable": true
   },
   "outputs": [],
   "source": [
    "import numpy as np\n",
    "import pandas as pd\n",
    "from pandas import Series, DataFrame\n",
    "\n",
    "from datetime import datetime, timedelta"
   ]
  },
  {
   "cell_type": "markdown",
   "metadata": {
    "deletable": true,
    "editable": true
   },
   "source": [
    "## 载入数据"
   ]
  },
  {
   "cell_type": "code",
   "execution_count": 3,
   "metadata": {
    "collapsed": false,
    "deletable": true,
    "editable": true
   },
   "outputs": [],
   "source": [
    "df = pd.read_excel('test_data.xls')"
   ]
  },
  {
   "cell_type": "code",
   "execution_count": 4,
   "metadata": {
    "collapsed": false
   },
   "outputs": [
    {
     "data": {
      "text/plain": [
       "5881"
      ]
     },
     "execution_count": 4,
     "metadata": {},
     "output_type": "execute_result"
    }
   ],
   "source": [
    "# 记录数量\n",
    "len(df)"
   ]
  },
  {
   "cell_type": "code",
   "execution_count": 5,
   "metadata": {
    "collapsed": false
   },
   "outputs": [
    {
     "data": {
      "text/plain": [
       "Index([u'ship_name', u'ship_mobile', u'order_id', u'total_amount',\n",
       "       u'final_amount', u'pay_status', u'ship_status', u'is_delivery',\n",
       "       u'try_order', u'erp_order_id', u'erp_status', u'createtime',\n",
       "       u'last_modified', u'payment', u'shipping_id', u'shipping', u'member_id',\n",
       "       u'promotion_type', u'group_id', u'groupOn_id', u'is_leader',\n",
       "       u'is_prepare', u'group_num', u'status', u'confirm_delivery', u'confirm',\n",
       "       u'ship_area', u'weight', u'tostr', u'itemnum', u'ip', u'ship_addr',\n",
       "       u'ship_zip', u'ship_tel', u'ship_email', u'ship_time', u'cost_item',\n",
       "       u'is_tax', u'tax_type', u'cost_tax', u'is_protect', u'cost_protect',\n",
       "       u'cost_payment', u'currency', u'cur_rate', u'advance', u'score_u',\n",
       "       u'score_g', u'discount', u'pmt_goods', u'pmt_order', u'payed',\n",
       "       u'disabled', u'displayonsite', u'mark_type', u'cost_freight', u'extend',\n",
       "       u'order_refer', u'addon', u'source', u'city_link', u'verify_city_link',\n",
       "       u'fuzzy', u'longitude', u'latitude', u'scalping', u'out_trade_no',\n",
       "       u'autoSendErp', u'autoSendErpStatus', u'string_tag_id', u'lang',\n",
       "       u'delivery_note_price'],\n",
       "      dtype='object')"
      ]
     },
     "execution_count": 5,
     "metadata": {},
     "output_type": "execute_result"
    }
   ],
   "source": [
    "# 显示所有字段名字\n",
    "df.columns"
   ]
  },
  {
   "cell_type": "code",
   "execution_count": 6,
   "metadata": {
    "collapsed": false,
    "deletable": true,
    "editable": true,
    "scrolled": false
   },
   "outputs": [
    {
     "data": {
      "text/plain": [
       "ship_name                                                            姐客戶\n",
       "ship_mobile                                                  16143836292\n",
       "order_id                                                 170102235550041\n",
       "total_amount                                                          34\n",
       "final_amount                                                          34\n",
       "pay_status                                                             1\n",
       "ship_status                                                            1\n",
       "is_delivery                                                            Y\n",
       "try_order                                                          False\n",
       "erp_order_id                                                           1\n",
       "erp_status                                                          succ\n",
       "createtime                                                    1483372544\n",
       "last_modified                                                 1483855998\n",
       "payment                                                       wxpayjsapi\n",
       "shipping_id                                                            1\n",
       "shipping                                                            冷链直供\n",
       "member_id                                                          85641\n",
       "promotion_type                                                    normal\n",
       "group_id                                                               0\n",
       "groupOn_id                                                             0\n",
       "is_leader                                                              0\n",
       "is_prepare                                                             0\n",
       "group_num                                                              0\n",
       "status                                                            finish\n",
       "confirm_delivery                                                       Y\n",
       "confirm                                                                N\n",
       "ship_area                                        mainland:上海/上海市/浦东新区:35\n",
       "weight                                                                 6\n",
       "tostr                                                             订单明细介绍\n",
       "itemnum                                                                1\n",
       "                                             ...                        \n",
       "cost_payment                                                           0\n",
       "currency                                                             CNY\n",
       "cur_rate                                                               1\n",
       "advance                                                                0\n",
       "score_u                                                              200\n",
       "score_g                                                               36\n",
       "discount                                                               0\n",
       "pmt_goods                                                              0\n",
       "pmt_order                                                              0\n",
       "payed                                                                 34\n",
       "disabled                                                           False\n",
       "displayonsite                                                       True\n",
       "mark_type                                                             b1\n",
       "cost_freight                                                           0\n",
       "extend                                                             False\n",
       "order_refer                                                        local\n",
       "addon                  a:2:{s:19:\"order_chgpointmoney\";s:4:\"2.00\";s:1...\n",
       "source                                                            weixin\n",
       "city_link                                                              0\n",
       "verify_city_link                                                       0\n",
       "fuzzy                                                                  0\n",
       "longitude                                                        121.524\n",
       "latitude                                                         31.2349\n",
       "scalping                                                           False\n",
       "out_trade_no                                        17010223555004121975\n",
       "autoSendErp                                                         True\n",
       "autoSendErpStatus                                                      0\n",
       "string_tag_id                                                        NaN\n",
       "lang                                                  simplified_chinese\n",
       "delivery_note_price                                              display\n",
       "Name: 0, dtype: object"
      ]
     },
     "execution_count": 6,
     "metadata": {},
     "output_type": "execute_result"
    }
   ],
   "source": [
    "# 观察第一笔订单\n",
    "df.ix[0]"
   ]
  },
  {
   "cell_type": "markdown",
   "metadata": {
    "deletable": true,
    "editable": true
   },
   "source": [
    "## 浏览所有字段"
   ]
  },
  {
   "cell_type": "markdown",
   "metadata": {
    "deletable": true,
    "editable": true
   },
   "source": [
    "### ship_name 客户姓名"
   ]
  },
  {
   "cell_type": "code",
   "execution_count": 7,
   "metadata": {
    "collapsed": false,
    "deletable": true,
    "editable": true
   },
   "outputs": [
    {
     "data": {
      "text/plain": [
       "姐    453\n",
       "生    160\n",
       "士    144\n",
       "敏     99\n",
       "红     74\n",
       "Name: ship_name, dtype: int64"
      ]
     },
     "execution_count": 7,
     "metadata": {},
     "output_type": "execute_result"
    }
   ],
   "source": [
    "df.ship_name.map(lambda n: n[:1]).value_counts().head()"
   ]
  },
  {
   "cell_type": "markdown",
   "metadata": {
    "deletable": true,
    "editable": true
   },
   "source": [
    "- ship_name 可能是顾客名字的第三个字，前两个为X小姐、Y先生\n",
    "- ship_name 与 ship_mobile 信息重复，可忽略"
   ]
  },
  {
   "cell_type": "markdown",
   "metadata": {},
   "source": [
    "### ship_mobile 客户电话"
   ]
  },
  {
   "cell_type": "code",
   "execution_count": 8,
   "metadata": {
    "collapsed": false
   },
   "outputs": [
    {
     "data": {
      "text/plain": [
       "3790"
      ]
     },
     "execution_count": 8,
     "metadata": {},
     "output_type": "execute_result"
    }
   ],
   "source": [
    "len(df.ship_mobile.unique())"
   ]
  },
  {
   "cell_type": "markdown",
   "metadata": {},
   "source": [
    "### order_id 订单编号"
   ]
  },
  {
   "cell_type": "code",
   "execution_count": 9,
   "metadata": {
    "collapsed": false
   },
   "outputs": [
    {
     "data": {
      "text/plain": [
       "5881"
      ]
     },
     "execution_count": 9,
     "metadata": {},
     "output_type": "execute_result"
    }
   ],
   "source": [
    "df.order_id.count()"
   ]
  },
  {
   "cell_type": "markdown",
   "metadata": {
    "deletable": true,
    "editable": true
   },
   "source": [
    "### total_amount，df.final_amount 订单金额"
   ]
  },
  {
   "cell_type": "code",
   "execution_count": 10,
   "metadata": {
    "collapsed": false,
    "deletable": true,
    "editable": true
   },
   "outputs": [
    {
     "data": {
      "text/plain": [
       "True"
      ]
     },
     "execution_count": 10,
     "metadata": {},
     "output_type": "execute_result"
    }
   ],
   "source": [
    "(df.total_amount == df.final_amount).all()"
   ]
  },
  {
   "cell_type": "markdown",
   "metadata": {
    "deletable": true,
    "editable": true
   },
   "source": [
    "- total_amount 与 final_amount 信息重复，可忽略其中一个"
   ]
  },
  {
   "cell_type": "markdown",
   "metadata": {
    "deletable": true,
    "editable": true
   },
   "source": [
    "### pay_status 付款状态"
   ]
  },
  {
   "cell_type": "code",
   "execution_count": 11,
   "metadata": {
    "collapsed": false,
    "deletable": true,
    "editable": true
   },
   "outputs": [
    {
     "data": {
      "text/plain": [
       "1    4956\n",
       "0     779\n",
       "5     111\n",
       "4      35\n",
       "Name: pay_status, dtype: int64"
      ]
     },
     "execution_count": 11,
     "metadata": {},
     "output_type": "execute_result"
    }
   ],
   "source": [
    "df.pay_status.value_counts()"
   ]
  },
  {
   "cell_type": "markdown",
   "metadata": {
    "deletable": true,
    "editable": true
   },
   "source": [
    "- 有四种付款情形，大部分为方式1"
   ]
  },
  {
   "cell_type": "markdown",
   "metadata": {
    "deletable": true,
    "editable": true
   },
   "source": [
    "### ship_status 出货状态"
   ]
  },
  {
   "cell_type": "code",
   "execution_count": 12,
   "metadata": {
    "collapsed": false,
    "deletable": true,
    "editable": true
   },
   "outputs": [
    {
     "data": {
      "text/plain": [
       "1    4803\n",
       "0    1078\n",
       "Name: ship_status, dtype: int64"
      ]
     },
     "execution_count": 12,
     "metadata": {},
     "output_type": "execute_result"
    }
   ],
   "source": [
    "df.ship_status.value_counts()"
   ]
  },
  {
   "cell_type": "markdown",
   "metadata": {
    "deletable": true,
    "editable": true
   },
   "source": [
    "- 有两种出货状态，大部分为1\n",
    "- 0 是自取吗？"
   ]
  },
  {
   "cell_type": "markdown",
   "metadata": {
    "deletable": true,
    "editable": true
   },
   "source": [
    "### is_delivery 是否出货"
   ]
  },
  {
   "cell_type": "code",
   "execution_count": 13,
   "metadata": {
    "collapsed": false,
    "deletable": true,
    "editable": true
   },
   "outputs": [
    {
     "data": {
      "text/plain": [
       "Y    5881\n",
       "Name: is_delivery, dtype: int64"
      ]
     },
     "execution_count": 13,
     "metadata": {},
     "output_type": "execute_result"
    }
   ],
   "source": [
    "df.is_delivery.value_counts()"
   ]
  },
  {
   "cell_type": "markdown",
   "metadata": {
    "deletable": true,
    "editable": true
   },
   "source": [
    "- 全部订单应为有效订单\n",
    "- 分析可忽略此字段"
   ]
  },
  {
   "cell_type": "markdown",
   "metadata": {
    "deletable": true,
    "editable": true
   },
   "source": [
    "### try_order 试单"
   ]
  },
  {
   "cell_type": "code",
   "execution_count": 14,
   "metadata": {
    "collapsed": false,
    "deletable": true,
    "editable": true
   },
   "outputs": [
    {
     "data": {
      "text/plain": [
       "False    5881\n",
       "Name: try_order, dtype: int64"
      ]
     },
     "execution_count": 14,
     "metadata": {},
     "output_type": "execute_result"
    }
   ],
   "source": [
    "df.try_order.value_counts()"
   ]
  },
  {
   "cell_type": "markdown",
   "metadata": {
    "deletable": true,
    "editable": true
   },
   "source": [
    "- 全部都不是试单\n",
    "- 分析可忽略此字段"
   ]
  },
  {
   "cell_type": "markdown",
   "metadata": {
    "deletable": true,
    "editable": true
   },
   "source": [
    "### erp_order_id ERP订单编号"
   ]
  },
  {
   "cell_type": "code",
   "execution_count": 15,
   "metadata": {
    "collapsed": false,
    "deletable": true,
    "editable": true
   },
   "outputs": [
    {
     "data": {
      "text/plain": [
       "1    5316\n",
       "0     565\n",
       "Name: erp_order_id, dtype: int64"
      ]
     },
     "execution_count": 15,
     "metadata": {},
     "output_type": "execute_result"
    }
   ],
   "source": [
    "df.erp_order_id.value_counts()"
   ]
  },
  {
   "cell_type": "markdown",
   "metadata": {
    "deletable": true,
    "editable": true
   },
   "source": [
    "### erp_status ERP状态"
   ]
  },
  {
   "cell_type": "code",
   "execution_count": 16,
   "metadata": {
    "collapsed": false,
    "deletable": true,
    "editable": true
   },
   "outputs": [
    {
     "data": {
      "text/plain": [
       "succ      5068\n",
       "normal     813\n",
       "Name: erp_status, dtype: int64"
      ]
     },
     "execution_count": 16,
     "metadata": {},
     "output_type": "execute_result"
    }
   ],
   "source": [
    "df.erp_status.value_counts()"
   ]
  },
  {
   "cell_type": "markdown",
   "metadata": {
    "deletable": true,
    "editable": true
   },
   "source": [
    "### createtime 订单建立时间"
   ]
  },
  {
   "cell_type": "code",
   "execution_count": 17,
   "metadata": {
    "collapsed": false,
    "deletable": true,
    "editable": true
   },
   "outputs": [
    {
     "data": {
      "text/plain": [
       "(Timestamp('2017-01-01 06:51:11'), Timestamp('2017-03-21 19:25:09'))"
      ]
     },
     "execution_count": 17,
     "metadata": {},
     "output_type": "execute_result"
    }
   ],
   "source": [
    "df.createtime = df.createtime.map(datetime.fromtimestamp)\n",
    "df.createtime.min(), df.createtime.max()"
   ]
  },
  {
   "cell_type": "code",
   "execution_count": 18,
   "metadata": {
    "collapsed": false,
    "deletable": true,
    "editable": true
   },
   "outputs": [
    {
     "data": {
      "text/plain": [
       "<matplotlib.axes._subplots.AxesSubplot at 0x1029c6710>"
      ]
     },
     "execution_count": 18,
     "metadata": {},
     "output_type": "execute_result"
    },
    {
     "data": {
      "image/png": "[encoded data removed]",
      "text/plain": [
       "<matplotlib.figure.Figure at 0x110e2b990>"
      ]
     },
     "metadata": {},
     "output_type": "display_data"
    }
   ],
   "source": [
    "df.createtime.hist(bins=30, figsize=(12,6))"
   ]
  },
  {
   "cell_type": "markdown",
   "metadata": {
    "deletable": true,
    "editable": true
   },
   "source": [
    "- 最旧的订单：'2017-01-01 06:51:11'\n",
    "- 最新的订单：'2017-03-21 19:25:09'\n",
    "- 春节期间（1/27~2/2）几乎没有订单\n",
    "- 2/25 附近有一波订单，促销活动吗？"
   ]
  },
  {
   "cell_type": "markdown",
   "metadata": {
    "deletable": true,
    "editable": true
   },
   "source": [
    "### last_modified 订单修改时间"
   ]
  },
  {
   "cell_type": "code",
   "execution_count": 19,
   "metadata": {
    "collapsed": false,
    "deletable": true,
    "editable": true
   },
   "outputs": [
    {
     "data": {
      "text/plain": [
       "(Timestamp('2017-01-01 12:39:04'), Timestamp('2017-03-21 19:35:30'))"
      ]
     },
     "execution_count": 19,
     "metadata": {},
     "output_type": "execute_result"
    }
   ],
   "source": [
    "df.last_modified = df.last_modified.map(datetime.fromtimestamp)\n",
    "df.last_modified.min(), df.last_modified.max()"
   ]
  },
  {
   "cell_type": "code",
   "execution_count": 20,
   "metadata": {
    "collapsed": false,
    "deletable": true,
    "editable": true
   },
   "outputs": [
    {
     "data": {
      "text/plain": [
       "<matplotlib.axes._subplots.AxesSubplot at 0x1145995d0>"
      ]
     },
     "execution_count": 20,
     "metadata": {},
     "output_type": "execute_result"
    },
    {
     "data": {
      "image/png": "[encoded data removed]",
      "text/plain": [
       "<matplotlib.figure.Figure at 0x11453cc10>"
      ]
     },
     "metadata": {},
     "output_type": "display_data"
    }
   ],
   "source": [
    "df.last_modified.hist(bins=30, figsize=(12,6))"
   ]
  },
  {
   "cell_type": "markdown",
   "metadata": {
    "deletable": true,
    "editable": true
   },
   "source": [
    "- 最旧的改单：'2017-01-01 12:39:04'\n",
    "- 最新的改单：'2017-03-21 19:35:30'\n",
    "- 3/20 突然发生大量改单，发生什么事情？"
   ]
  },
  {
   "cell_type": "markdown",
   "metadata": {},
   "source": [
    "### last_modified - createtimes 关系"
   ]
  },
  {
   "cell_type": "code",
   "execution_count": 21,
   "metadata": {
    "collapsed": false
   },
   "outputs": [
    {
     "data": {
      "text/plain": [
       "count                       5881\n",
       "mean     11 days 15:47:34.614691\n",
       "std      15 days 19:05:20.817236\n",
       "min              0 days 00:00:09\n",
       "25%              2 days 14:19:25\n",
       "50%              3 days 17:22:04\n",
       "75%             16 days 06:00:52\n",
       "max             78 days 07:22:17\n",
       "dtype: object"
      ]
     },
     "execution_count": 21,
     "metadata": {},
     "output_type": "execute_result"
    }
   ],
   "source": [
    "duration = df.last_modified - df.createtime\n",
    "duration.describe()"
   ]
  },
  {
   "cell_type": "markdown",
   "metadata": {},
   "source": [
    "- last_modified - createtimes 时间差很奇怪，平均11天多，最长78天"
   ]
  },
  {
   "cell_type": "markdown",
   "metadata": {
    "deletable": true,
    "editable": true
   },
   "source": [
    "### payment 支付方式"
   ]
  },
  {
   "cell_type": "code",
   "execution_count": 22,
   "metadata": {
    "collapsed": false,
    "deletable": true,
    "editable": true
   },
   "outputs": [
    {
     "data": {
      "text/plain": [
       "wxpayjsapi    3256\n",
       "online         835\n",
       "alipay         639\n",
       "wxsmpay        564\n",
       "-1             515\n",
       "deposit         72\n",
       "Name: payment, dtype: int64"
      ]
     },
     "execution_count": 22,
     "metadata": {},
     "output_type": "execute_result"
    }
   ],
   "source": [
    "df.payment.value_counts()"
   ]
  },
  {
   "cell_type": "markdown",
   "metadata": {
    "deletable": true,
    "editable": true
   },
   "source": [
    "- 大部分为微信支付\n",
    "- “-1” 是什么情形？"
   ]
  },
  {
   "cell_type": "markdown",
   "metadata": {
    "deletable": true,
    "editable": true
   },
   "source": [
    "### shipping_id 运送单位？"
   ]
  },
  {
   "cell_type": "code",
   "execution_count": 23,
   "metadata": {
    "collapsed": false,
    "deletable": true,
    "editable": true
   },
   "outputs": [
    {
     "data": {
      "text/plain": [
       "1    5881\n",
       "Name: shipping_id, dtype: int64"
      ]
     },
     "execution_count": 23,
     "metadata": {},
     "output_type": "execute_result"
    }
   ],
   "source": [
    "df.shipping_id.value_counts()"
   ]
  },
  {
   "cell_type": "markdown",
   "metadata": {
    "deletable": true,
    "editable": true
   },
   "source": [
    "- 全部同一个值\n",
    "- 猜测目前是自行配送\n",
    "- 分析可忽略此字段"
   ]
  },
  {
   "cell_type": "markdown",
   "metadata": {
    "deletable": true,
    "editable": true
   },
   "source": [
    "### shipping 运送方式"
   ]
  },
  {
   "cell_type": "code",
   "execution_count": 24,
   "metadata": {
    "collapsed": false,
    "deletable": true,
    "editable": true
   },
   "outputs": [
    {
     "data": {
      "text/plain": [
       "冷链直供      4905\n",
       "一米市集直送     976\n",
       "Name: shipping, dtype: int64"
      ]
     },
     "execution_count": 24,
     "metadata": {},
     "output_type": "execute_result"
    }
   ],
   "source": [
    "df.shipping.value_counts()"
   ]
  },
  {
   "cell_type": "markdown",
   "metadata": {
    "deletable": true,
    "editable": true
   },
   "source": [
    "- 冷链的条件：肉品？高单价？客户付费？"
   ]
  },
  {
   "cell_type": "markdown",
   "metadata": {
    "deletable": true,
    "editable": true
   },
   "source": [
    "### member_id 会员编号"
   ]
  },
  {
   "cell_type": "code",
   "execution_count": 25,
   "metadata": {
    "collapsed": false,
    "deletable": true,
    "editable": true
   },
   "outputs": [
    {
     "data": {
      "text/plain": [
       "True"
      ]
     },
     "execution_count": 25,
     "metadata": {},
     "output_type": "execute_result"
    }
   ],
   "source": [
    "# 判断 ship_mobile 与 member_id 是否一对一关系\n",
    "members = df[['ship_mobile','member_id']].drop_duplicates()\n",
    "members.ship_mobile.duplicated().any()"
   ]
  },
  {
   "cell_type": "code",
   "execution_count": 26,
   "metadata": {
    "collapsed": false,
    "deletable": true,
    "editable": true
   },
   "outputs": [
    {
     "data": {
      "text/plain": [
       "ship_mobile\n",
       "16143651264    3\n",
       "17015710353    3\n",
       "16165837240    3\n",
       "16165985610    3\n",
       "17112128686    4\n",
       "Name: member_id, dtype: int64"
      ]
     },
     "execution_count": 26,
     "metadata": {},
     "output_type": "execute_result"
    }
   ],
   "source": [
    "members.groupby('ship_mobile').member_id.count().sort_values()[-5:]"
   ]
  },
  {
   "cell_type": "code",
   "execution_count": 27,
   "metadata": {
    "collapsed": false,
    "deletable": true,
    "editable": true
   },
   "outputs": [
    {
     "data": {
      "text/plain": [
       "member_id\n",
       "107911    2\n",
       "88384     2\n",
       "86235     2\n",
       "90928     2\n",
       "100459    3\n",
       "Name: ship_mobile, dtype: int64"
      ]
     },
     "execution_count": 27,
     "metadata": {},
     "output_type": "execute_result"
    }
   ],
   "source": [
    "members.groupby('member_id').ship_mobile.count().sort_values()[-5:]"
   ]
  },
  {
   "cell_type": "markdown",
   "metadata": {
    "deletable": true,
    "editable": true
   },
   "source": [
    "- 有一支手机门号注册多个会员的情形：新会员有优惠？注册系统允许？\n",
    "- 有一个会员使用多个手机门号的情形：代订？送礼？"
   ]
  },
  {
   "cell_type": "markdown",
   "metadata": {
    "deletable": true,
    "editable": true
   },
   "source": [
    "### promotion_type 促销类型"
   ]
  },
  {
   "cell_type": "code",
   "execution_count": 28,
   "metadata": {
    "collapsed": false,
    "deletable": true,
    "editable": true
   },
   "outputs": [
    {
     "data": {
      "text/plain": [
       "normal     5114\n",
       "group       703\n",
       "prepare      42\n",
       "card         22\n",
       "Name: promotion_type, dtype: int64"
      ]
     },
     "execution_count": 28,
     "metadata": {},
     "output_type": "execute_result"
    }
   ],
   "source": [
    "df.promotion_type.value_counts()"
   ]
  },
  {
   "cell_type": "markdown",
   "metadata": {
    "deletable": true,
    "editable": true
   },
   "source": [
    "分为：正常、团购、预购、礼物卡（猜测）"
   ]
  },
  {
   "cell_type": "markdown",
   "metadata": {},
   "source": [
    "### group_id 分组编号"
   ]
  },
  {
   "cell_type": "code",
   "execution_count": 29,
   "metadata": {
    "collapsed": false,
    "deletable": true,
    "editable": true
   },
   "outputs": [
    {
     "data": {
      "text/plain": [
       "375"
      ]
     },
     "execution_count": 29,
     "metadata": {},
     "output_type": "execute_result"
    }
   ],
   "source": [
    "groups = df.groupby('group_id')['ship_mobile'].unique().map(len).sort_values(ascending=False)\n",
    "len(groups)"
   ]
  },
  {
   "cell_type": "code",
   "execution_count": 30,
   "metadata": {
    "collapsed": false,
    "deletable": true,
    "editable": true
   },
   "outputs": [
    {
     "data": {
      "text/plain": [
       "group_id\n",
       "0                   3394\n",
       "1702257995121197       4\n",
       "1702258000845827       4\n",
       "1702258027560606       4\n",
       "1702247905571083       4\n",
       "Name: ship_mobile, dtype: int64"
      ]
     },
     "execution_count": 30,
     "metadata": {},
     "output_type": "execute_result"
    }
   ],
   "source": [
    "groups.head()"
   ]
  },
  {
   "cell_type": "code",
   "execution_count": 31,
   "metadata": {
    "collapsed": false,
    "deletable": true,
    "editable": true
   },
   "outputs": [
    {
     "data": {
      "text/plain": [
       "674"
      ]
     },
     "execution_count": 31,
     "metadata": {},
     "output_type": "execute_result"
    }
   ],
   "source": [
    "len(df[df.group_id != 0])"
   ]
  },
  {
   "cell_type": "markdown",
   "metadata": {},
   "source": [
    "- 总共 375 个分组\n",
    "- 最多的 group_id=0，3394个会员"
   ]
  },
  {
   "cell_type": "code",
   "execution_count": 32,
   "metadata": {
    "collapsed": false,
    "deletable": true,
    "editable": true
   },
   "outputs": [
    {
     "data": {
      "text/html": [
       "<div>\n",
       "<table border=\"1\" class=\"dataframe\">\n",
       "  <thead>\n",
       "    <tr style=\"text-align: right;\">\n",
       "      <th></th>\n",
       "      <th>ship_name</th>\n",
       "      <th>ship_mobile</th>\n",
       "      <th>order_id</th>\n",
       "      <th>total_amount</th>\n",
       "      <th>final_amount</th>\n",
       "      <th>pay_status</th>\n",
       "      <th>ship_status</th>\n",
       "      <th>is_delivery</th>\n",
       "      <th>try_order</th>\n",
       "      <th>erp_order_id</th>\n",
       "      <th>...</th>\n",
       "      <th>fuzzy</th>\n",
       "      <th>longitude</th>\n",
       "      <th>latitude</th>\n",
       "      <th>scalping</th>\n",
       "      <th>out_trade_no</th>\n",
       "      <th>autoSendErp</th>\n",
       "      <th>autoSendErpStatus</th>\n",
       "      <th>string_tag_id</th>\n",
       "      <th>lang</th>\n",
       "      <th>delivery_note_price</th>\n",
       "    </tr>\n",
       "  </thead>\n",
       "  <tbody>\n",
       "    <tr>\n",
       "      <th>49</th>\n",
       "      <td>韵客戶</td>\n",
       "      <td>16165932641</td>\n",
       "      <td>170223222858570</td>\n",
       "      <td>109.0</td>\n",
       "      <td>109.0</td>\n",
       "      <td>1</td>\n",
       "      <td>1</td>\n",
       "      <td>Y</td>\n",
       "      <td>False</td>\n",
       "      <td>1</td>\n",
       "      <td>...</td>\n",
       "      <td>0</td>\n",
       "      <td>121.449223</td>\n",
       "      <td>31.271176</td>\n",
       "      <td>False</td>\n",
       "      <td>17022322285857080738</td>\n",
       "      <td>True</td>\n",
       "      <td>1</td>\n",
       "      <td>NaN</td>\n",
       "      <td>simplified_chinese</td>\n",
       "      <td>display</td>\n",
       "    </tr>\n",
       "    <tr>\n",
       "      <th>72</th>\n",
       "      <td>红客戶</td>\n",
       "      <td>16143545425</td>\n",
       "      <td>170222203645822</td>\n",
       "      <td>109.0</td>\n",
       "      <td>109.0</td>\n",
       "      <td>1</td>\n",
       "      <td>1</td>\n",
       "      <td>Y</td>\n",
       "      <td>False</td>\n",
       "      <td>1</td>\n",
       "      <td>...</td>\n",
       "      <td>0</td>\n",
       "      <td>121.376013</td>\n",
       "      <td>31.165447</td>\n",
       "      <td>False</td>\n",
       "      <td>17022220364582253518</td>\n",
       "      <td>True</td>\n",
       "      <td>1</td>\n",
       "      <td>NaN</td>\n",
       "      <td>simplified_chinese</td>\n",
       "      <td>display</td>\n",
       "    </tr>\n",
       "    <tr>\n",
       "      <th>73</th>\n",
       "      <td>红客戶</td>\n",
       "      <td>16143545425</td>\n",
       "      <td>170222210177262</td>\n",
       "      <td>109.0</td>\n",
       "      <td>109.0</td>\n",
       "      <td>1</td>\n",
       "      <td>1</td>\n",
       "      <td>Y</td>\n",
       "      <td>False</td>\n",
       "      <td>1</td>\n",
       "      <td>...</td>\n",
       "      <td>0</td>\n",
       "      <td>121.589999</td>\n",
       "      <td>31.205951</td>\n",
       "      <td>False</td>\n",
       "      <td>17022221017726249493</td>\n",
       "      <td>True</td>\n",
       "      <td>1</td>\n",
       "      <td>NaN</td>\n",
       "      <td>simplified_chinese</td>\n",
       "      <td>display</td>\n",
       "    </tr>\n",
       "    <tr>\n",
       "      <th>255</th>\n",
       "      <td>慧客戶</td>\n",
       "      <td>16087220425</td>\n",
       "      <td>170223213654478</td>\n",
       "      <td>109.0</td>\n",
       "      <td>109.0</td>\n",
       "      <td>1</td>\n",
       "      <td>1</td>\n",
       "      <td>Y</td>\n",
       "      <td>False</td>\n",
       "      <td>1</td>\n",
       "      <td>...</td>\n",
       "      <td>0</td>\n",
       "      <td>NaN</td>\n",
       "      <td>NaN</td>\n",
       "      <td>False</td>\n",
       "      <td>17022321365447844006</td>\n",
       "      <td>True</td>\n",
       "      <td>1</td>\n",
       "      <td>NaN</td>\n",
       "      <td>simplified_chinese</td>\n",
       "      <td>display</td>\n",
       "    </tr>\n",
       "    <tr>\n",
       "      <th>256</th>\n",
       "      <td>慧客戶</td>\n",
       "      <td>16087220425</td>\n",
       "      <td>170226102100615</td>\n",
       "      <td>109.0</td>\n",
       "      <td>109.0</td>\n",
       "      <td>1</td>\n",
       "      <td>1</td>\n",
       "      <td>Y</td>\n",
       "      <td>False</td>\n",
       "      <td>1</td>\n",
       "      <td>...</td>\n",
       "      <td>0</td>\n",
       "      <td>121.568156</td>\n",
       "      <td>31.234188</td>\n",
       "      <td>False</td>\n",
       "      <td>17022610210061535330</td>\n",
       "      <td>True</td>\n",
       "      <td>1</td>\n",
       "      <td>NaN</td>\n",
       "      <td>simplified_chinese</td>\n",
       "      <td>display</td>\n",
       "    </tr>\n",
       "  </tbody>\n",
       "</table>\n",
       "<p>5 rows × 72 columns</p>\n",
       "</div>"
      ],
      "text/plain": [
       "    ship_name  ship_mobile         order_id  total_amount  final_amount  \\\n",
       "49        韵客戶  16165932641  170223222858570         109.0         109.0   \n",
       "72        红客戶  16143545425  170222203645822         109.0         109.0   \n",
       "73        红客戶  16143545425  170222210177262         109.0         109.0   \n",
       "255       慧客戶  16087220425  170223213654478         109.0         109.0   \n",
       "256       慧客戶  16087220425  170226102100615         109.0         109.0   \n",
       "\n",
       "     pay_status  ship_status is_delivery try_order  erp_order_id  \\\n",
       "49            1            1           Y     False             1   \n",
       "72            1            1           Y     False             1   \n",
       "73            1            1           Y     False             1   \n",
       "255           1            1           Y     False             1   \n",
       "256           1            1           Y     False             1   \n",
       "\n",
       "            ...          fuzzy   longitude   latitude scalping  \\\n",
       "49          ...              0  121.449223  31.271176    False   \n",
       "72          ...              0  121.376013  31.165447    False   \n",
       "73          ...              0  121.589999  31.205951    False   \n",
       "255         ...              0         NaN        NaN    False   \n",
       "256         ...              0  121.568156  31.234188    False   \n",
       "\n",
       "             out_trade_no autoSendErp  autoSendErpStatus string_tag_id  \\\n",
       "49   17022322285857080738        True                  1           NaN   \n",
       "72   17022220364582253518        True                  1           NaN   \n",
       "73   17022221017726249493        True                  1           NaN   \n",
       "255  17022321365447844006        True                  1           NaN   \n",
       "256  17022610210061535330        True                  1           NaN   \n",
       "\n",
       "                   lang  delivery_note_price  \n",
       "49   simplified_chinese              display  \n",
       "72   simplified_chinese              display  \n",
       "73   simplified_chinese              display  \n",
       "255  simplified_chinese              display  \n",
       "256  simplified_chinese              display  \n",
       "\n",
       "[5 rows x 72 columns]"
      ]
     },
     "execution_count": 32,
     "metadata": {},
     "output_type": "execute_result"
    }
   ],
   "source": [
    "# groupid 不为 0 的五笔订单\n",
    "other_groups = df[df.group_id != 0]\n",
    "other_groups.head()"
   ]
  },
  {
   "cell_type": "code",
   "execution_count": 33,
   "metadata": {
    "collapsed": false,
    "deletable": true,
    "editable": true
   },
   "outputs": [
    {
     "data": {
      "text/plain": [
       "109.00    664\n",
       "0.01       10\n",
       "Name: total_amount, dtype: int64"
      ]
     },
     "execution_count": 33,
     "metadata": {},
     "output_type": "execute_result"
    }
   ],
   "source": [
    "other_groups.total_amount.value_counts()"
   ]
  },
  {
   "cell_type": "markdown",
   "metadata": {
    "deletable": true,
    "editable": true
   },
   "source": [
    "- 不清楚怎么划分 group 的\n",
    "- and，找到两个神秘的消费金额 109 跟 0.01"
   ]
  },
  {
   "cell_type": "markdown",
   "metadata": {},
   "source": [
    "### groupOn_id 团购编号"
   ]
  },
  {
   "cell_type": "code",
   "execution_count": 34,
   "metadata": {
    "collapsed": false,
    "deletable": true,
    "editable": true
   },
   "outputs": [
    {
     "data": {
      "text/plain": [
       "0           5178\n",
       "44930407     436\n",
       "45392678     255\n",
       "71845949       5\n",
       "62071368       3\n",
       "26225378       1\n",
       "69258047       1\n",
       "30016813       1\n",
       "54615095       1\n",
       "Name: groupOn_id, dtype: int64"
      ]
     },
     "execution_count": 34,
     "metadata": {},
     "output_type": "execute_result"
    }
   ],
   "source": [
    "df.groupOn_id.value_counts()"
   ]
  },
  {
   "cell_type": "code",
   "execution_count": 35,
   "metadata": {
    "collapsed": false,
    "deletable": true,
    "editable": true
   },
   "outputs": [
    {
     "data": {
      "text/html": [
       "<div>\n",
       "<table border=\"1\" class=\"dataframe\">\n",
       "  <thead>\n",
       "    <tr style=\"text-align: right;\">\n",
       "      <th></th>\n",
       "      <th>ship_name</th>\n",
       "      <th>ship_mobile</th>\n",
       "      <th>order_id</th>\n",
       "      <th>total_amount</th>\n",
       "      <th>final_amount</th>\n",
       "      <th>pay_status</th>\n",
       "      <th>ship_status</th>\n",
       "      <th>is_delivery</th>\n",
       "      <th>try_order</th>\n",
       "      <th>erp_order_id</th>\n",
       "      <th>...</th>\n",
       "      <th>fuzzy</th>\n",
       "      <th>longitude</th>\n",
       "      <th>latitude</th>\n",
       "      <th>scalping</th>\n",
       "      <th>out_trade_no</th>\n",
       "      <th>autoSendErp</th>\n",
       "      <th>autoSendErpStatus</th>\n",
       "      <th>string_tag_id</th>\n",
       "      <th>lang</th>\n",
       "      <th>delivery_note_price</th>\n",
       "    </tr>\n",
       "  </thead>\n",
       "  <tbody>\n",
       "    <tr>\n",
       "      <th>49</th>\n",
       "      <td>韵客戶</td>\n",
       "      <td>16165932641</td>\n",
       "      <td>170223222858570</td>\n",
       "      <td>109.0</td>\n",
       "      <td>109.0</td>\n",
       "      <td>1</td>\n",
       "      <td>1</td>\n",
       "      <td>Y</td>\n",
       "      <td>False</td>\n",
       "      <td>1</td>\n",
       "      <td>...</td>\n",
       "      <td>0</td>\n",
       "      <td>121.449223</td>\n",
       "      <td>31.271176</td>\n",
       "      <td>False</td>\n",
       "      <td>17022322285857080738</td>\n",
       "      <td>True</td>\n",
       "      <td>1</td>\n",
       "      <td>NaN</td>\n",
       "      <td>simplified_chinese</td>\n",
       "      <td>display</td>\n",
       "    </tr>\n",
       "    <tr>\n",
       "      <th>72</th>\n",
       "      <td>红客戶</td>\n",
       "      <td>16143545425</td>\n",
       "      <td>170222203645822</td>\n",
       "      <td>109.0</td>\n",
       "      <td>109.0</td>\n",
       "      <td>1</td>\n",
       "      <td>1</td>\n",
       "      <td>Y</td>\n",
       "      <td>False</td>\n",
       "      <td>1</td>\n",
       "      <td>...</td>\n",
       "      <td>0</td>\n",
       "      <td>121.376013</td>\n",
       "      <td>31.165447</td>\n",
       "      <td>False</td>\n",
       "      <td>17022220364582253518</td>\n",
       "      <td>True</td>\n",
       "      <td>1</td>\n",
       "      <td>NaN</td>\n",
       "      <td>simplified_chinese</td>\n",
       "      <td>display</td>\n",
       "    </tr>\n",
       "    <tr>\n",
       "      <th>256</th>\n",
       "      <td>慧客戶</td>\n",
       "      <td>16087220425</td>\n",
       "      <td>170226102100615</td>\n",
       "      <td>109.0</td>\n",
       "      <td>109.0</td>\n",
       "      <td>1</td>\n",
       "      <td>1</td>\n",
       "      <td>Y</td>\n",
       "      <td>False</td>\n",
       "      <td>1</td>\n",
       "      <td>...</td>\n",
       "      <td>0</td>\n",
       "      <td>121.568156</td>\n",
       "      <td>31.234188</td>\n",
       "      <td>False</td>\n",
       "      <td>17022610210061535330</td>\n",
       "      <td>True</td>\n",
       "      <td>1</td>\n",
       "      <td>NaN</td>\n",
       "      <td>simplified_chinese</td>\n",
       "      <td>display</td>\n",
       "    </tr>\n",
       "    <tr>\n",
       "      <th>460</th>\n",
       "      <td>蕾客戶</td>\n",
       "      <td>16068834941</td>\n",
       "      <td>170223212450614</td>\n",
       "      <td>109.0</td>\n",
       "      <td>109.0</td>\n",
       "      <td>1</td>\n",
       "      <td>1</td>\n",
       "      <td>Y</td>\n",
       "      <td>False</td>\n",
       "      <td>1</td>\n",
       "      <td>...</td>\n",
       "      <td>0</td>\n",
       "      <td>121.566394</td>\n",
       "      <td>31.229549</td>\n",
       "      <td>False</td>\n",
       "      <td>17022321245061438334</td>\n",
       "      <td>True</td>\n",
       "      <td>1</td>\n",
       "      <td>NaN</td>\n",
       "      <td>simplified_chinese</td>\n",
       "      <td>display</td>\n",
       "    </tr>\n",
       "    <tr>\n",
       "      <th>595</th>\n",
       "      <td>婕客戶</td>\n",
       "      <td>16956942662</td>\n",
       "      <td>170224141049669</td>\n",
       "      <td>109.0</td>\n",
       "      <td>109.0</td>\n",
       "      <td>1</td>\n",
       "      <td>1</td>\n",
       "      <td>Y</td>\n",
       "      <td>False</td>\n",
       "      <td>1</td>\n",
       "      <td>...</td>\n",
       "      <td>0</td>\n",
       "      <td>121.326393</td>\n",
       "      <td>31.152392</td>\n",
       "      <td>False</td>\n",
       "      <td>17022414104966943145</td>\n",
       "      <td>True</td>\n",
       "      <td>1</td>\n",
       "      <td>NaN</td>\n",
       "      <td>simplified_chinese</td>\n",
       "      <td>display</td>\n",
       "    </tr>\n",
       "  </tbody>\n",
       "</table>\n",
       "<p>5 rows × 72 columns</p>\n",
       "</div>"
      ],
      "text/plain": [
       "    ship_name  ship_mobile         order_id  total_amount  final_amount  \\\n",
       "49        韵客戶  16165932641  170223222858570         109.0         109.0   \n",
       "72        红客戶  16143545425  170222203645822         109.0         109.0   \n",
       "256       慧客戶  16087220425  170226102100615         109.0         109.0   \n",
       "460       蕾客戶  16068834941  170223212450614         109.0         109.0   \n",
       "595       婕客戶  16956942662  170224141049669         109.0         109.0   \n",
       "\n",
       "     pay_status  ship_status is_delivery try_order  erp_order_id  \\\n",
       "49            1            1           Y     False             1   \n",
       "72            1            1           Y     False             1   \n",
       "256           1            1           Y     False             1   \n",
       "460           1            1           Y     False             1   \n",
       "595           1            1           Y     False             1   \n",
       "\n",
       "            ...          fuzzy   longitude   latitude scalping  \\\n",
       "49          ...              0  121.449223  31.271176    False   \n",
       "72          ...              0  121.376013  31.165447    False   \n",
       "256         ...              0  121.568156  31.234188    False   \n",
       "460         ...              0  121.566394  31.229549    False   \n",
       "595         ...              0  121.326393  31.152392    False   \n",
       "\n",
       "             out_trade_no autoSendErp  autoSendErpStatus string_tag_id  \\\n",
       "49   17022322285857080738        True                  1           NaN   \n",
       "72   17022220364582253518        True                  1           NaN   \n",
       "256  17022610210061535330        True                  1           NaN   \n",
       "460  17022321245061438334        True                  1           NaN   \n",
       "595  17022414104966943145        True                  1           NaN   \n",
       "\n",
       "                   lang  delivery_note_price  \n",
       "49   simplified_chinese              display  \n",
       "72   simplified_chinese              display  \n",
       "256  simplified_chinese              display  \n",
       "460  simplified_chinese              display  \n",
       "595  simplified_chinese              display  \n",
       "\n",
       "[5 rows x 72 columns]"
      ]
     },
     "execution_count": 35,
     "metadata": {},
     "output_type": "execute_result"
    }
   ],
   "source": [
    "df[df.groupOn_id == 44930407].head()"
   ]
  },
  {
   "cell_type": "code",
   "execution_count": 36,
   "metadata": {
    "collapsed": false,
    "deletable": true,
    "editable": true,
    "scrolled": true
   },
   "outputs": [
    {
     "data": {
      "text/html": [
       "<div>\n",
       "<table border=\"1\" class=\"dataframe\">\n",
       "  <thead>\n",
       "    <tr style=\"text-align: right;\">\n",
       "      <th></th>\n",
       "      <th>ship_name</th>\n",
       "      <th>ship_mobile</th>\n",
       "      <th>order_id</th>\n",
       "      <th>total_amount</th>\n",
       "      <th>final_amount</th>\n",
       "      <th>pay_status</th>\n",
       "      <th>ship_status</th>\n",
       "      <th>is_delivery</th>\n",
       "      <th>try_order</th>\n",
       "      <th>erp_order_id</th>\n",
       "      <th>...</th>\n",
       "      <th>fuzzy</th>\n",
       "      <th>longitude</th>\n",
       "      <th>latitude</th>\n",
       "      <th>scalping</th>\n",
       "      <th>out_trade_no</th>\n",
       "      <th>autoSendErp</th>\n",
       "      <th>autoSendErpStatus</th>\n",
       "      <th>string_tag_id</th>\n",
       "      <th>lang</th>\n",
       "      <th>delivery_note_price</th>\n",
       "    </tr>\n",
       "  </thead>\n",
       "  <tbody>\n",
       "    <tr>\n",
       "      <th>5776</th>\n",
       "      <td>试客戶</td>\n",
       "      <td>16131902304</td>\n",
       "      <td>170321131884200</td>\n",
       "      <td>0.01</td>\n",
       "      <td>0.01</td>\n",
       "      <td>0</td>\n",
       "      <td>0</td>\n",
       "      <td>Y</td>\n",
       "      <td>False</td>\n",
       "      <td>1</td>\n",
       "      <td>...</td>\n",
       "      <td>0</td>\n",
       "      <td>121.361239</td>\n",
       "      <td>31.224165</td>\n",
       "      <td>False</td>\n",
       "      <td>NaN</td>\n",
       "      <td>True</td>\n",
       "      <td>0</td>\n",
       "      <td>NaN</td>\n",
       "      <td>simplified_chinese</td>\n",
       "      <td>display</td>\n",
       "    </tr>\n",
       "    <tr>\n",
       "      <th>5872</th>\n",
       "      <td>试客戶</td>\n",
       "      <td>16143578853</td>\n",
       "      <td>170321174832520</td>\n",
       "      <td>0.01</td>\n",
       "      <td>0.01</td>\n",
       "      <td>5</td>\n",
       "      <td>0</td>\n",
       "      <td>Y</td>\n",
       "      <td>False</td>\n",
       "      <td>1</td>\n",
       "      <td>...</td>\n",
       "      <td>1</td>\n",
       "      <td>121.496072</td>\n",
       "      <td>31.227203</td>\n",
       "      <td>False</td>\n",
       "      <td>17032117483252095984</td>\n",
       "      <td>True</td>\n",
       "      <td>0</td>\n",
       "      <td>NaN</td>\n",
       "      <td>simplified_chinese</td>\n",
       "      <td>display</td>\n",
       "    </tr>\n",
       "    <tr>\n",
       "      <th>5877</th>\n",
       "      <td>试客戶</td>\n",
       "      <td>16131902304</td>\n",
       "      <td>170321174148126</td>\n",
       "      <td>0.01</td>\n",
       "      <td>0.01</td>\n",
       "      <td>5</td>\n",
       "      <td>0</td>\n",
       "      <td>Y</td>\n",
       "      <td>False</td>\n",
       "      <td>1</td>\n",
       "      <td>...</td>\n",
       "      <td>0</td>\n",
       "      <td>121.361239</td>\n",
       "      <td>31.224165</td>\n",
       "      <td>False</td>\n",
       "      <td>17032117414812604340</td>\n",
       "      <td>True</td>\n",
       "      <td>0</td>\n",
       "      <td>NaN</td>\n",
       "      <td>simplified_chinese</td>\n",
       "      <td>display</td>\n",
       "    </tr>\n",
       "    <tr>\n",
       "      <th>5878</th>\n",
       "      <td>试客戶</td>\n",
       "      <td>16131902304</td>\n",
       "      <td>170321181781984</td>\n",
       "      <td>0.01</td>\n",
       "      <td>0.01</td>\n",
       "      <td>5</td>\n",
       "      <td>0</td>\n",
       "      <td>Y</td>\n",
       "      <td>False</td>\n",
       "      <td>1</td>\n",
       "      <td>...</td>\n",
       "      <td>0</td>\n",
       "      <td>121.361239</td>\n",
       "      <td>31.224165</td>\n",
       "      <td>False</td>\n",
       "      <td>17032118178198482615</td>\n",
       "      <td>True</td>\n",
       "      <td>0</td>\n",
       "      <td>NaN</td>\n",
       "      <td>simplified_chinese</td>\n",
       "      <td>display</td>\n",
       "    </tr>\n",
       "    <tr>\n",
       "      <th>5879</th>\n",
       "      <td>试客戶</td>\n",
       "      <td>16131902304</td>\n",
       "      <td>170321184552421</td>\n",
       "      <td>0.01</td>\n",
       "      <td>0.01</td>\n",
       "      <td>1</td>\n",
       "      <td>0</td>\n",
       "      <td>Y</td>\n",
       "      <td>False</td>\n",
       "      <td>1</td>\n",
       "      <td>...</td>\n",
       "      <td>0</td>\n",
       "      <td>121.361239</td>\n",
       "      <td>31.224165</td>\n",
       "      <td>False</td>\n",
       "      <td>17032118455242145306</td>\n",
       "      <td>True</td>\n",
       "      <td>0</td>\n",
       "      <td>NaN</td>\n",
       "      <td>simplified_chinese</td>\n",
       "      <td>display</td>\n",
       "    </tr>\n",
       "  </tbody>\n",
       "</table>\n",
       "<p>5 rows × 72 columns</p>\n",
       "</div>"
      ],
      "text/plain": [
       "     ship_name  ship_mobile         order_id  total_amount  final_amount  \\\n",
       "5776       试客戶  16131902304  170321131884200          0.01          0.01   \n",
       "5872       试客戶  16143578853  170321174832520          0.01          0.01   \n",
       "5877       试客戶  16131902304  170321174148126          0.01          0.01   \n",
       "5878       试客戶  16131902304  170321181781984          0.01          0.01   \n",
       "5879       试客戶  16131902304  170321184552421          0.01          0.01   \n",
       "\n",
       "      pay_status  ship_status is_delivery try_order  erp_order_id  \\\n",
       "5776           0            0           Y     False             1   \n",
       "5872           5            0           Y     False             1   \n",
       "5877           5            0           Y     False             1   \n",
       "5878           5            0           Y     False             1   \n",
       "5879           1            0           Y     False             1   \n",
       "\n",
       "             ...          fuzzy   longitude   latitude scalping  \\\n",
       "5776         ...              0  121.361239  31.224165    False   \n",
       "5872         ...              1  121.496072  31.227203    False   \n",
       "5877         ...              0  121.361239  31.224165    False   \n",
       "5878         ...              0  121.361239  31.224165    False   \n",
       "5879         ...              0  121.361239  31.224165    False   \n",
       "\n",
       "              out_trade_no autoSendErp  autoSendErpStatus string_tag_id  \\\n",
       "5776                   NaN        True                  0           NaN   \n",
       "5872  17032117483252095984        True                  0           NaN   \n",
       "5877  17032117414812604340        True                  0           NaN   \n",
       "5878  17032118178198482615        True                  0           NaN   \n",
       "5879  17032118455242145306        True                  0           NaN   \n",
       "\n",
       "                    lang  delivery_note_price  \n",
       "5776  simplified_chinese              display  \n",
       "5872  simplified_chinese              display  \n",
       "5877  simplified_chinese              display  \n",
       "5878  simplified_chinese              display  \n",
       "5879  simplified_chinese              display  \n",
       "\n",
       "[5 rows x 72 columns]"
      ]
     },
     "execution_count": 36,
     "metadata": {},
     "output_type": "execute_result"
    }
   ],
   "source": [
    "df[df.groupOn_id == 71845949].head()"
   ]
  },
  {
   "cell_type": "markdown",
   "metadata": {
    "deletable": true,
    "editable": true
   },
   "source": [
    "- 109 跟 0.01 应该是两种团购的价格\n",
    "- 0.01 for 测试？"
   ]
  },
  {
   "cell_type": "markdown",
   "metadata": {},
   "source": [
    "### is_leader 是否为带路货(?)"
   ]
  },
  {
   "cell_type": "code",
   "execution_count": 37,
   "metadata": {
    "collapsed": false,
    "deletable": true,
    "editable": true
   },
   "outputs": [
    {
     "data": {
      "text/plain": [
       "0    5568\n",
       "1     313\n",
       "Name: is_leader, dtype: int64"
      ]
     },
     "execution_count": 37,
     "metadata": {},
     "output_type": "execute_result"
    }
   ],
   "source": [
    "df.is_leader.value_counts()"
   ]
  },
  {
   "cell_type": "code",
   "execution_count": 38,
   "metadata": {
    "collapsed": false
   },
   "outputs": [
    {
     "data": {
      "text/plain": [
       "109.00    303\n",
       "0.01       10\n",
       "Name: total_amount, dtype: int64"
      ]
     },
     "execution_count": 38,
     "metadata": {},
     "output_type": "execute_result"
    }
   ],
   "source": [
    "# 带路货 vs 商品价格\n",
    "df[df.is_leader == 1].total_amount.value_counts()"
   ]
  },
  {
   "cell_type": "markdown",
   "metadata": {},
   "source": [
    "### is_prepare"
   ]
  },
  {
   "cell_type": "code",
   "execution_count": 39,
   "metadata": {
    "collapsed": false,
    "deletable": true,
    "editable": true
   },
   "outputs": [
    {
     "data": {
      "text/plain": [
       "0    5881\n",
       "Name: is_prepare, dtype: int64"
      ]
     },
     "execution_count": 39,
     "metadata": {},
     "output_type": "execute_result"
    }
   ],
   "source": [
    "df.is_prepare.value_counts()"
   ]
  },
  {
   "cell_type": "markdown",
   "metadata": {
    "deletable": true,
    "editable": true
   },
   "source": [
    "- 不管这是什么，全部都同一个值\n",
    "- 分析可忽略此字段"
   ]
  },
  {
   "cell_type": "markdown",
   "metadata": {},
   "source": [
    "### group_num"
   ]
  },
  {
   "cell_type": "code",
   "execution_count": 40,
   "metadata": {
    "collapsed": false,
    "deletable": true,
    "editable": true
   },
   "outputs": [
    {
     "data": {
      "text/plain": [
       "0    5568\n",
       "3     313\n",
       "Name: group_num, dtype: int64"
      ]
     },
     "execution_count": 40,
     "metadata": {},
     "output_type": "execute_result"
    }
   ],
   "source": [
    "# group_num\n",
    "df.group_num.value_counts()"
   ]
  },
  {
   "cell_type": "markdown",
   "metadata": {},
   "source": [
    "### status 订单状态(?)"
   ]
  },
  {
   "cell_type": "code",
   "execution_count": 41,
   "metadata": {
    "collapsed": false,
    "deletable": true,
    "editable": true
   },
   "outputs": [
    {
     "data": {
      "text/plain": [
       "finish      4696\n",
       "dead         796\n",
       "active       388\n",
       "pendding       1\n",
       "Name: status, dtype: int64"
      ]
     },
     "execution_count": 41,
     "metadata": {},
     "output_type": "execute_result"
    }
   ],
   "source": [
    "df.status.value_counts()"
   ]
  },
  {
   "cell_type": "markdown",
   "metadata": {},
   "source": [
    "### confirm_delivery 确认交付"
   ]
  },
  {
   "cell_type": "code",
   "execution_count": 42,
   "metadata": {
    "collapsed": false,
    "deletable": true,
    "editable": true
   },
   "outputs": [
    {
     "data": {
      "text/plain": [
       "Y    4530\n",
       "N    1351\n",
       "Name: confirm_delivery, dtype: int64"
      ]
     },
     "execution_count": 42,
     "metadata": {},
     "output_type": "execute_result"
    }
   ],
   "source": [
    "df.confirm_delivery.value_counts()"
   ]
  },
  {
   "cell_type": "markdown",
   "metadata": {},
   "source": [
    "### confirm 确认"
   ]
  },
  {
   "cell_type": "code",
   "execution_count": 43,
   "metadata": {
    "collapsed": false,
    "deletable": true,
    "editable": true
   },
   "outputs": [
    {
     "data": {
      "text/plain": [
       "N    5881\n",
       "Name: confirm, dtype: int64"
      ]
     },
     "execution_count": 43,
     "metadata": {},
     "output_type": "execute_result"
    }
   ],
   "source": [
    " df.confirm.value_counts()"
   ]
  },
  {
   "cell_type": "markdown",
   "metadata": {
    "deletable": true,
    "editable": true
   },
   "source": [
    "- 额... 全部都没有确认\n",
    "- 分析可忽略此字段"
   ]
  },
  {
   "cell_type": "markdown",
   "metadata": {},
   "source": [
    "### ship_area 出货地区"
   ]
  },
  {
   "cell_type": "code",
   "execution_count": 44,
   "metadata": {
    "collapsed": false,
    "deletable": true,
    "editable": true
   },
   "outputs": [
    {
     "data": {
      "text/plain": [
       "mainland:上海/上海市/浦东新区:35                    1372\n",
       "mainland:上海/上海市/长宁区:26                      572\n",
       "mainland:上海/上海市/徐汇区:25                      567\n",
       "mainland:上海/上海市/闵行区:36                      561\n",
       "mainland:上海/上海市/普陀区:28                      460\n",
       "mainland:上海/上海市/黄浦区:23                      365\n",
       "mainland:上海/上海市/宝山区:37                      365\n",
       "mainland:上海/上海市/杨浦区:31                      351\n",
       "mainland:上海/上海市/静安区:27                      316\n",
       "mainland:上海/上海市/虹口区:30                      214\n",
       "mainland:上海/上海市/闸北区:29                      189\n",
       "mainland:上海/上海市/嘉定区:38                      142\n",
       "mainland:上海/上海市/松江区:41                      139\n",
       "mainland:上海/上海市/青浦区:40                      110\n",
       "mainland:上海/上海市/卢湾区:24                       91\n",
       "mainland:上海/上海市/金山区:44                       13\n",
       "mainland:上海/上海市/奉贤区:39                       11\n",
       "mainland:Shanghai/Shanghai/Jingan:27          9\n",
       "mainland:Shanghai/Shanghai/Xuhui:25           8\n",
       "mainland:Shanghai/Shanghai/Changning:26       7\n",
       "mainland:上海/上海市/南汇区:42                        4\n",
       "mainland:Shanghai/Shanghai/Songjiang:41       3\n",
       "mainland:Shanghai/Shanghai/Huangpu:23         3\n",
       "mainland:Shanghai/Shanghai/Zhabei:29          3\n",
       "mainland:上海/上海市/南汇区:46                        3\n",
       "mainland:上海/上海市/奉贤区:48                        1\n",
       "mainland:Shanghai/Shanghai/Pudong:35          1\n",
       "mainland:Shanghai/Shanghai/Hongkou:30         1\n",
       "Name: ship_area, dtype: int64"
      ]
     },
     "execution_count": 44,
     "metadata": {},
     "output_type": "execute_result"
    }
   ],
   "source": [
    "df.ship_area.value_counts()"
   ]
  },
  {
   "cell_type": "markdown",
   "metadata": {
    "deletable": true,
    "editable": true
   },
   "source": [
    "- 出货地区有中文、英文\n",
    "- 可以抽取 area code"
   ]
  },
  {
   "cell_type": "code",
   "execution_count": 45,
   "metadata": {
    "collapsed": false,
    "deletable": true,
    "editable": true
   },
   "outputs": [
    {
     "data": {
      "text/plain": [
       "35    1373\n",
       "26     579\n",
       "25     575\n",
       "36     561\n",
       "28     460\n",
       "23     368\n",
       "37     365\n",
       "31     351\n",
       "27     325\n",
       "30     215\n",
       "29     192\n",
       "38     142\n",
       "41     142\n",
       "40     110\n",
       "24      91\n",
       "44      13\n",
       "39      11\n",
       "42       4\n",
       "46       3\n",
       "48       1\n",
       "Name: ship_area, dtype: int64"
      ]
     },
     "execution_count": 45,
     "metadata": {},
     "output_type": "execute_result"
    }
   ],
   "source": [
    "# 改写 ship_area\n",
    "df.ship_area = df.ship_area.map(lambda area: area.split(':')[-1])\n",
    "df.ship_area.value_counts()"
   ]
  },
  {
   "cell_type": "markdown",
   "metadata": {},
   "source": [
    "### weight 重量"
   ]
  },
  {
   "cell_type": "code",
   "execution_count": 46,
   "metadata": {
    "collapsed": false,
    "deletable": true,
    "editable": true
   },
   "outputs": [
    {
     "data": {
      "text/plain": [
       "count     5881.000000\n",
       "mean      1233.710593\n",
       "std       1404.636672\n",
       "min          0.000000\n",
       "25%        231.000000\n",
       "50%        801.000000\n",
       "75%       1535.000000\n",
       "max      16377.000000\n",
       "Name: weight, dtype: float64"
      ]
     },
     "execution_count": 46,
     "metadata": {},
     "output_type": "execute_result"
    }
   ],
   "source": [
    "df.weight.describe()"
   ]
  },
  {
   "cell_type": "markdown",
   "metadata": {
    "deletable": true,
    "editable": true
   },
   "source": [
    "- 平均 1233.710593 （公克吗？）\n",
    "- 最轻 0 （空气？）\n",
    "- 最重 16377"
   ]
  },
  {
   "cell_type": "code",
   "execution_count": 47,
   "metadata": {
    "collapsed": false,
    "deletable": true,
    "editable": true
   },
   "outputs": [
    {
     "data": {
      "text/plain": [
       "<matplotlib.axes._subplots.AxesSubplot at 0x1149d3950>"
      ]
     },
     "execution_count": 47,
     "metadata": {},
     "output_type": "execute_result"
    },
    {
     "data": {
      "image/png": "[encoded data removed]",
      "text/plain": [
       "<matplotlib.figure.Figure at 0x114b47410>"
      ]
     },
     "metadata": {},
     "output_type": "display_data"
    }
   ],
   "source": [
    "df.weight.hist(bins=20)"
   ]
  },
  {
   "cell_type": "markdown",
   "metadata": {},
   "source": [
    "### tostr"
   ]
  },
  {
   "cell_type": "code",
   "execution_count": 48,
   "metadata": {
    "collapsed": false,
    "deletable": true,
    "editable": true
   },
   "outputs": [
    {
     "data": {
      "text/plain": [
       "订单明细介绍    5832\n",
       "订单名称介绍      15\n",
       "Name: tostr, dtype: int64"
      ]
     },
     "execution_count": 48,
     "metadata": {},
     "output_type": "execute_result"
    }
   ],
   "source": [
    "df.tostr.value_counts()"
   ]
  },
  {
   "cell_type": "markdown",
   "metadata": {},
   "source": [
    "### itemnum"
   ]
  },
  {
   "cell_type": "code",
   "execution_count": 49,
   "metadata": {
    "collapsed": false,
    "deletable": true,
    "editable": true
   },
   "outputs": [
    {
     "data": {
      "text/plain": [
       "count    5881.000000\n",
       "mean        4.071246\n",
       "std         4.198784\n",
       "min         0.000000\n",
       "25%         1.000000\n",
       "50%         2.000000\n",
       "75%         6.000000\n",
       "max        37.000000\n",
       "Name: itemnum, dtype: float64"
      ]
     },
     "execution_count": 49,
     "metadata": {},
     "output_type": "execute_result"
    }
   ],
   "source": [
    "df.itemnum.describe()"
   ]
  },
  {
   "cell_type": "code",
   "execution_count": 50,
   "metadata": {
    "collapsed": false,
    "deletable": true,
    "editable": true
   },
   "outputs": [
    {
     "data": {
      "text/plain": [
       "<matplotlib.axes._subplots.AxesSubplot at 0x114c46750>"
      ]
     },
     "execution_count": 50,
     "metadata": {},
     "output_type": "execute_result"
    },
    {
     "data": {
      "image/png": "[encoded data removed]",
      "text/plain": [
       "<matplotlib.figure.Figure at 0x114c6dcd0>"
      ]
     },
     "metadata": {},
     "output_type": "display_data"
    }
   ],
   "source": [
    "df.itemnum.hist(bins=20)"
   ]
  },
  {
   "cell_type": "markdown",
   "metadata": {},
   "source": [
    "### ip"
   ]
  },
  {
   "cell_type": "code",
   "execution_count": 51,
   "metadata": {
    "collapsed": false
   },
   "outputs": [
    {
     "data": {
      "text/plain": [
       "139.196.30.225     4258\n",
       "101.200.101.208     363\n",
       "123.57.117.83       112\n",
       "116.228.216.18      106\n",
       "120.27.173.213       36\n",
       "218.56.32.164        14\n",
       "116.237.20.40        11\n",
       "101.200.101.202       9\n",
       "61.171.64.63          8\n",
       "218.81.94.237         7\n",
       "Name: ip, dtype: int64"
      ]
     },
     "execution_count": 51,
     "metadata": {},
     "output_type": "execute_result"
    }
   ],
   "source": [
    "df.ip.value_counts().head(10)"
   ]
  },
  {
   "cell_type": "markdown",
   "metadata": {},
   "source": [
    "```\n",
    "WHOIS Results for：139.196.30.225\n",
    "% [whois.apnic.net]\n",
    "% Whois data copyright terms http://www.apnic.net/db/dbcopyright.html\n",
    "\n",
    "% Information related to \\'139.196.0.0 - 139.196.255.255\\'\n",
    "\n",
    "inetnum: 139.196.0.0 - 139.196.255.255\n",
    "netname: ALISOFT\n",
    "descr: Aliyun Computing Co., LTD\n",
    "descr: 5F, Builing D, the West Lake International Plaza of S&T\n",
    "descr: No.391 Wen\\'er Road, Hangzhou, Zhejiang, China, 310099\n",
    "country: CN\n",
    "admin-c: ZM1015-AP\n",
    "tech-c: ZM877-AP\n",
    "tech-c: ZM876-AP\n",
    "tech-c: ZM875-AP\n",
    "mnt-by: MAINT-CNNIC-AP\n",
    "mnt-irt: IRT-CNNIC-CN\n",
    "status: ALLOCATED PORTABLE\n",
    "changed: ipas@cnnic.cn 20140730\n",
    "source: APNIC\n",
    "```\n",
    "主要订单都来自阿里(服务器)?"
   ]
  },
  {
   "cell_type": "markdown",
   "metadata": {},
   "source": [
    "### ship_addr 出货地址"
   ]
  },
  {
   "cell_type": "code",
   "execution_count": 52,
   "metadata": {
    "collapsed": false
   },
   "outputs": [
    {
     "data": {
      "text/plain": [
       "上海上海市长宁区芙蓉江路388弄20号301     23\n",
       "上海上海市浦东新区东陆路429弄21号702     21\n",
       "上海上海市闵行区古龙路287弄77号101      13\n",
       "上海上海市杨浦区政和路999弄22号401室     13\n",
       "上海上海市长宁区芙蓉江路388弄16号1001    12\n",
       "Name: ship_addr, dtype: int64"
      ]
     },
     "execution_count": 52,
     "metadata": {},
     "output_type": "execute_result"
    }
   ],
   "source": [
    "df.ship_addr.value_counts().head()"
   ]
  },
  {
   "cell_type": "markdown",
   "metadata": {},
   "source": [
    "### ship_zip 邮递区号"
   ]
  },
  {
   "cell_type": "code",
   "execution_count": 53,
   "metadata": {
    "collapsed": false
   },
   "outputs": [
    {
     "data": {
      "text/plain": [
       "200001.0    3828\n",
       "0.0         2053\n",
       "Name: ship_zip, dtype: int64"
      ]
     },
     "execution_count": 53,
     "metadata": {},
     "output_type": "execute_result"
    }
   ],
   "source": [
    "df.ship_zip.fillna(0).value_counts()"
   ]
  },
  {
   "cell_type": "markdown",
   "metadata": {},
   "source": [
    "### ship_tel 出货电话"
   ]
  },
  {
   "cell_type": "code",
   "execution_count": 54,
   "metadata": {
    "collapsed": false
   },
   "outputs": [
    {
     "data": {
      "text/plain": [
       "0              5761\n",
       "13472667545       3\n",
       "18917577319       3\n",
       "13301816996       3\n",
       "13761086123       3\n",
       "Name: ship_tel, dtype: int64"
      ]
     },
     "execution_count": 54,
     "metadata": {},
     "output_type": "execute_result"
    }
   ],
   "source": [
    "df.ship_tel.fillna(0).value_counts().head()"
   ]
  },
  {
   "cell_type": "code",
   "execution_count": 55,
   "metadata": {
    "collapsed": false
   },
   "outputs": [
    {
     "data": {
      "text/html": [
       "<div>\n",
       "<table border=\"1\" class=\"dataframe\">\n",
       "  <thead>\n",
       "    <tr style=\"text-align: right;\">\n",
       "      <th></th>\n",
       "      <th>ship_name</th>\n",
       "      <th>ship_mobile</th>\n",
       "      <th>order_id</th>\n",
       "      <th>total_amount</th>\n",
       "      <th>final_amount</th>\n",
       "      <th>pay_status</th>\n",
       "      <th>ship_status</th>\n",
       "      <th>is_delivery</th>\n",
       "      <th>try_order</th>\n",
       "      <th>erp_order_id</th>\n",
       "      <th>...</th>\n",
       "      <th>fuzzy</th>\n",
       "      <th>longitude</th>\n",
       "      <th>latitude</th>\n",
       "      <th>scalping</th>\n",
       "      <th>out_trade_no</th>\n",
       "      <th>autoSendErp</th>\n",
       "      <th>autoSendErpStatus</th>\n",
       "      <th>string_tag_id</th>\n",
       "      <th>lang</th>\n",
       "      <th>delivery_note_price</th>\n",
       "    </tr>\n",
       "  </thead>\n",
       "  <tbody>\n",
       "    <tr>\n",
       "      <th>5717</th>\n",
       "      <td>青客戶</td>\n",
       "      <td>16066609777</td>\n",
       "      <td>170315081329807</td>\n",
       "      <td>79.0</td>\n",
       "      <td>79.0</td>\n",
       "      <td>1</td>\n",
       "      <td>0</td>\n",
       "      <td>Y</td>\n",
       "      <td>False</td>\n",
       "      <td>1</td>\n",
       "      <td>...</td>\n",
       "      <td>0</td>\n",
       "      <td>121.467531</td>\n",
       "      <td>31.185439</td>\n",
       "      <td>False</td>\n",
       "      <td>17031508132980747405</td>\n",
       "      <td>True</td>\n",
       "      <td>1</td>\n",
       "      <td>NaN</td>\n",
       "      <td>simplified_chinese</td>\n",
       "      <td>display</td>\n",
       "    </tr>\n",
       "    <tr>\n",
       "      <th>5718</th>\n",
       "      <td>青客戶</td>\n",
       "      <td>16066609777</td>\n",
       "      <td>170315174338528</td>\n",
       "      <td>62.0</td>\n",
       "      <td>62.0</td>\n",
       "      <td>1</td>\n",
       "      <td>1</td>\n",
       "      <td>Y</td>\n",
       "      <td>False</td>\n",
       "      <td>1</td>\n",
       "      <td>...</td>\n",
       "      <td>0</td>\n",
       "      <td>121.467531</td>\n",
       "      <td>31.185439</td>\n",
       "      <td>False</td>\n",
       "      <td>17031517433852859308</td>\n",
       "      <td>True</td>\n",
       "      <td>1</td>\n",
       "      <td>NaN</td>\n",
       "      <td>simplified_chinese</td>\n",
       "      <td>display</td>\n",
       "    </tr>\n",
       "    <tr>\n",
       "      <th>5719</th>\n",
       "      <td>青客戶</td>\n",
       "      <td>16066609777</td>\n",
       "      <td>170315233813201</td>\n",
       "      <td>172.0</td>\n",
       "      <td>172.0</td>\n",
       "      <td>1</td>\n",
       "      <td>1</td>\n",
       "      <td>Y</td>\n",
       "      <td>False</td>\n",
       "      <td>1</td>\n",
       "      <td>...</td>\n",
       "      <td>0</td>\n",
       "      <td>121.467531</td>\n",
       "      <td>31.185439</td>\n",
       "      <td>False</td>\n",
       "      <td>17031523381320191512</td>\n",
       "      <td>True</td>\n",
       "      <td>1</td>\n",
       "      <td>NaN</td>\n",
       "      <td>simplified_chinese</td>\n",
       "      <td>display</td>\n",
       "    </tr>\n",
       "  </tbody>\n",
       "</table>\n",
       "<p>3 rows × 72 columns</p>\n",
       "</div>"
      ],
      "text/plain": [
       "     ship_name  ship_mobile         order_id  total_amount  final_amount  \\\n",
       "5717       青客戶  16066609777  170315081329807          79.0          79.0   \n",
       "5718       青客戶  16066609777  170315174338528          62.0          62.0   \n",
       "5719       青客戶  16066609777  170315233813201         172.0         172.0   \n",
       "\n",
       "      pay_status  ship_status is_delivery try_order  erp_order_id  \\\n",
       "5717           1            0           Y     False             1   \n",
       "5718           1            1           Y     False             1   \n",
       "5719           1            1           Y     False             1   \n",
       "\n",
       "             ...          fuzzy   longitude   latitude scalping  \\\n",
       "5717         ...              0  121.467531  31.185439    False   \n",
       "5718         ...              0  121.467531  31.185439    False   \n",
       "5719         ...              0  121.467531  31.185439    False   \n",
       "\n",
       "              out_trade_no autoSendErp  autoSendErpStatus string_tag_id  \\\n",
       "5717  17031508132980747405        True                  1           NaN   \n",
       "5718  17031517433852859308        True                  1           NaN   \n",
       "5719  17031523381320191512        True                  1           NaN   \n",
       "\n",
       "                    lang  delivery_note_price  \n",
       "5717  simplified_chinese              display  \n",
       "5718  simplified_chinese              display  \n",
       "5719  simplified_chinese              display  \n",
       "\n",
       "[3 rows x 72 columns]"
      ]
     },
     "execution_count": 55,
     "metadata": {},
     "output_type": "execute_result"
    }
   ],
   "source": [
    "df[df.ship_tel == '13472667545']"
   ]
  },
  {
   "cell_type": "markdown",
   "metadata": {},
   "source": [
    "### ship_email 出货邮件"
   ]
  },
  {
   "cell_type": "code",
   "execution_count": 56,
   "metadata": {
    "collapsed": false
   },
   "outputs": [
    {
     "data": {
      "text/plain": [
       "?    5881\n",
       "Name: ship_email, dtype: int64"
      ]
     },
     "execution_count": 56,
     "metadata": {},
     "output_type": "execute_result"
    }
   ],
   "source": [
    "df.ship_email.fillna('?').value_counts()"
   ]
  },
  {
   "cell_type": "markdown",
   "metadata": {},
   "source": [
    "- 全部为空\n",
    "- 分析可忽略此字段"
   ]
  },
  {
   "cell_type": "markdown",
   "metadata": {},
   "source": [
    "### ship_time 出货时间"
   ]
  },
  {
   "cell_type": "code",
   "execution_count": 57,
   "metadata": {
    "collapsed": false,
    "scrolled": true
   },
   "outputs": [
    {
     "data": {
      "text/plain": [
       "全天             1501\n",
       "14:00-21:00    1429\n",
       "08:00-12:00    1319\n",
       "14:00-18:00     863\n",
       "18:00-21:00     580\n",
       "??              146\n",
       "2017-02-11        7\n",
       "2017-03-18        6\n",
       "2017-01-14        6\n",
       "2017-02-25        5\n",
       "2017-03-11        4\n",
       "2017-03-04        4\n",
       "2017-02-17        3\n",
       "2017-01-07        2\n",
       "2017-01-21        2\n",
       "8:00-12:00        2\n",
       "2017-03-25        1\n",
       "All day           1\n",
       "Name: ship_time, dtype: int64"
      ]
     },
     "execution_count": 57,
     "metadata": {},
     "output_type": "execute_result"
    }
   ],
   "source": [
    "df.ship_time.fillna('??,??').map(lambda x: x.split(',')[1]).value_counts()"
   ]
  },
  {
   "cell_type": "markdown",
   "metadata": {},
   "source": [
    "- 全天：1501\n",
    "- 上午：1319\n",
    "- 下午：863\n",
    "- 晚上：580\n",
    "- 下午以后：1429\n",
    "- 有部分无效数据"
   ]
  },
  {
   "cell_type": "markdown",
   "metadata": {},
   "source": [
    "### cost_item"
   ]
  },
  {
   "cell_type": "code",
   "execution_count": 58,
   "metadata": {
    "collapsed": false
   },
   "outputs": [
    {
     "data": {
      "text/plain": [
       "109.0    697\n",
       "75.0     220\n",
       "158.0    101\n",
       "93.0      98\n",
       "87.0      95\n",
       "Name: cost_item, dtype: int64"
      ]
     },
     "execution_count": 58,
     "metadata": {},
     "output_type": "execute_result"
    }
   ],
   "source": [
    "df.cost_item.value_counts().head()"
   ]
  },
  {
   "cell_type": "markdown",
   "metadata": {},
   "source": [
    "### is_tax"
   ]
  },
  {
   "cell_type": "code",
   "execution_count": 59,
   "metadata": {
    "collapsed": false
   },
   "outputs": [
    {
     "data": {
      "text/plain": [
       "False    5302\n",
       "True      579\n",
       "Name: is_tax, dtype: int64"
      ]
     },
     "execution_count": 59,
     "metadata": {},
     "output_type": "execute_result"
    }
   ],
   "source": [
    "df.is_tax.value_counts()"
   ]
  },
  {
   "cell_type": "markdown",
   "metadata": {},
   "source": [
    "### tax_type"
   ]
  },
  {
   "cell_type": "code",
   "execution_count": 60,
   "metadata": {
    "collapsed": false
   },
   "outputs": [
    {
     "data": {
      "text/plain": [
       "false       5271\n",
       "company      407\n",
       "personal     172\n",
       "Name: tax_type, dtype: int64"
      ]
     },
     "execution_count": 60,
     "metadata": {},
     "output_type": "execute_result"
    }
   ],
   "source": [
    "df.tax_type.value_counts()"
   ]
  },
  {
   "cell_type": "markdown",
   "metadata": {},
   "source": [
    "### cost_tax"
   ]
  },
  {
   "cell_type": "code",
   "execution_count": 61,
   "metadata": {
    "collapsed": false
   },
   "outputs": [
    {
     "data": {
      "text/plain": [
       "0.0    5881\n",
       "Name: cost_tax, dtype: int64"
      ]
     },
     "execution_count": 61,
     "metadata": {},
     "output_type": "execute_result"
    }
   ],
   "source": [
    "df.cost_tax.value_counts()"
   ]
  },
  {
   "cell_type": "markdown",
   "metadata": {},
   "source": [
    "### is_protect"
   ]
  },
  {
   "cell_type": "code",
   "execution_count": 62,
   "metadata": {
    "collapsed": false
   },
   "outputs": [
    {
     "data": {
      "text/plain": [
       "False    5881\n",
       "Name: is_protect, dtype: int64"
      ]
     },
     "execution_count": 62,
     "metadata": {},
     "output_type": "execute_result"
    }
   ],
   "source": [
    "df.is_protect.value_counts()"
   ]
  },
  {
   "cell_type": "markdown",
   "metadata": {},
   "source": [
    "- 都是 False\n",
    "- 分析可以滤掉"
   ]
  },
  {
   "cell_type": "markdown",
   "metadata": {},
   "source": [
    "### cost_protect"
   ]
  },
  {
   "cell_type": "code",
   "execution_count": 63,
   "metadata": {
    "collapsed": false
   },
   "outputs": [
    {
     "data": {
      "text/plain": [
       "0.0    5881\n",
       "Name: cost_protect, dtype: int64"
      ]
     },
     "execution_count": 63,
     "metadata": {},
     "output_type": "execute_result"
    }
   ],
   "source": [
    "df.cost_protect.value_counts()"
   ]
  },
  {
   "cell_type": "markdown",
   "metadata": {},
   "source": [
    "- 都是 0\n",
    "- 分析可以滤掉"
   ]
  },
  {
   "cell_type": "markdown",
   "metadata": {},
   "source": [
    "### cost_payment"
   ]
  },
  {
   "cell_type": "code",
   "execution_count": 64,
   "metadata": {
    "collapsed": false,
    "deletable": true,
    "editable": true
   },
   "outputs": [
    {
     "data": {
      "text/plain": [
       "0.0    5164\n",
       "Name: cost_payment, dtype: int64"
      ]
     },
     "execution_count": 64,
     "metadata": {},
     "output_type": "execute_result"
    }
   ],
   "source": [
    "df.cost_payment.value_counts()"
   ]
  },
  {
   "cell_type": "markdown",
   "metadata": {
    "deletable": true,
    "editable": true
   },
   "source": [
    "- 都是 0\n",
    "- 分析可以滤掉"
   ]
  },
  {
   "cell_type": "markdown",
   "metadata": {},
   "source": [
    "### currency"
   ]
  },
  {
   "cell_type": "code",
   "execution_count": 65,
   "metadata": {
    "collapsed": false,
    "deletable": true,
    "editable": true
   },
   "outputs": [
    {
     "data": {
      "text/plain": [
       "CNY    5881\n",
       "Name: currency, dtype: int64"
      ]
     },
     "execution_count": 65,
     "metadata": {},
     "output_type": "execute_result"
    }
   ],
   "source": [
    "df.currency.value_counts()"
   ]
  },
  {
   "cell_type": "markdown",
   "metadata": {
    "deletable": true,
    "editable": true
   },
   "source": [
    "- 目前业务还在中国境内\n",
    "- 分析可以滤掉"
   ]
  },
  {
   "cell_type": "markdown",
   "metadata": {},
   "source": [
    "### cur_rate"
   ]
  },
  {
   "cell_type": "code",
   "execution_count": 66,
   "metadata": {
    "collapsed": false,
    "deletable": true,
    "editable": true
   },
   "outputs": [
    {
     "data": {
      "text/plain": [
       "1.0    5881\n",
       "Name: cur_rate, dtype: int64"
      ]
     },
     "execution_count": 66,
     "metadata": {},
     "output_type": "execute_result"
    }
   ],
   "source": [
    "df.cur_rate.value_counts()"
   ]
  },
  {
   "cell_type": "markdown",
   "metadata": {
    "deletable": true,
    "editable": true
   },
   "source": [
    "- 目前业务还在中国境内\n",
    "- 分析可以滤掉"
   ]
  },
  {
   "cell_type": "markdown",
   "metadata": {},
   "source": [
    "### advance"
   ]
  },
  {
   "cell_type": "code",
   "execution_count": 67,
   "metadata": {
    "collapsed": false,
    "deletable": true,
    "editable": true
   },
   "outputs": [
    {
     "data": {
      "text/plain": [
       "0.0      5591\n",
       "200.0      41\n",
       "500.0      27\n",
       "199.0       5\n",
       "100.0       4\n",
       "Name: advance, dtype: int64"
      ]
     },
     "execution_count": 67,
     "metadata": {},
     "output_type": "execute_result"
    }
   ],
   "source": [
    "df.advance.value_counts().head()"
   ]
  },
  {
   "cell_type": "markdown",
   "metadata": {},
   "source": [
    "### score_u"
   ]
  },
  {
   "cell_type": "code",
   "execution_count": 68,
   "metadata": {
    "collapsed": false,
    "deletable": true,
    "editable": true
   },
   "outputs": [
    {
     "data": {
      "text/plain": [
       "0.0      4041\n",
       "200.0    1439\n",
       "400.0      93\n",
       "100.0       5\n",
       "236.0       4\n",
       "Name: score_u, dtype: int64"
      ]
     },
     "execution_count": 68,
     "metadata": {},
     "output_type": "execute_result"
    }
   ],
   "source": [
    "df.score_u.value_counts().head()"
   ]
  },
  {
   "cell_type": "markdown",
   "metadata": {},
   "source": [
    "### score_g"
   ]
  },
  {
   "cell_type": "code",
   "execution_count": 69,
   "metadata": {
    "collapsed": false,
    "deletable": true,
    "editable": true
   },
   "outputs": [
    {
     "data": {
      "text/plain": [
       "0.0      969\n",
       "18.0     120\n",
       "3.0      109\n",
       "15.0     108\n",
       "158.0    103\n",
       "Name: score_g, dtype: int64"
      ]
     },
     "execution_count": 69,
     "metadata": {},
     "output_type": "execute_result"
    }
   ],
   "source": [
    "df.score_g.value_counts().head()"
   ]
  },
  {
   "cell_type": "markdown",
   "metadata": {},
   "source": [
    "### discount"
   ]
  },
  {
   "cell_type": "code",
   "execution_count": 70,
   "metadata": {
    "collapsed": false,
    "deletable": true,
    "editable": true
   },
   "outputs": [
    {
     "data": {
      "text/plain": [
       " 0.0     5738\n",
       "-30.0      14\n",
       "-20.0       6\n",
       "-56.0       6\n",
       "-45.0       5\n",
       "Name: discount, dtype: int64"
      ]
     },
     "execution_count": 70,
     "metadata": {},
     "output_type": "execute_result"
    }
   ],
   "source": [
    "df.discount.value_counts().head()"
   ]
  },
  {
   "cell_type": "markdown",
   "metadata": {},
   "source": [
    "### pmt_goods"
   ]
  },
  {
   "cell_type": "code",
   "execution_count": 71,
   "metadata": {
    "collapsed": false,
    "deletable": true,
    "editable": true
   },
   "outputs": [
    {
     "data": {
      "text/plain": [
       "0.0     3934\n",
       "2.5       51\n",
       "10.0      43\n",
       "6.0       30\n",
       "5.4       27\n",
       "Name: pmt_goods, dtype: int64"
      ]
     },
     "execution_count": 71,
     "metadata": {},
     "output_type": "execute_result"
    }
   ],
   "source": [
    "df.pmt_goods.value_counts().head()"
   ]
  },
  {
   "cell_type": "markdown",
   "metadata": {},
   "source": [
    "### pmt_order"
   ]
  },
  {
   "cell_type": "code",
   "execution_count": 72,
   "metadata": {
    "collapsed": false,
    "deletable": true,
    "editable": true
   },
   "outputs": [
    {
     "data": {
      "text/plain": [
       "75.0    1448\n",
       "0.0      941\n",
       "80.0     482\n",
       "40.0     482\n",
       "20.0     419\n",
       "Name: pmt_order, dtype: int64"
      ]
     },
     "execution_count": 72,
     "metadata": {},
     "output_type": "execute_result"
    }
   ],
   "source": [
    "df.pmt_order.value_counts().head()"
   ]
  },
  {
   "cell_type": "markdown",
   "metadata": {},
   "source": [
    "### payed"
   ]
  },
  {
   "cell_type": "code",
   "execution_count": 73,
   "metadata": {
    "collapsed": false,
    "deletable": true,
    "editable": true
   },
   "outputs": [
    {
     "data": {
      "text/plain": [
       "count    5881.000000\n",
       "mean       91.397618\n",
       "std       142.283887\n",
       "min         0.000000\n",
       "25%         3.500000\n",
       "50%        29.000000\n",
       "75%       150.500000\n",
       "max      5994.000000\n",
       "Name: payed, dtype: float64"
      ]
     },
     "execution_count": 73,
     "metadata": {},
     "output_type": "execute_result"
    }
   ],
   "source": [
    "df.payed.describe()"
   ]
  },
  {
   "cell_type": "code",
   "execution_count": 74,
   "metadata": {
    "collapsed": false,
    "deletable": true,
    "editable": true
   },
   "outputs": [
    {
     "data": {
      "text/plain": [
       "True"
      ]
     },
     "execution_count": 74,
     "metadata": {},
     "output_type": "execute_result"
    }
   ],
   "source": [
    "# 订单金额减折扣 ！= 付款金额\n",
    "((df.total_amount + df.discount) != (df.payed)).any()"
   ]
  },
  {
   "cell_type": "code",
   "execution_count": 75,
   "metadata": {
    "collapsed": false,
    "deletable": true,
    "editable": true
   },
   "outputs": [
    {
     "data": {
      "text/plain": [
       "0.0      880\n",
       "20.0       3\n",
       "160.0      2\n",
       "154.0      2\n",
       "4.0        2\n",
       "Name: payed, dtype: int64"
      ]
     },
     "execution_count": 75,
     "metadata": {},
     "output_type": "execute_result"
    }
   ],
   "source": [
    "dfx = df[(df.total_amount + df.discount) != (df.payed)]\n",
    "dfx.payed.value_counts().head()"
   ]
  },
  {
   "cell_type": "markdown",
   "metadata": {
    "deletable": true,
    "editable": true
   },
   "source": [
    "一堆没付款的？！"
   ]
  },
  {
   "cell_type": "code",
   "execution_count": 76,
   "metadata": {
    "collapsed": false,
    "deletable": true,
    "editable": true
   },
   "outputs": [
    {
     "data": {
      "text/plain": [
       "online        835\n",
       "-1            191\n",
       "wxpayjsapi     81\n",
       "deposit        62\n",
       "wxsmpay        26\n",
       "alipay         23\n",
       "Name: payment, dtype: int64"
      ]
     },
     "execution_count": 76,
     "metadata": {},
     "output_type": "execute_result"
    }
   ],
   "source": [
    "df[df.payed == 0].payment.value_counts()"
   ]
  },
  {
   "cell_type": "markdown",
   "metadata": {},
   "source": [
    "### disabled"
   ]
  },
  {
   "cell_type": "code",
   "execution_count": 77,
   "metadata": {
    "collapsed": false,
    "deletable": true,
    "editable": true
   },
   "outputs": [
    {
     "data": {
      "text/plain": [
       "False    5881\n",
       "Name: disabled, dtype: int64"
      ]
     },
     "execution_count": 77,
     "metadata": {},
     "output_type": "execute_result"
    }
   ],
   "source": [
    "df.disabled.value_counts()"
   ]
  },
  {
   "cell_type": "markdown",
   "metadata": {
    "deletable": true,
    "editable": true
   },
   "source": [
    "- 意义不明\n",
    "- 分析可以滤掉"
   ]
  },
  {
   "cell_type": "markdown",
   "metadata": {},
   "source": [
    "### displayonsite"
   ]
  },
  {
   "cell_type": "code",
   "execution_count": 78,
   "metadata": {
    "collapsed": false,
    "deletable": true,
    "editable": true
   },
   "outputs": [
    {
     "data": {
      "text/plain": [
       "True     5783\n",
       "False      98\n",
       "Name: displayonsite, dtype: int64"
      ]
     },
     "execution_count": 78,
     "metadata": {},
     "output_type": "execute_result"
    }
   ],
   "source": [
    "df.displayonsite.value_counts()"
   ]
  },
  {
   "cell_type": "markdown",
   "metadata": {},
   "source": [
    "### mark_type"
   ]
  },
  {
   "cell_type": "code",
   "execution_count": 79,
   "metadata": {
    "collapsed": false,
    "deletable": true,
    "editable": true
   },
   "outputs": [
    {
     "data": {
      "text/plain": [
       "b1    5881\n",
       "Name: mark_type, dtype: int64"
      ]
     },
     "execution_count": 79,
     "metadata": {},
     "output_type": "execute_result"
    }
   ],
   "source": [
    "df.mark_type.value_counts()"
   ]
  },
  {
   "cell_type": "markdown",
   "metadata": {},
   "source": [
    "- 意义不明\n",
    "- 分析可以滤掉"
   ]
  },
  {
   "cell_type": "markdown",
   "metadata": {},
   "source": [
    "### cost_freight 运费"
   ]
  },
  {
   "cell_type": "code",
   "execution_count": 80,
   "metadata": {
    "collapsed": false,
    "deletable": true,
    "editable": true
   },
   "outputs": [
    {
     "data": {
      "text/plain": [
       "0.0     4730\n",
       "20.0     754\n",
       "30.0     397\n",
       "Name: cost_freight, dtype: int64"
      ]
     },
     "execution_count": 80,
     "metadata": {},
     "output_type": "execute_result"
    }
   ],
   "source": [
    "df.cost_freight.value_counts()"
   ]
  },
  {
   "cell_type": "markdown",
   "metadata": {},
   "source": [
    "### extend"
   ]
  },
  {
   "cell_type": "code",
   "execution_count": 81,
   "metadata": {
    "collapsed": false,
    "deletable": true,
    "editable": true
   },
   "outputs": [
    {
     "data": {
      "text/plain": [
       "False    5881\n",
       "Name: extend, dtype: int64"
      ]
     },
     "execution_count": 81,
     "metadata": {},
     "output_type": "execute_result"
    }
   ],
   "source": [
    "df.extend.value_counts()"
   ]
  },
  {
   "cell_type": "markdown",
   "metadata": {},
   "source": [
    "- 意义不明\n",
    "- 分析可以滤掉"
   ]
  },
  {
   "cell_type": "markdown",
   "metadata": {},
   "source": [
    "### order_refer 推荐订单(?)"
   ]
  },
  {
   "cell_type": "code",
   "execution_count": 82,
   "metadata": {
    "collapsed": false,
    "deletable": true,
    "editable": true
   },
   "outputs": [
    {
     "data": {
      "text/plain": [
       "local    5881\n",
       "Name: order_refer, dtype: int64"
      ]
     },
     "execution_count": 82,
     "metadata": {},
     "output_type": "execute_result"
    }
   ],
   "source": [
    "df.order_refer.value_counts()"
   ]
  },
  {
   "cell_type": "markdown",
   "metadata": {},
   "source": [
    "- 全部为 local\n",
    "- 分析可以滤掉"
   ]
  },
  {
   "cell_type": "markdown",
   "metadata": {},
   "source": [
    "### addon"
   ]
  },
  {
   "cell_type": "code",
   "execution_count": 83,
   "metadata": {
    "collapsed": false,
    "deletable": true,
    "editable": true
   },
   "outputs": [
    {
     "data": {
      "text/plain": [
       "a:2:{s:19:\"order_chgpointmoney\";s:4:\"2.00\";s:19:\"order_chgpointscore\";d:200;}         1216\n",
       "a:2:{s:19:\"order_chgpointmoney\";s:4:\"0.00\";s:19:\"order_chgpointscore\";s:1:\"0\";}        359\n",
       "a:2:{s:19:\"order_chgpointmoney\";s:5:\"0.000\";s:19:\"order_chgpointscore\";s:1:\"0\";}       164\n",
       "a:2:{s:19:\"order_chgpointmoney\";s:4:\"2.00\";s:19:\"order_chgpointscore\";s:3:\"200\";}      125\n",
       "a:2:{s:19:\"order_chgpointmoney\";s:5:\"2.000\";s:19:\"order_chgpointscore\";s:3:\"200\";}      98\n",
       "Name: addon, dtype: int64"
      ]
     },
     "execution_count": 83,
     "metadata": {},
     "output_type": "execute_result"
    }
   ],
   "source": [
    "df.addon.value_counts().head()"
   ]
  },
  {
   "cell_type": "markdown",
   "metadata": {
    "deletable": true,
    "editable": true
   },
   "source": [
    "- 额外加入的信息\n",
    "- 将来如要分析，需要再清理"
   ]
  },
  {
   "cell_type": "markdown",
   "metadata": {},
   "source": [
    "### source 订单来源"
   ]
  },
  {
   "cell_type": "code",
   "execution_count": 84,
   "metadata": {
    "collapsed": false,
    "deletable": true,
    "editable": true
   },
   "outputs": [
    {
     "data": {
      "text/plain": [
       "weixin    3882\n",
       "ios        968\n",
       "pc         655\n",
       "wap        376\n",
       "Name: source, dtype: int64"
      ]
     },
     "execution_count": 84,
     "metadata": {},
     "output_type": "execute_result"
    }
   ],
   "source": [
    "df.source.value_counts()"
   ]
  },
  {
   "cell_type": "markdown",
   "metadata": {
    "deletable": true,
    "editable": true
   },
   "source": [
    "订单来源\n",
    "- 微信 （手机app?)\n",
    "- iso\n",
    "- pc\n",
    "- wap （手机版网页）"
   ]
  },
  {
   "cell_type": "markdown",
   "metadata": {},
   "source": [
    "### city_link"
   ]
  },
  {
   "cell_type": "code",
   "execution_count": 85,
   "metadata": {
    "collapsed": false,
    "deletable": true,
    "editable": true
   },
   "outputs": [
    {
     "data": {
      "text/plain": [
       "0.0    4571\n",
       "1.0     651\n",
       "2.0     593\n",
       "Name: city_link, dtype: int64"
      ]
     },
     "execution_count": 85,
     "metadata": {},
     "output_type": "execute_result"
    }
   ],
   "source": [
    "df.city_link.value_counts()"
   ]
  },
  {
   "cell_type": "markdown",
   "metadata": {},
   "source": [
    "### verify_city_link"
   ]
  },
  {
   "cell_type": "code",
   "execution_count": 86,
   "metadata": {
    "collapsed": false,
    "deletable": true,
    "editable": true
   },
   "outputs": [
    {
     "data": {
      "text/plain": [
       " 0.0    3594\n",
       " 1.0    1215\n",
       " 2.0    1049\n",
       "-1.0      17\n",
       "Name: verify_city_link, dtype: int64"
      ]
     },
     "execution_count": 86,
     "metadata": {},
     "output_type": "execute_result"
    }
   ],
   "source": [
    "df.verify_city_link.value_counts()"
   ]
  },
  {
   "cell_type": "markdown",
   "metadata": {},
   "source": [
    "### fuzzy"
   ]
  },
  {
   "cell_type": "code",
   "execution_count": 87,
   "metadata": {
    "collapsed": false,
    "deletable": true,
    "editable": true
   },
   "outputs": [
    {
     "data": {
      "text/plain": [
       "0    5737\n",
       "1     144\n",
       "Name: fuzzy, dtype: int64"
      ]
     },
     "execution_count": 87,
     "metadata": {},
     "output_type": "execute_result"
    }
   ],
   "source": [
    "df.fuzzy.value_counts()"
   ]
  },
  {
   "cell_type": "markdown",
   "metadata": {},
   "source": [
    "### longitude, latitude 经纬度"
   ]
  },
  {
   "cell_type": "code",
   "execution_count": 88,
   "metadata": {
    "collapsed": false,
    "deletable": true,
    "editable": true
   },
   "outputs": [
    {
     "data": {
      "text/plain": [
       "<matplotlib.collections.PathCollection at 0x114f63e50>"
      ]
     },
     "execution_count": 88,
     "metadata": {},
     "output_type": "execute_result"
    },
    {
     "data": {
      "image/png": "[encoded data removed]",
      "text/plain": [
       "<matplotlib.figure.Figure at 0x114eb7810>"
      ]
     },
     "metadata": {},
     "output_type": "display_data"
    }
   ],
   "source": [
    "plt.scatter(df.longitude, df.latitude)"
   ]
  },
  {
   "cell_type": "code",
   "execution_count": 89,
   "metadata": {
    "collapsed": false,
    "deletable": true,
    "editable": true
   },
   "outputs": [
    {
     "data": {
      "text/plain": [
       "count    5751.000000\n",
       "mean       31.225514\n",
       "std         0.101479\n",
       "min        30.731911\n",
       "25%        31.193277\n",
       "50%        31.224399\n",
       "75%        31.262443\n",
       "max        36.722182\n",
       "Name: latitude, dtype: float64"
      ]
     },
     "execution_count": 89,
     "metadata": {},
     "output_type": "execute_result"
    }
   ],
   "source": [
    "# 出现奇异点\n",
    "df.latitude.describe()"
   ]
  },
  {
   "cell_type": "code",
   "execution_count": 90,
   "metadata": {
    "collapsed": false,
    "deletable": true,
    "editable": true
   },
   "outputs": [
    {
     "data": {
      "text/plain": [
       "count    5751.000000\n",
       "mean      121.461681\n",
       "std         0.095776\n",
       "min       119.151498\n",
       "25%       121.411999\n",
       "50%       121.457887\n",
       "75%       121.518593\n",
       "max       121.871930\n",
       "Name: longitude, dtype: float64"
      ]
     },
     "execution_count": 90,
     "metadata": {},
     "output_type": "execute_result"
    }
   ],
   "source": [
    "# 出现奇异点\n",
    "df.longitude.describe()"
   ]
  },
  {
   "cell_type": "code",
   "execution_count": 91,
   "metadata": {
    "collapsed": false,
    "deletable": true,
    "editable": true
   },
   "outputs": [
    {
     "data": {
      "text/plain": [
       "<matplotlib.collections.PathCollection at 0x10fc95910>"
      ]
     },
     "execution_count": 91,
     "metadata": {},
     "output_type": "execute_result"
    },
    {
     "data": {
      "image/png": "[encoded data removed]",
      "text/plain": [
       "<matplotlib.figure.Figure at 0x114e0e650>"
      ]
     },
     "metadata": {},
     "output_type": "display_data"
    }
   ],
   "source": [
    "# 过滤奇异点\n",
    "dfx = df[(df.latitude < 32) & (df.longitude > 120)]\n",
    "plt.scatter(dfx.latitude, dfx.longitude)"
   ]
  },
  {
   "cell_type": "markdown",
   "metadata": {},
   "source": [
    "### scalping (剥光?)"
   ]
  },
  {
   "cell_type": "code",
   "execution_count": 92,
   "metadata": {
    "collapsed": false,
    "deletable": true,
    "editable": true
   },
   "outputs": [
    {
     "data": {
      "text/plain": [
       "False    5804\n",
       "True       77\n",
       "Name: scalping, dtype: int64"
      ]
     },
     "execution_count": 92,
     "metadata": {},
     "output_type": "execute_result"
    }
   ],
   "source": [
    "df.scalping.value_counts()"
   ]
  },
  {
   "cell_type": "markdown",
   "metadata": {},
   "source": [
    "### out_trade_no (交易流水号?)"
   ]
  },
  {
   "cell_type": "code",
   "execution_count": 93,
   "metadata": {
    "collapsed": false,
    "deletable": true,
    "editable": true
   },
   "outputs": [
    {
     "data": {
      "text/plain": [
       "True"
      ]
     },
     "execution_count": 93,
     "metadata": {},
     "output_type": "execute_result"
    }
   ],
   "source": [
    "df.out_trade_no.duplicated().any()"
   ]
  },
  {
   "cell_type": "markdown",
   "metadata": {},
   "source": [
    "### autoSendErp"
   ]
  },
  {
   "cell_type": "code",
   "execution_count": 94,
   "metadata": {
    "collapsed": false,
    "deletable": true,
    "editable": true
   },
   "outputs": [
    {
     "data": {
      "text/plain": [
       "True     5713\n",
       "False     168\n",
       "Name: autoSendErp, dtype: int64"
      ]
     },
     "execution_count": 94,
     "metadata": {},
     "output_type": "execute_result"
    }
   ],
   "source": [
    "df.autoSendErp.value_counts()"
   ]
  },
  {
   "cell_type": "markdown",
   "metadata": {},
   "source": [
    "### autoSendErpStatus"
   ]
  },
  {
   "cell_type": "code",
   "execution_count": 95,
   "metadata": {
    "collapsed": false
   },
   "outputs": [
    {
     "data": {
      "text/plain": [
       "1    3623\n",
       "0    2222\n",
       "2      36\n",
       "Name: autoSendErpStatus, dtype: int64"
      ]
     },
     "execution_count": 95,
     "metadata": {},
     "output_type": "execute_result"
    }
   ],
   "source": [
    "df.autoSendErpStatus.value_counts()"
   ]
  },
  {
   "cell_type": "markdown",
   "metadata": {},
   "source": [
    "### string_tag_id"
   ]
  },
  {
   "cell_type": "code",
   "execution_count": 96,
   "metadata": {
    "collapsed": false,
    "deletable": true,
    "editable": true
   },
   "outputs": [
    {
     "data": {
      "text/plain": [
       "a:0:{}                  18\n",
       "a:1:{i:0;s:3:\"347\";}    12\n",
       "a:1:{i:0;s:3:\"170\";}    11\n",
       "a:1:{i:0;s:3:\"204\";}     5\n",
       "a:1:{i:0;s:3:\"228\";}     3\n",
       "Name: string_tag_id, dtype: int64"
      ]
     },
     "execution_count": 96,
     "metadata": {},
     "output_type": "execute_result"
    }
   ],
   "source": [
    "df.string_tag_id.value_counts().head()"
   ]
  },
  {
   "cell_type": "markdown",
   "metadata": {},
   "source": [
    "### lang 语言"
   ]
  },
  {
   "cell_type": "code",
   "execution_count": 97,
   "metadata": {
    "collapsed": false,
    "deletable": true,
    "editable": true
   },
   "outputs": [
    {
     "data": {
      "text/plain": [
       "simplified_chinese    5847\n",
       "english                 34\n",
       "Name: lang, dtype: int64"
      ]
     },
     "execution_count": 97,
     "metadata": {},
     "output_type": "execute_result"
    }
   ],
   "source": [
    "df.lang.value_counts()"
   ]
  },
  {
   "cell_type": "markdown",
   "metadata": {},
   "source": [
    "### delivery_note_price"
   ]
  },
  {
   "cell_type": "code",
   "execution_count": 98,
   "metadata": {
    "collapsed": false,
    "deletable": true,
    "editable": true
   },
   "outputs": [
    {
     "data": {
      "text/plain": [
       "display    5530\n",
       "none        351\n",
       "Name: delivery_note_price, dtype: int64"
      ]
     },
     "execution_count": 98,
     "metadata": {},
     "output_type": "execute_result"
    }
   ],
   "source": [
    "df.delivery_note_price.value_counts()"
   ]
  }
 ],
 "metadata": {
  "kernelspec": {
   "display_name": "Python 2",
   "language": "python",
   "name": "python2"
  },
  "language_info": {
   "codemirror_mode": {
    "name": "ipython",
    "version": 2
   },
   "file_extension": ".py",
   "mimetype": "text/x-python",
   "name": "python",
   "nbconvert_exporter": "python",
   "pygments_lexer": "ipython2",
   "version": "2.7.11"
  }
 },
 "nbformat": 4,
 "nbformat_minor": 2
}
