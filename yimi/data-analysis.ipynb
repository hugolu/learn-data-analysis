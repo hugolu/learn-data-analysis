{
 "cells": [
  {
   "cell_type": "markdown",
   "metadata": {
    "deletable": true,
    "editable": true
   },
   "source": [
    "# 数据分析"
   ]
  },
  {
   "cell_type": "code",
   "execution_count": 1,
   "metadata": {
    "collapsed": false,
    "deletable": true,
    "editable": true
   },
   "outputs": [
    {
     "name": "stdout",
     "output_type": "stream",
     "text": [
      "Populating the interactive namespace from numpy and matplotlib\n"
     ]
    }
   ],
   "source": [
    "%pylab inline"
   ]
  },
  {
   "cell_type": "code",
   "execution_count": 2,
   "metadata": {
    "collapsed": true,
    "deletable": true,
    "editable": true
   },
   "outputs": [],
   "source": [
    "import numpy as np\n",
    "import pandas as pd\n",
    "from pandas import Series, DataFrame\n",
    "import seaborn as sns\n",
    "from datetime import datetime"
   ]
  },
  {
   "cell_type": "markdown",
   "metadata": {
    "deletable": true,
    "editable": true
   },
   "source": [
    "## 载入数据\n",
    "\n",
    "丢弃部分字段：\n",
    "\n",
    "字段 | 分类 | 处理方式\n",
    "---|---|---\n",
    "ship_name | 杂讯 | 丢弃\n",
    "ship_mobile | 类别特征 | 使用\n",
    "order_id | 无关分析 | 丢弃\n",
    "total_amount | 数值特征 | 过滤奇异值\n",
    "final_amount | 重复信息 | 丢弃\n",
    "pay_status | 类别特征 | 使用\n",
    "ship_status | 类别特征 | 使用\n",
    "is_delivery | 无识别度 | 丢弃\n",
    "try_order | 无识别度 | 丢弃\n",
    "erp_order_id | 数值特征 | {0, 1}\n",
    "erp_status | 数值特征 | 使用\n",
    "createtime | 数值特征 | 转换成日期\n",
    "last_modified | 数值特征 | 转换成日期\n",
    "payment | 类别特征 | 使用\n",
    "shipping_id | 无识别度 | 丢弃\n",
    "shipping | 类别特征 | 使用\n",
    "member_id | 类别特征 | 使用\n",
    "promotion_type | 类别特征 | 使用\n",
    "group_id | 类别特征 | 使用\n",
    "groupOn_id | 类别特征 | 使用\n",
    "is_leader | 数值特征 | {0, 1}\n",
    "is_prepare | 无识别度 | 丢弃\n",
    "group_num | 数值特征 | {0, 3}\n",
    "status | 类别特征 | 使用\n",
    "confirm_delivery | 类别特征 | 使用\n",
    "confirm | 无识别度 | 丢弃\n",
    "ship_area | 类别特征 | 抽取区码\n",
    "weight | 数值特征 | 使用\n",
    "tostr | 无关分析 | 丢弃\n",
    "itemnum | 数值特征 | 使用\n",
    "ip | 杂讯 | 丢弃\n",
    "ship_addr | 重复信息 | 丢弃\n",
    "ship_zip | 无关分析 | 丢弃\n",
    "ship_tel | 重复信息 | 丢弃\n",
    "ship_email | 无识别度 | 丢弃\n",
    "ship_time | 类别特征 | 抽取时段，重新编码\n",
    "cost_item | 数值特征 | 使用\n",
    "is_tax | 数值特征 | {False, True}\n",
    "tax_type | 类别特征 | 使用\n",
    "cost_tax | 无识别度 | 丢弃\n",
    "is_protect | 无识别度 | 丢弃\n",
    "cost_protect | 无识别度 | 丢弃\n",
    "cost_payment | 无识别度 | 丢弃\n",
    "currency | 无识别度 | 丢弃\n",
    "cur_rate | 无识别度 | 丢弃\n",
    "advance | 数值特征 | 忽略\n",
    "score_u | 数值特征 | 忽略\n",
    "score_g | 数值特征 | 忽略\n",
    "discount | 数值特征 | 转成正数\n",
    "pmt_goods | 数值特征 | 使用\n",
    "pmt_order | 数值特征 | 使用\n",
    "payed | 杂讯 | 丢弃\n",
    "disabled | 无识别度 | 丢弃\n",
    "displayonsite | 数值特征 | {False, True}\n",
    "mark_type | 无识别度 | 丢弃\n",
    "cost_freight | 数值特征 | 使用\n",
    "extend | 无识别度 | 丢弃\n",
    "order_refer | 无识别度 | 丢弃\n",
    "addon | 杂讯 | 丢弃\n",
    "source | 类别特征 | 使用\n",
    "city_link | 数值特征 | {0, 1, 2}\n",
    "verify_city_link | 数值特征 | {-1，0，1，2}\n",
    "fuzzy | 数值特征 | {0,1}\n",
    "longitude | 数值特征 | ~~剔除异常值~~ 使用\n",
    "latitude | 数值特征 | ~~剔除异常值~~ 使用\n",
    "scalping | 数值特征 | {False, True}\n",
    "out_trade_no | 无关分析 | 丢弃\n",
    "autoSendErp | 数值特征 | {False,True}\n",
    "autoSendErpStatus | 类别特征 | {0, 1, 2}\n",
    "string_tag_id | 杂讯 | 丢弃\n",
    "lang | 类别特征 | 使用\n",
    "delivery_note_price | 类别特征 | 使用"
   ]
  },
  {
   "cell_type": "code",
   "execution_count": 3,
   "metadata": {
    "collapsed": false,
    "deletable": true,
    "editable": true
   },
   "outputs": [
    {
     "data": {
      "text/plain": [
       "(5881, 44)"
      ]
     },
     "execution_count": 3,
     "metadata": {},
     "output_type": "execute_result"
    }
   ],
   "source": [
    "# 选取需要的字段\n",
    "cols = ['ship_mobile', 'total_amount', 'pay_status', 'ship_status', 'erp_order_id', 'erp_status',\n",
    "        'createtime', 'last_modified', 'payment', 'shipping', 'member_id', 'promotion_type',\n",
    "        'group_id', 'groupOn_id', 'is_leader', 'group_num', 'status', 'confirm_delivery', 'ship_area',\n",
    "        'weight', 'itemnum', 'ship_time', 'cost_item', 'is_tax', 'tax_type', 'advance',\n",
    "        'score_u', 'score_g', 'discount', 'pmt_goods', 'pmt_order', 'displayonsite', 'cost_freight',\n",
    "        'source', 'city_link', 'verify_city_link', 'fuzzy', 'longitude', 'latitude', 'scalping',\n",
    "        'autoSendErp', 'autoSendErpStatus', 'lang', 'delivery_note_price']\n",
    "\n",
    "df = pd.read_excel('test_data.xls', usecols=cols)\n",
    "df.shape"
   ]
  },
  {
   "cell_type": "code",
   "execution_count": 4,
   "metadata": {
    "collapsed": false
   },
   "outputs": [
    {
     "data": {
      "text/plain": [
       "mainland:上海/上海市/浦东新区:35                    1372\n",
       "mainland:上海/上海市/长宁区:26                      572\n",
       "mainland:上海/上海市/徐汇区:25                      567\n",
       "mainland:上海/上海市/闵行区:36                      561\n",
       "mainland:上海/上海市/普陀区:28                      460\n",
       "mainland:上海/上海市/黄浦区:23                      365\n",
       "mainland:上海/上海市/宝山区:37                      365\n",
       "mainland:上海/上海市/杨浦区:31                      351\n",
       "mainland:上海/上海市/静安区:27                      316\n",
       "mainland:上海/上海市/虹口区:30                      214\n",
       "mainland:上海/上海市/闸北区:29                      189\n",
       "mainland:上海/上海市/嘉定区:38                      142\n",
       "mainland:上海/上海市/松江区:41                      139\n",
       "mainland:上海/上海市/青浦区:40                      110\n",
       "mainland:上海/上海市/卢湾区:24                       91\n",
       "mainland:上海/上海市/金山区:44                       13\n",
       "mainland:上海/上海市/奉贤区:39                       11\n",
       "mainland:Shanghai/Shanghai/Jingan:27          9\n",
       "mainland:Shanghai/Shanghai/Xuhui:25           8\n",
       "mainland:Shanghai/Shanghai/Changning:26       7\n",
       "mainland:上海/上海市/南汇区:42                        4\n",
       "mainland:Shanghai/Shanghai/Songjiang:41       3\n",
       "mainland:Shanghai/Shanghai/Huangpu:23         3\n",
       "mainland:Shanghai/Shanghai/Zhabei:29          3\n",
       "mainland:上海/上海市/南汇区:46                        3\n",
       "mainland:上海/上海市/奉贤区:48                        1\n",
       "mainland:Shanghai/Shanghai/Pudong:35          1\n",
       "mainland:Shanghai/Shanghai/Hongkou:30         1\n",
       "Name: ship_area, dtype: int64"
      ]
     },
     "execution_count": 4,
     "metadata": {},
     "output_type": "execute_result"
    }
   ],
   "source": [
    "df.ship_area.value_counts()"
   ]
  },
  {
   "cell_type": "code",
   "execution_count": 5,
   "metadata": {
    "collapsed": false,
    "deletable": true,
    "editable": true
   },
   "outputs": [],
   "source": [
    "areas = {23: u'黄浦区', 24: u'卢湾区', 25: u'徐汇区', 26: u'长宁区', 27: u'静安区', 28: u'普陀区', 29: u'闸北区',\n",
    "         30: u'虹口区', 31: u'杨浦区', 35: u'浦东新区', 36: u'闵行区', 37: u'宝山区', 38: u'嘉定区', 39: u'奉贤区',\n",
    "         40: u'青浦区', 41: u'松江区', 42: u'南汇区', 44: u'金山区', 46: u'南汇区', 48: u'奉贤区'}\n",
    "\n",
    "def area2code(area):\n",
    "    code = int(area.split(':')[-1])\n",
    "    mapping = {48: 39, 46: 42}\n",
    "    return mapping.get(code, code)\n",
    "\n",
    "# 抽取区码，重新编码\n",
    "#df.ship_area = df.ship_area.map(lambda area: int(area.split(':')[-1])).map({48: 39, 46: 42}.get(t, t))\n",
    "df.ship_area = df.ship_area.map(area2code)"
   ]
  },
  {
   "cell_type": "code",
   "execution_count": 6,
   "metadata": {
    "collapsed": false,
    "deletable": true,
    "editable": true
   },
   "outputs": [],
   "source": [
    "def time2code(t):\n",
    "    mapping = {'08:00-12:00': u'上午', '14:00-18:00': u'下午', '18:00-21:00': u'晚上', '14:00-21:00': u'中午以后'}\n",
    "    return mapping.get(t, '全天')\n",
    "\n",
    "# 抽取时段，重新编码\n",
    "df.ship_time = df.ship_time.fillna('??,??').map(lambda x: time2code(x.split(',')[1]))"
   ]
  },
  {
   "cell_type": "code",
   "execution_count": 7,
   "metadata": {
    "collapsed": false,
    "deletable": true,
    "editable": true
   },
   "outputs": [],
   "source": [
    "# 将时间戳转换成日期\n",
    "df.createtime = df.createtime.map(datetime.fromtimestamp).map(datetime.date)\n",
    "df.last_modified = df.last_modified.map(datetime.fromtimestamp).map(datetime.date)"
   ]
  },
  {
   "cell_type": "code",
   "execution_count": 8,
   "metadata": {
    "collapsed": false,
    "deletable": true,
    "editable": true
   },
   "outputs": [],
   "source": [
    "# 折扣：转成正数\n",
    "df.discount = df.discount.map(abs)"
   ]
  },
  {
   "cell_type": "code",
   "execution_count": 9,
   "metadata": {
    "collapsed": true,
    "deletable": true,
    "editable": true
   },
   "outputs": [],
   "source": [
    "df = df[df.total_amount < df.total_amount.quantile(.99)]"
   ]
  },
  {
   "cell_type": "markdown",
   "metadata": {
    "deletable": true,
    "editable": true
   },
   "source": [
    "## 基本统计观察"
   ]
  },
  {
   "cell_type": "markdown",
   "metadata": {
    "deletable": true,
    "editable": true
   },
   "source": [
    "### 客户"
   ]
  },
  {
   "cell_type": "code",
   "execution_count": 10,
   "metadata": {
    "collapsed": false,
    "deletable": true,
    "editable": true
   },
   "outputs": [
    {
     "data": {
      "text/plain": [
       "3778"
      ]
     },
     "execution_count": 10,
     "metadata": {},
     "output_type": "execute_result"
    }
   ],
   "source": [
    "# 客户总数\n",
    "num_mobile = len(df.ship_mobile.unique())\n",
    "num_mobile"
   ]
  },
  {
   "cell_type": "code",
   "execution_count": 11,
   "metadata": {
    "collapsed": false,
    "deletable": true,
    "editable": true
   },
   "outputs": [
    {
     "data": {
      "text/plain": [
       "17166769648    23\n",
       "16143545425    22\n",
       "16143452034    14\n",
       "17131246473    13\n",
       "17188915242    13\n",
       "17015859490    11\n",
       "16569883485    11\n",
       "16103411770    11\n",
       "16140271796    11\n",
       "16594905358    11\n",
       "Name: ship_mobile, dtype: int64"
      ]
     },
     "execution_count": 11,
     "metadata": {},
     "output_type": "execute_result"
    }
   ],
   "source": [
    "# 常客 Top 10\n",
    "df.ship_mobile.value_counts().head(10)"
   ]
  },
  {
   "cell_type": "code",
   "execution_count": 12,
   "metadata": {
    "collapsed": false,
    "deletable": true,
    "editable": true
   },
   "outputs": [
    {
     "data": {
      "text/plain": [
       "<matplotlib.axes._subplots.AxesSubplot at 0x1023e4950>"
      ]
     },
     "execution_count": 12,
     "metadata": {},
     "output_type": "execute_result"
    },
    {
     "data": {
      "image/png": "[encoded data removed]",
      "text/plain": [
       "<matplotlib.figure.Figure at 0x1023e40d0>"
      ]
     },
     "metadata": {},
     "output_type": "display_data"
    }
   ],
   "source": [
    "# 按客户分析：订单数 vs. 消费总额\n",
    "df2 = df.groupby('ship_mobile')['total_amount'].agg({'orders':'count', 'amount':'sum'})\n",
    "df2.plot.scatter(x='orders', y='amount')"
   ]
  },
  {
   "cell_type": "markdown",
   "metadata": {
    "deletable": true,
    "editable": true
   },
   "source": [
    "### 消费"
   ]
  },
  {
   "cell_type": "code",
   "execution_count": 13,
   "metadata": {
    "collapsed": false,
    "deletable": true,
    "editable": true
   },
   "outputs": [
    {
     "data": {
      "text/plain": [
       "596657.60499999998"
      ]
     },
     "execution_count": 13,
     "metadata": {},
     "output_type": "execute_result"
    }
   ],
   "source": [
    "# 总营业额\n",
    "df.total_amount.sum()"
   ]
  },
  {
   "cell_type": "code",
   "execution_count": 14,
   "metadata": {
    "collapsed": false,
    "deletable": true,
    "editable": true
   },
   "outputs": [
    {
     "data": {
      "text/plain": [
       "count    5821.000000\n",
       "mean      102.500877\n",
       "std       106.008417\n",
       "min         0.000000\n",
       "25%        15.800000\n",
       "50%        76.000000\n",
       "75%       171.020000\n",
       "max       532.930000\n",
       "Name: total_amount, dtype: float64"
      ]
     },
     "execution_count": 14,
     "metadata": {},
     "output_type": "execute_result"
    }
   ],
   "source": [
    "# 统计\n",
    "df.total_amount.describe()"
   ]
  },
  {
   "cell_type": "code",
   "execution_count": 15,
   "metadata": {
    "collapsed": false,
    "deletable": true,
    "editable": true
   },
   "outputs": [
    {
     "data": {
      "text/plain": [
       "<matplotlib.axes._subplots.AxesSubplot at 0x112515e50>"
      ]
     },
     "execution_count": 15,
     "metadata": {},
     "output_type": "execute_result"
    },
    {
     "data": {
      "image/png": "[encoded data removed]",
      "text/plain": [
       "<matplotlib.figure.Figure at 0x112bbddd0>"
      ]
     },
     "metadata": {},
     "output_type": "display_data"
    }
   ],
   "source": [
    "# 每日营业额\n",
    "df.groupby('createtime')['total_amount'].sum().plot(kind='bar', figsize=(15,5))"
   ]
  },
  {
   "cell_type": "code",
   "execution_count": 16,
   "metadata": {
    "collapsed": false,
    "deletable": true,
    "editable": true
   },
   "outputs": [
    {
     "data": {
      "text/plain": [
       "ship_mobile\n",
       "17166769648    6420.86\n",
       "16143545425    5002.66\n",
       "16143452034    3969.50\n",
       "17131246473    3332.54\n",
       "16104542317    2983.37\n",
       "17131310015    2519.62\n",
       "16165985610    2504.15\n",
       "16547276920    2441.16\n",
       "17015859490    2406.81\n",
       "15987152535    2393.70\n",
       "Name: total_amount, dtype: float64"
      ]
     },
     "execution_count": 16,
     "metadata": {},
     "output_type": "execute_result"
    }
   ],
   "source": [
    "# 消费 Top 10\n",
    "df.groupby('ship_mobile')['total_amount'].sum().sort_values(ascending=False).head(10)"
   ]
  },
  {
   "cell_type": "markdown",
   "metadata": {
    "deletable": true,
    "editable": true
   },
   "source": [
    "- 客户 17166769648 订单数23，总消费金额6420.86，绝对是VIP"
   ]
  },
  {
   "cell_type": "code",
   "execution_count": 17,
   "metadata": {
    "collapsed": false,
    "deletable": true,
    "editable": true
   },
   "outputs": [
    {
     "name": "stdout",
     "output_type": "stream",
     "text": [
      "regular ratio: 1107 / 3778 (29.30%)\n"
     ]
    }
   ],
   "source": [
    "# 常客分析\n",
    "order_regular = (df.ship_mobile.value_counts() > 1)\n",
    "num_regular = order_regular.sum()\n",
    "print \"regular ratio: %d / %d (%.2f%%)\" % (num_regular, num_mobile, 100.0 * num_regular / num_mobile)"
   ]
  },
  {
   "cell_type": "markdown",
   "metadata": {
    "deletable": true,
    "editable": true
   },
   "source": [
    "- 回头客比例太低"
   ]
  },
  {
   "cell_type": "code",
   "execution_count": 18,
   "metadata": {
    "collapsed": false,
    "deletable": true,
    "editable": true
   },
   "outputs": [
    {
     "name": "stdout",
     "output_type": "stream",
     "text": [
      "count    2671.000000\n",
      "mean       64.273190\n",
      "std        80.325428\n",
      "min         0.000000\n",
      "25%        10.000000\n",
      "50%        26.000000\n",
      "75%       109.000000\n",
      "max       532.000000\n",
      "Name: total_amount, dtype: float64\n"
     ]
    },
    {
     "data": {
      "text/plain": [
       "<matplotlib.axes._subplots.AxesSubplot at 0x112bbdd50>"
      ]
     },
     "execution_count": 18,
     "metadata": {},
     "output_type": "execute_result"
    },
    {
     "data": {
      "image/png": "[encoded data removed]",
      "text/plain": [
       "<matplotlib.figure.Figure at 0x117252690>"
      ]
     },
     "metadata": {},
     "output_type": "display_data"
    }
   ],
   "source": [
    "# 单次购买客户消费金额分布\n",
    "order_once = (df.ship_mobile.value_counts() == 1)\n",
    "df_order_once = df[order_once.reindex(df.ship_mobile).values]\n",
    "print df_order_once.total_amount.describe()\n",
    "\n",
    "sns.distplot(df_order_once.total_amount, kde=False)"
   ]
  },
  {
   "cell_type": "code",
   "execution_count": 19,
   "metadata": {
    "collapsed": false,
    "deletable": true,
    "editable": true
   },
   "outputs": [
    {
     "data": {
      "text/plain": [
       "109.0    351\n",
       "0.0      202\n",
       "20.0     137\n",
       "18.0      77\n",
       "10.0      66\n",
       "Name: total_amount, dtype: int64"
      ]
     },
     "execution_count": 19,
     "metadata": {},
     "output_type": "execute_result"
    }
   ],
   "source": [
    "# 单次购买最常出现的结账金额\n",
    "df_order_once.total_amount.value_counts().head()"
   ]
  },
  {
   "cell_type": "markdown",
   "metadata": {
    "deletable": true,
    "editable": true
   },
   "source": [
    "- 109.0 可能是某次促销活动"
   ]
  },
  {
   "cell_type": "code",
   "execution_count": 20,
   "metadata": {
    "collapsed": false,
    "deletable": true,
    "editable": true
   },
   "outputs": [
    {
     "data": {
      "text/plain": [
       "<matplotlib.axes._subplots.AxesSubplot at 0x112bb18d0>"
      ]
     },
     "execution_count": 20,
     "metadata": {},
     "output_type": "execute_result"
    },
    {
     "data": {
      "image/png": "[encoded data removed]",
      "text/plain": [
       "<matplotlib.figure.Figure at 0x117224850>"
      ]
     },
     "metadata": {},
     "output_type": "display_data"
    }
   ],
   "source": [
    "# 追踪消费金额109.0的客户\n",
    "df_109 = df[df.total_amount == 109]\n",
    "\n",
    "# 消费时间\n",
    "df_109.groupby('createtime')['total_amount'].count().plot.bar()"
   ]
  },
  {
   "cell_type": "code",
   "execution_count": 21,
   "metadata": {
    "collapsed": false,
    "deletable": true,
    "editable": true
   },
   "outputs": [
    {
     "data": {
      "text/plain": [
       "<matplotlib.axes._subplots.AxesSubplot at 0x112fe90d0>"
      ]
     },
     "execution_count": 21,
     "metadata": {},
     "output_type": "execute_result"
    },
    {
     "data": {
      "image/png": "[encoded data removed]",
      "text/plain": [
       "<matplotlib.figure.Figure at 0x11312cb90>"
      ]
     },
     "metadata": {},
     "output_type": "display_data"
    }
   ],
   "source": [
    "# 购买次数\n",
    "df_109.ship_mobile.value_counts().value_counts().plot.pie()"
   ]
  },
  {
   "cell_type": "markdown",
   "metadata": {
    "deletable": true,
    "editable": true
   },
   "source": [
    "- 貌似效果不佳 =\"="
   ]
  },
  {
   "cell_type": "code",
   "execution_count": 22,
   "metadata": {
    "collapsed": false,
    "deletable": true,
    "editable": true
   },
   "outputs": [
    {
     "data": {
      "text/plain": [
       "1    4910\n",
       "0     769\n",
       "5     111\n",
       "4      31\n",
       "Name: pay_status, dtype: int64"
      ]
     },
     "execution_count": 22,
     "metadata": {},
     "output_type": "execute_result"
    }
   ],
   "source": [
    "df.pay_status.value_counts()"
   ]
  },
  {
   "cell_type": "markdown",
   "metadata": {
    "deletable": true,
    "editable": true
   },
   "source": [
    "### 地区"
   ]
  },
  {
   "cell_type": "code",
   "execution_count": 23,
   "metadata": {
    "collapsed": false,
    "deletable": true,
    "editable": true
   },
   "outputs": [
    {
     "data": {
      "text/plain": [
       "ship_area\n",
       "浦东新区    1363\n",
       "长宁区      572\n",
       "徐汇区      565\n",
       "闵行区      545\n",
       "普陀区      454\n",
       "Name: total_amount, dtype: int64"
      ]
     },
     "execution_count": 23,
     "metadata": {},
     "output_type": "execute_result"
    },
    {
     "data": {
      "image/png": "[encoded data removed]",
      "text/plain": [
       "<matplotlib.figure.Figure at 0x11317b210>"
      ]
     },
     "metadata": {},
     "output_type": "display_data"
    }
   ],
   "source": [
    "# 各地区消费次数\n",
    "area_orders = df.groupby('ship_area')['total_amount'].count()\n",
    "\n",
    "area_orders.plot(kind='bar', figsize=(10,5))\n",
    "area_orders.sort_values(ascending=False).rename(areas).head()"
   ]
  },
  {
   "cell_type": "code",
   "execution_count": 24,
   "metadata": {
    "collapsed": false
   },
   "outputs": [
    {
     "data": {
      "text/plain": [
       "ship_area\n",
       "浦东新区    132584.420\n",
       "长宁区      73890.910\n",
       "徐汇区      59923.900\n",
       "闵行区      59774.485\n",
       "黄浦区      43370.770\n",
       "Name: total_amount, dtype: float64"
      ]
     },
     "execution_count": 24,
     "metadata": {},
     "output_type": "execute_result"
    },
    {
     "data": {
      "image/png": "[encoded data removed]",
      "text/plain": [
       "<matplotlib.figure.Figure at 0x112e22250>"
      ]
     },
     "metadata": {},
     "output_type": "display_data"
    }
   ],
   "source": [
    "# 各地区消费总额\n",
    "area_amount = df.groupby('ship_area')['total_amount'].sum()\n",
    "\n",
    "area_amount.plot(kind='bar', figsize=(10,5))\n",
    "area_amount.sort_values(ascending=False).rename(areas).head()"
   ]
  },
  {
   "cell_type": "code",
   "execution_count": 25,
   "metadata": {
    "collapsed": false,
    "deletable": true,
    "editable": true,
    "scrolled": false
   },
   "outputs": [
    {
     "data": {
      "text/plain": [
       "<matplotlib.axes._subplots.AxesSubplot at 0x1132ecf50>"
      ]
     },
     "execution_count": 25,
     "metadata": {},
     "output_type": "execute_result"
    },
    {
     "data": {
      "image/png": "[encoded data removed]",
      "text/plain": [
       "<matplotlib.figure.Figure at 0x11793de50>"
      ]
     },
     "metadata": {},
     "output_type": "display_data"
    }
   ],
   "source": [
    "# 各地区消费力箱型图\n",
    "fig = plt.figure(figsize=(10, 5))\n",
    "sns.boxplot(x='ship_area', y='total_amount', data=df)"
   ]
  },
  {
   "cell_type": "code",
   "execution_count": null,
   "metadata": {
    "collapsed": false,
    "deletable": true,
    "editable": true
   },
   "outputs": [],
   "source": []
  },
  {
   "cell_type": "code",
   "execution_count": null,
   "metadata": {
    "collapsed": true,
    "deletable": true,
    "editable": true
   },
   "outputs": [],
   "source": []
  },
  {
   "cell_type": "code",
   "execution_count": 26,
   "metadata": {
    "collapsed": false,
    "deletable": true,
    "editable": true
   },
   "outputs": [
    {
     "data": {
      "text/plain": [
       "count    5821.000000\n",
       "mean      102.500877\n",
       "std       106.008417\n",
       "min         0.000000\n",
       "25%        15.800000\n",
       "50%        76.000000\n",
       "75%       171.020000\n",
       "max       532.930000\n",
       "Name: total_amount, dtype: float64"
      ]
     },
     "execution_count": 26,
     "metadata": {},
     "output_type": "execute_result"
    }
   ],
   "source": [
    "# 观察 total_amount\n",
    "df.total_amount.describe()"
   ]
  },
  {
   "cell_type": "markdown",
   "metadata": {
    "deletable": true,
    "editable": true
   },
   "source": [
    "- 平均购买金额约 110\n",
    "- 购买金额差异颇大 (std=146.618477)\n",
    "- 最小购买金额0， 最大购买金额 5994"
   ]
  },
  {
   "cell_type": "code",
   "execution_count": 27,
   "metadata": {
    "collapsed": false,
    "deletable": true,
    "editable": true
   },
   "outputs": [
    {
     "data": {
      "text/plain": [
       "<matplotlib.axes._subplots.AxesSubplot at 0x1130a5b90>"
      ]
     },
     "execution_count": 27,
     "metadata": {},
     "output_type": "execute_result"
    },
    {
     "data": {
      "image/png": "[encoded data removed]",
      "text/plain": [
       "<matplotlib.figure.Figure at 0x113070dd0>"
      ]
     },
     "metadata": {},
     "output_type": "display_data"
    }
   ],
   "source": [
    "# 用 bar chart 观察消费分布\n",
    "df.total_amount.hist(bins=60)"
   ]
  },
  {
   "cell_type": "code",
   "execution_count": 28,
   "metadata": {
    "collapsed": false,
    "deletable": true,
    "editable": true
   },
   "outputs": [
    {
     "data": {
      "text/plain": [
       "(0, 100]      2694\n",
       "(100, 200]    1516\n",
       "(200, 300]     869\n",
       "(300, 400]     193\n",
       "(400, 500]      82\n",
       "(500, 600]      28\n",
       "Name: total_amount, dtype: int64"
      ]
     },
     "execution_count": 28,
     "metadata": {},
     "output_type": "execute_result"
    }
   ],
   "source": [
    "# 对消费金额分组\n",
    "cats = pd.cut(df.total_amount, bins=linspace(0,6000,61)).value_counts()\n",
    "cats = cats[cats != 0]\n",
    "cats"
   ]
  },
  {
   "cell_type": "markdown",
   "metadata": {
    "deletable": true,
    "editable": true
   },
   "source": [
    "用 1000元 将购买行为分成两部分\n",
    "- 一般消费者\n",
    "- 高端消费者"
   ]
  },
  {
   "cell_type": "code",
   "execution_count": 29,
   "metadata": {
    "collapsed": false,
    "deletable": true,
    "editable": true
   },
   "outputs": [
    {
     "data": {
      "text/plain": [
       "count    5821.000000\n",
       "mean      102.500877\n",
       "std       106.008417\n",
       "min         0.000000\n",
       "25%        15.800000\n",
       "50%        76.000000\n",
       "75%       171.020000\n",
       "max       532.930000\n",
       "Name: total_amount, dtype: float64"
      ]
     },
     "execution_count": 29,
     "metadata": {},
     "output_type": "execute_result"
    }
   ],
   "source": [
    "# 一般消费者\n",
    "df1 = df[df.total_amount < 1000]\n",
    "df1.total_amount.describe()"
   ]
  },
  {
   "cell_type": "code",
   "execution_count": 30,
   "metadata": {
    "collapsed": false,
    "deletable": true,
    "editable": true
   },
   "outputs": [
    {
     "data": {
      "text/plain": [
       "<matplotlib.axes._subplots.AxesSubplot at 0x112e9d250>"
      ]
     },
     "execution_count": 30,
     "metadata": {},
     "output_type": "execute_result"
    },
    {
     "data": {
      "image/png": "[encoded data removed]",
      "text/plain": [
       "<matplotlib.figure.Figure at 0x117c1fb10>"
      ]
     },
     "metadata": {},
     "output_type": "display_data"
    }
   ],
   "source": [
    "df1.total_amount.hist(bins=20)"
   ]
  },
  {
   "cell_type": "code",
   "execution_count": 31,
   "metadata": {
    "collapsed": false,
    "deletable": true,
    "editable": true
   },
   "outputs": [
    {
     "data": {
      "text/plain": [
       "439"
      ]
     },
     "execution_count": 31,
     "metadata": {},
     "output_type": "execute_result"
    }
   ],
   "source": [
    "# 发现消费金额为 0 的订单\n",
    "df0 = df[df.total_amount == 0]\n",
    "len(df0)"
   ]
  },
  {
   "cell_type": "markdown",
   "metadata": {
    "deletable": true,
    "editable": true
   },
   "source": [
    "应该追查原因\n",
    "- 为何放弃购买：价格太贵？找不到想买的？购物车设计不良？\n",
    "- 那些人放弃购买：来乱的？熟客？\n",
    "- 什么时间：商品缺货？竞争对手促销？\n",
    "- 放弃购买时购物车里有哪些商品？\n",
    "- 放弃购买的人地理分布：距离太远、运送时间太久？"
   ]
  },
  {
   "cell_type": "code",
   "execution_count": 32,
   "metadata": {
    "collapsed": false,
    "deletable": true,
    "editable": true
   },
   "outputs": [
    {
     "data": {
      "text/plain": [
       "<matplotlib.axes._subplots.AxesSubplot at 0x117e80690>"
      ]
     },
     "execution_count": 32,
     "metadata": {},
     "output_type": "execute_result"
    },
    {
     "data": {
      "image/png": "[encoded data removed]",
      "text/plain": [
       "<matplotlib.figure.Figure at 0x117c6d110>"
      ]
     },
     "metadata": {},
     "output_type": "display_data"
    }
   ],
   "source": [
    "# 移除0元订单\n",
    "df1 = df1[df1.total_amount != 0]\n",
    "df1.total_amount.hist(bins=20)"
   ]
  },
  {
   "cell_type": "code",
   "execution_count": 33,
   "metadata": {
    "collapsed": false,
    "deletable": true,
    "editable": true
   },
   "outputs": [
    {
     "data": {
      "text/html": [
       "<div>\n",
       "<table border=\"1\" class=\"dataframe\">\n",
       "  <thead>\n",
       "    <tr style=\"text-align: right;\">\n",
       "      <th></th>\n",
       "      <th>count</th>\n",
       "      <th>sum</th>\n",
       "    </tr>\n",
       "    <tr>\n",
       "      <th>ship_mobile</th>\n",
       "      <th></th>\n",
       "      <th></th>\n",
       "    </tr>\n",
       "  </thead>\n",
       "  <tbody>\n",
       "  </tbody>\n",
       "</table>\n",
       "</div>"
      ],
      "text/plain": [
       "Empty DataFrame\n",
       "Columns: [count, sum]\n",
       "Index: []"
      ]
     },
     "execution_count": 33,
     "metadata": {},
     "output_type": "execute_result"
    }
   ],
   "source": [
    "# 观察1000元以上的订单\n",
    "df2 = df[df.total_amount >= 1000]\n",
    "df2.groupby('ship_mobile')['total_amount'].agg(['count','sum'])"
   ]
  },
  {
   "cell_type": "code",
   "execution_count": 34,
   "metadata": {
    "collapsed": false,
    "deletable": true,
    "editable": true
   },
   "outputs": [
    {
     "data": {
      "text/html": [
       "<div>\n",
       "<table border=\"1\" class=\"dataframe\">\n",
       "  <thead>\n",
       "    <tr style=\"text-align: right;\">\n",
       "      <th></th>\n",
       "      <th>ship_mobile</th>\n",
       "      <th>total_amount</th>\n",
       "      <th>pay_status</th>\n",
       "      <th>ship_status</th>\n",
       "      <th>erp_order_id</th>\n",
       "      <th>erp_status</th>\n",
       "      <th>createtime</th>\n",
       "      <th>last_modified</th>\n",
       "      <th>payment</th>\n",
       "      <th>shipping</th>\n",
       "      <th>...</th>\n",
       "      <th>city_link</th>\n",
       "      <th>verify_city_link</th>\n",
       "      <th>fuzzy</th>\n",
       "      <th>longitude</th>\n",
       "      <th>latitude</th>\n",
       "      <th>scalping</th>\n",
       "      <th>autoSendErp</th>\n",
       "      <th>autoSendErpStatus</th>\n",
       "      <th>lang</th>\n",
       "      <th>delivery_note_price</th>\n",
       "    </tr>\n",
       "  </thead>\n",
       "  <tbody>\n",
       "  </tbody>\n",
       "</table>\n",
       "<p>0 rows × 44 columns</p>\n",
       "</div>"
      ],
      "text/plain": [
       "Empty DataFrame\n",
       "Columns: [ship_mobile, total_amount, pay_status, ship_status, erp_order_id, erp_status, createtime, last_modified, payment, shipping, member_id, promotion_type, group_id, groupOn_id, is_leader, group_num, status, confirm_delivery, ship_area, weight, itemnum, ship_time, cost_item, is_tax, tax_type, advance, score_u, score_g, discount, pmt_goods, pmt_order, displayonsite, cost_freight, source, city_link, verify_city_link, fuzzy, longitude, latitude, scalping, autoSendErp, autoSendErpStatus, lang, delivery_note_price]\n",
       "Index: []\n",
       "\n",
       "[0 rows x 44 columns]"
      ]
     },
     "execution_count": 34,
     "metadata": {},
     "output_type": "execute_result"
    }
   ],
   "source": [
    "# 查看客户 16025631922\n",
    "mobile_16025631922 = df[df.ship_mobile == 16025631922]\n",
    "mobile_16025631922"
   ]
  },
  {
   "cell_type": "code",
   "execution_count": 35,
   "metadata": {
    "collapsed": false,
    "deletable": true,
    "editable": true
   },
   "outputs": [
    {
     "data": {
      "text/plain": [
       "0.0"
      ]
     },
     "execution_count": 35,
     "metadata": {},
     "output_type": "execute_result"
    }
   ],
   "source": [
    "100 * mobile_16025631922.total_amount.sum() / df.total_amount.sum()"
   ]
  },
  {
   "cell_type": "markdown",
   "metadata": {
    "deletable": true,
    "editable": true
   },
   "source": [
    "虽然只下了两次单，但人家好歹也占营业额1%啊！这个“泠客戶”值得注意"
   ]
  },
  {
   "cell_type": "code",
   "execution_count": 36,
   "metadata": {
    "collapsed": false,
    "deletable": true,
    "editable": true
   },
   "outputs": [
    {
     "data": {
      "text/html": [
       "<div>\n",
       "<table border=\"1\" class=\"dataframe\">\n",
       "  <thead>\n",
       "    <tr style=\"text-align: right;\">\n",
       "      <th></th>\n",
       "      <th>ship_mobile</th>\n",
       "      <th>total_amount</th>\n",
       "      <th>pay_status</th>\n",
       "      <th>ship_status</th>\n",
       "      <th>erp_order_id</th>\n",
       "      <th>erp_status</th>\n",
       "      <th>createtime</th>\n",
       "      <th>last_modified</th>\n",
       "      <th>payment</th>\n",
       "      <th>shipping</th>\n",
       "      <th>...</th>\n",
       "      <th>city_link</th>\n",
       "      <th>verify_city_link</th>\n",
       "      <th>fuzzy</th>\n",
       "      <th>longitude</th>\n",
       "      <th>latitude</th>\n",
       "      <th>scalping</th>\n",
       "      <th>autoSendErp</th>\n",
       "      <th>autoSendErpStatus</th>\n",
       "      <th>lang</th>\n",
       "      <th>delivery_note_price</th>\n",
       "    </tr>\n",
       "  </thead>\n",
       "  <tbody>\n",
       "  </tbody>\n",
       "</table>\n",
       "<p>0 rows × 44 columns</p>\n",
       "</div>"
      ],
      "text/plain": [
       "Empty DataFrame\n",
       "Columns: [ship_mobile, total_amount, pay_status, ship_status, erp_order_id, erp_status, createtime, last_modified, payment, shipping, member_id, promotion_type, group_id, groupOn_id, is_leader, group_num, status, confirm_delivery, ship_area, weight, itemnum, ship_time, cost_item, is_tax, tax_type, advance, score_u, score_g, discount, pmt_goods, pmt_order, displayonsite, cost_freight, source, city_link, verify_city_link, fuzzy, longitude, latitude, scalping, autoSendErp, autoSendErpStatus, lang, delivery_note_price]\n",
       "Index: []\n",
       "\n",
       "[0 rows x 44 columns]"
      ]
     },
     "execution_count": 36,
     "metadata": {},
     "output_type": "execute_result"
    }
   ],
   "source": [
    "# 发现一个有趣的现象: 好几张订单金额都是1000，呼应某种促销活动吗？\n",
    "df2[df2.total_amount % 1000 == 0]"
   ]
  },
  {
   "cell_type": "code",
   "execution_count": null,
   "metadata": {
    "collapsed": true,
    "deletable": true,
    "editable": true
   },
   "outputs": [],
   "source": []
  }
 ],
 "metadata": {
  "kernelspec": {
   "display_name": "Python 2",
   "language": "python",
   "name": "python2"
  },
  "language_info": {
   "codemirror_mode": {
    "name": "ipython",
    "version": 2
   },
   "file_extension": ".py",
   "mimetype": "text/x-python",
   "name": "python",
   "nbconvert_exporter": "python",
   "pygments_lexer": "ipython2",
   "version": "2.7.11"
  }
 },
 "nbformat": 4,
 "nbformat_minor": 2
}
