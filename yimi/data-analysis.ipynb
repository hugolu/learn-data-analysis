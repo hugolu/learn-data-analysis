{
 "cells": [
  {
   "cell_type": "markdown",
   "metadata": {
    "deletable": true,
    "editable": true
   },
   "source": [
    "# 数据分析"
   ]
  },
  {
   "cell_type": "code",
   "execution_count": 1,
   "metadata": {
    "collapsed": false,
    "deletable": true,
    "editable": true
   },
   "outputs": [
    {
     "name": "stdout",
     "output_type": "stream",
     "text": [
      "Populating the interactive namespace from numpy and matplotlib\n"
     ]
    }
   ],
   "source": [
    "%pylab inline"
   ]
  },
  {
   "cell_type": "code",
   "execution_count": 2,
   "metadata": {
    "collapsed": true,
    "deletable": true,
    "editable": true
   },
   "outputs": [],
   "source": [
    "import numpy as np\n",
    "import pandas as pd\n",
    "from pandas import Series, DataFrame\n",
    "import seaborn as sns\n",
    "from datetime import datetime"
   ]
  },
  {
   "cell_type": "markdown",
   "metadata": {
    "deletable": true,
    "editable": true
   },
   "source": [
    "## 载入数据\n",
    "\n",
    "丢弃部分字段：\n",
    "\n",
    "字段 | 分类 | 处理方式\n",
    "---|---|---\n",
    "ship_name | 杂讯 | 丢弃\n",
    "ship_mobile | 类别特征 | 重新编码\n",
    "order_id | 无关分析 | 丢弃\n",
    "total_amount | 数值特征 | ~~剔除异常值(0)，转成对数~~ 稍后决定\n",
    "final_amount | 重复信息 | 丢弃\n",
    "pay_status | 类别特征 | 使用\n",
    "ship_status | 类别特征 | 使用\n",
    "is_delivery | 无识别度 | 丢弃\n",
    "try_order | 无识别度 | 丢弃\n",
    "erp_order_id | 数值特征 | {0, 1}\n",
    "erp_status | 数值特征 | 重新编码\n",
    "createtime | 数值特征 | 转换成日期\n",
    "last_modified | 数值特征 | 转换成日期\n",
    "payment | 类别特征 | 重新编码\n",
    "shipping_id | 无识别度 | 丢弃\n",
    "shipping | 类别特征 | 重新编码\n",
    "member_id | 类别特征 | 重新编码\n",
    "promotion_type | 类别特征 | 重新编码\n",
    "group_id | 类别特征 | 重新编码\n",
    "groupOn_id | 类别特征 | 重新编码\n",
    "is_leader | 数值特征 | {0, 1}\n",
    "is_prepare | 无识别度 | 丢弃\n",
    "group_num | 数值特征 | {0, 3}\n",
    "status | 类别特征 | 重新编码\n",
    "confirm_delivery | 类别特征 | 重新编码\n",
    "confirm | 无识别度 | 丢弃\n",
    "ship_area | 类别特征 | 抽取区码\n",
    "weight | 数值特征 | ~~剔除异常值(0)，转成对数~~ 稍后决定\n",
    "tostr | 无关分析 | 丢弃\n",
    "itemnum | 数值特征 | 使用\n",
    "ip | 杂讯 | 丢弃\n",
    "ship_addr | 重复信息 | 丢弃\n",
    "ship_zip | 无关分析 | 丢弃\n",
    "ship_tel | 重复信息 | 丢弃\n",
    "ship_email | 无识别度 | 丢弃\n",
    "ship_time | 类别特征 | 抽取时段，重新编码\n",
    "cost_item | 数值特征 | ~~剔除异常值(0)，转成对数~~ 稍后决定\n",
    "is_tax | 数值特征 | {False, True}\n",
    "tax_type | 类别特征 | 重新编码\n",
    "cost_tax | 无识别度 | 丢弃\n",
    "is_protect | 无识别度 | 丢弃\n",
    "cost_protect | 无识别度 | 丢弃\n",
    "cost_payment | 无识别度 | 丢弃\n",
    "currency | 无识别度 | 丢弃\n",
    "cur_rate | 无识别度 | 丢弃\n",
    "advance | 数值特征 | ~~剔除异常值(0)，转成对数~~ 稍后决定\n",
    "score_u | 数值特征 | ~~剔除异常值(0)，转成对数~~ 稍后决定\n",
    "score_g | 数值特征 | ~~剔除异常值(0)，转成对数~~ 稍后决定\n",
    "discount | 数值特征 | 转成正数\n",
    "pmt_goods | 数值特征 | 使用\n",
    "pmt_order | 数值特征 | 使用\n",
    "payed | 杂讯 | 丢弃\n",
    "disabled | 无识别度 | 丢弃\n",
    "displayonsite | 数值特征 | {False, True}\n",
    "mark_type | 无识别度 | 丢弃\n",
    "cost_freight | 数值特征 | 使用\n",
    "extend | 无识别度 | 丢弃\n",
    "order_refer | 无识别度 | 丢弃\n",
    "addon | 杂讯 | 丢弃\n",
    "source | 类别特征 | 重新编码\n",
    "city_link | 数值特征 | {0, 1, 2}\n",
    "verify_city_link | 数值特征 | {-1，0，1，2}\n",
    "fuzzy | 数值特征 | {0,1}\n",
    "longitude | 数值特征 | ~~剔除异常值~~ 稍后决定\n",
    "latitude | 数值特征 | ~~剔除异常值~~ 稍后决定\n",
    "scalping | 数值特征 | {False, True}\n",
    "out_trade_no | 无关分析 | 丢弃\n",
    "autoSendErp | 数值特征 | {False,True}\n",
    "autoSendErpStatus | 类别特征 | {0, 1, 2}\n",
    "string_tag_id | 杂讯 | 丢弃\n",
    "lang | 类别特征 | 重新编码\n",
    "delivery_note_price | 类别特征 | 重新编码"
   ]
  },
  {
   "cell_type": "code",
   "execution_count": 3,
   "metadata": {
    "collapsed": false
   },
   "outputs": [
    {
     "data": {
      "text/plain": [
       "(5881, 44)"
      ]
     },
     "execution_count": 3,
     "metadata": {},
     "output_type": "execute_result"
    }
   ],
   "source": [
    "# 选取需要的字段\n",
    "cols = ['ship_mobile', 'total_amount', 'pay_status', 'ship_status', 'erp_order_id', 'erp_status',\n",
    "        'createtime', 'last_modified', 'payment', 'shipping', 'member_id', 'promotion_type',\n",
    "        'group_id', 'groupOn_id', 'is_leader', 'group_num', 'status', 'confirm_delivery', 'ship_area',\n",
    "        'weight', 'itemnum', 'ship_time', 'cost_item', 'is_tax', 'tax_type', 'advance',\n",
    "        'score_u', 'score_g', 'discount', 'pmt_goods', 'pmt_order', 'displayonsite', 'cost_freight',\n",
    "        'source', 'city_link', 'verify_city_link', 'fuzzy', 'longitude', 'latitude', 'scalping',\n",
    "        'autoSendErp', 'autoSendErpStatus', 'lang', 'delivery_note_price']\n",
    "\n",
    "df = pd.read_excel('test_data.xls', usecols=cols)\n",
    "df.shape"
   ]
  },
  {
   "cell_type": "markdown",
   "metadata": {
    "deletable": true,
    "editable": true
   },
   "source": [
    "## 基本统计观察"
   ]
  },
  {
   "cell_type": "code",
   "execution_count": 4,
   "metadata": {
    "collapsed": false,
    "deletable": true,
    "editable": true
   },
   "outputs": [
    {
     "data": {
      "text/plain": [
       "17166769648    23\n",
       "16143545425    22\n",
       "16143452034    14\n",
       "17015859490    13\n",
       "17131246473    13\n",
       "17188915242    13\n",
       "16104542317    12\n",
       "16103411770    11\n",
       "16140271796    11\n",
       "16594905358    11\n",
       "Name: ship_mobile, dtype: int64"
      ]
     },
     "execution_count": 4,
     "metadata": {},
     "output_type": "execute_result"
    }
   ],
   "source": [
    "# top 10 常客\n",
    "df.ship_mobile.value_counts().head(10)"
   ]
  },
  {
   "cell_type": "code",
   "execution_count": 5,
   "metadata": {
    "collapsed": false,
    "deletable": true,
    "editable": true
   },
   "outputs": [
    {
     "data": {
      "text/plain": [
       "ship_mobile\n",
       "16025631922    6718.00\n",
       "17166769648    6420.86\n",
       "16143545425    5002.66\n",
       "16143452034    3969.50\n",
       "17015859490    3603.17\n",
       "16104542317    3599.37\n",
       "16143852933    3503.90\n",
       "17131246473    3332.54\n",
       "16594856439    3140.21\n",
       "16165729992    2910.70\n",
       "Name: total_amount, dtype: float64"
      ]
     },
     "execution_count": 5,
     "metadata": {},
     "output_type": "execute_result"
    }
   ],
   "source": [
    "# top 10 顾客\n",
    "df.groupby('ship_mobile')['total_amount'].sum().sort_values(ascending=False).head(10)"
   ]
  },
  {
   "cell_type": "markdown",
   "metadata": {
    "deletable": true,
    "editable": true
   },
   "source": [
    "- 客户 17166769648 订单数22，总消费金额6420.86，绝对是VIP"
   ]
  },
  {
   "cell_type": "code",
   "execution_count": 6,
   "metadata": {
    "collapsed": false,
    "deletable": true,
    "editable": true
   },
   "outputs": [
    {
     "data": {
      "text/plain": [
       "count    5881.000000\n",
       "mean      109.929809\n",
       "std       146.618477\n",
       "min         0.000000\n",
       "25%        16.000000\n",
       "50%        80.000000\n",
       "75%       176.000000\n",
       "max      5994.000000\n",
       "Name: total_amount, dtype: float64"
      ]
     },
     "execution_count": 6,
     "metadata": {},
     "output_type": "execute_result"
    }
   ],
   "source": [
    "# 观察 total_amount\n",
    "df.total_amount.describe()"
   ]
  },
  {
   "cell_type": "markdown",
   "metadata": {
    "deletable": true,
    "editable": true
   },
   "source": [
    "- 平均购买金额约 110\n",
    "- 购买金额差异颇大 (std=146.618477)\n",
    "- 最小购买金额0， 最大购买金额 5994"
   ]
  },
  {
   "cell_type": "code",
   "execution_count": 7,
   "metadata": {
    "collapsed": false,
    "deletable": true,
    "editable": true
   },
   "outputs": [
    {
     "data": {
      "text/plain": [
       "<matplotlib.axes._subplots.AxesSubplot at 0x112636c50>"
      ]
     },
     "execution_count": 7,
     "metadata": {},
     "output_type": "execute_result"
    },
    {
     "data": {
      "image/png": "[encoded data removed]",
      "text/plain": [
       "<matplotlib.figure.Figure at 0x112636a10>"
      ]
     },
     "metadata": {},
     "output_type": "display_data"
    }
   ],
   "source": [
    "# 用 bar chart 观察消费分布\n",
    "df.total_amount.hist(bins=60)"
   ]
  },
  {
   "cell_type": "code",
   "execution_count": 8,
   "metadata": {
    "collapsed": false,
    "deletable": true,
    "editable": true
   },
   "outputs": [
    {
     "data": {
      "text/plain": [
       "(0, 100]        2694\n",
       "(100, 200]      1516\n",
       "(200, 300]       869\n",
       "(300, 400]       193\n",
       "(400, 500]        82\n",
       "(500, 600]        51\n",
       "(900, 1000]       12\n",
       "(600, 700]        10\n",
       "(700, 800]         5\n",
       "(800, 900]         4\n",
       "(1000, 1100]       3\n",
       "(1300, 1400]       1\n",
       "(1100, 1200]       1\n",
       "(5900, 6000]       1\n",
       "Name: total_amount, dtype: int64"
      ]
     },
     "execution_count": 8,
     "metadata": {},
     "output_type": "execute_result"
    }
   ],
   "source": [
    "# 对消费金额分组\n",
    "cats = pd.cut(df.total_amount, bins=linspace(0,6000,61)).value_counts()\n",
    "cats = cats[cats != 0]\n",
    "cats"
   ]
  },
  {
   "cell_type": "markdown",
   "metadata": {
    "deletable": true,
    "editable": true
   },
   "source": [
    "用 1000元 将购买行为分成两部分\n",
    "- 一般消费者\n",
    "- 高端消费者"
   ]
  },
  {
   "cell_type": "code",
   "execution_count": 9,
   "metadata": {
    "collapsed": false,
    "deletable": true,
    "editable": true
   },
   "outputs": [
    {
     "data": {
      "text/plain": [
       "count    5868.000000\n",
       "mean      106.992922\n",
       "std       117.425926\n",
       "min         0.000000\n",
       "25%        16.000000\n",
       "50%        79.000000\n",
       "75%       175.000000\n",
       "max       994.000000\n",
       "Name: total_amount, dtype: float64"
      ]
     },
     "execution_count": 9,
     "metadata": {},
     "output_type": "execute_result"
    }
   ],
   "source": [
    "# 一般消费者\n",
    "df1 = df[df.total_amount < 1000]\n",
    "df1.total_amount.describe()"
   ]
  },
  {
   "cell_type": "code",
   "execution_count": 10,
   "metadata": {
    "collapsed": false,
    "deletable": true,
    "editable": true
   },
   "outputs": [
    {
     "data": {
      "text/plain": [
       "<matplotlib.axes._subplots.AxesSubplot at 0x112c4e510>"
      ]
     },
     "execution_count": 10,
     "metadata": {},
     "output_type": "execute_result"
    },
    {
     "data": {
      "image/png": "[encoded data removed]",
      "text/plain": [
       "<matplotlib.figure.Figure at 0x10e99b290>"
      ]
     },
     "metadata": {},
     "output_type": "display_data"
    }
   ],
   "source": [
    "df1.total_amount.hist(bins=20)"
   ]
  },
  {
   "cell_type": "code",
   "execution_count": 11,
   "metadata": {
    "collapsed": false,
    "deletable": true,
    "editable": true
   },
   "outputs": [
    {
     "data": {
      "text/plain": [
       "439"
      ]
     },
     "execution_count": 11,
     "metadata": {},
     "output_type": "execute_result"
    }
   ],
   "source": [
    "# 发现消费金额为 0 的订单\n",
    "df0 = df[df.total_amount == 0]\n",
    "len(df0)"
   ]
  },
  {
   "cell_type": "markdown",
   "metadata": {
    "deletable": true,
    "editable": true
   },
   "source": [
    "应该追查原因\n",
    "- 为何放弃购买：价格太贵？找不到想买的？购物车设计不良？\n",
    "- 那些人放弃购买：来乱的？熟客？\n",
    "- 什么时间：商品缺货？竞争对手促销？\n",
    "- 放弃购买时购物车里有哪些商品？\n",
    "- 放弃购买的人地理分布：距离太远、运送时间太久？"
   ]
  },
  {
   "cell_type": "code",
   "execution_count": 12,
   "metadata": {
    "collapsed": false,
    "deletable": true,
    "editable": true
   },
   "outputs": [
    {
     "data": {
      "text/plain": [
       "<matplotlib.axes._subplots.AxesSubplot at 0x117207a90>"
      ]
     },
     "execution_count": 12,
     "metadata": {},
     "output_type": "execute_result"
    },
    {
     "data": {
      "image/png": "[encoded data removed]",
      "text/plain": [
       "<matplotlib.figure.Figure at 0x1171ac950>"
      ]
     },
     "metadata": {},
     "output_type": "display_data"
    }
   ],
   "source": [
    "# 移除0元订单\n",
    "df1 = df1[df1.total_amount != 0]\n",
    "df1.total_amount.hist(bins=20)"
   ]
  },
  {
   "cell_type": "code",
   "execution_count": 13,
   "metadata": {
    "collapsed": false,
    "deletable": true,
    "editable": true
   },
   "outputs": [
    {
     "data": {
      "text/html": [
       "<div>\n",
       "<table border=\"1\" class=\"dataframe\">\n",
       "  <thead>\n",
       "    <tr style=\"text-align: right;\">\n",
       "      <th></th>\n",
       "      <th>count</th>\n",
       "      <th>sum</th>\n",
       "    </tr>\n",
       "    <tr>\n",
       "      <th>ship_mobile</th>\n",
       "      <th></th>\n",
       "      <th></th>\n",
       "    </tr>\n",
       "  </thead>\n",
       "  <tbody>\n",
       "    <tr>\n",
       "      <th>16025631922</th>\n",
       "      <td>1</td>\n",
       "      <td>5994.00</td>\n",
       "    </tr>\n",
       "    <tr>\n",
       "      <th>16027987710</th>\n",
       "      <td>1</td>\n",
       "      <td>1303.60</td>\n",
       "    </tr>\n",
       "    <tr>\n",
       "      <th>16047130497</th>\n",
       "      <td>2</td>\n",
       "      <td>2000.00</td>\n",
       "    </tr>\n",
       "    <tr>\n",
       "      <th>16058109885</th>\n",
       "      <td>1</td>\n",
       "      <td>1000.00</td>\n",
       "    </tr>\n",
       "    <tr>\n",
       "      <th>16073163745</th>\n",
       "      <td>1</td>\n",
       "      <td>1096.60</td>\n",
       "    </tr>\n",
       "    <tr>\n",
       "      <th>16111321232</th>\n",
       "      <td>1</td>\n",
       "      <td>1000.00</td>\n",
       "    </tr>\n",
       "    <tr>\n",
       "      <th>16140231576</th>\n",
       "      <td>1</td>\n",
       "      <td>1081.00</td>\n",
       "    </tr>\n",
       "    <tr>\n",
       "      <th>16143852933</th>\n",
       "      <td>1</td>\n",
       "      <td>1033.10</td>\n",
       "    </tr>\n",
       "    <tr>\n",
       "      <th>16166056665</th>\n",
       "      <td>1</td>\n",
       "      <td>1000.00</td>\n",
       "    </tr>\n",
       "    <tr>\n",
       "      <th>16594856439</th>\n",
       "      <td>1</td>\n",
       "      <td>1154.44</td>\n",
       "    </tr>\n",
       "    <tr>\n",
       "      <th>16941369693</th>\n",
       "      <td>1</td>\n",
       "      <td>1000.00</td>\n",
       "    </tr>\n",
       "    <tr>\n",
       "      <th>17188596867</th>\n",
       "      <td>1</td>\n",
       "      <td>1000.00</td>\n",
       "    </tr>\n",
       "  </tbody>\n",
       "</table>\n",
       "</div>"
      ],
      "text/plain": [
       "             count      sum\n",
       "ship_mobile                \n",
       "16025631922      1  5994.00\n",
       "16027987710      1  1303.60\n",
       "16047130497      2  2000.00\n",
       "16058109885      1  1000.00\n",
       "16073163745      1  1096.60\n",
       "16111321232      1  1000.00\n",
       "16140231576      1  1081.00\n",
       "16143852933      1  1033.10\n",
       "16166056665      1  1000.00\n",
       "16594856439      1  1154.44\n",
       "16941369693      1  1000.00\n",
       "17188596867      1  1000.00"
      ]
     },
     "execution_count": 13,
     "metadata": {},
     "output_type": "execute_result"
    }
   ],
   "source": [
    "# 观察1000元以上的订单\n",
    "df2 = df[df.total_amount >= 1000]\n",
    "df2.groupby('ship_mobile')['total_amount'].agg(['count','sum'])"
   ]
  },
  {
   "cell_type": "code",
   "execution_count": 14,
   "metadata": {
    "collapsed": false,
    "deletable": true,
    "editable": true
   },
   "outputs": [
    {
     "data": {
      "text/html": [
       "<div>\n",
       "<table border=\"1\" class=\"dataframe\">\n",
       "  <thead>\n",
       "    <tr style=\"text-align: right;\">\n",
       "      <th></th>\n",
       "      <th>ship_mobile</th>\n",
       "      <th>total_amount</th>\n",
       "      <th>pay_status</th>\n",
       "      <th>ship_status</th>\n",
       "      <th>erp_order_id</th>\n",
       "      <th>erp_status</th>\n",
       "      <th>createtime</th>\n",
       "      <th>last_modified</th>\n",
       "      <th>payment</th>\n",
       "      <th>shipping</th>\n",
       "      <th>...</th>\n",
       "      <th>city_link</th>\n",
       "      <th>verify_city_link</th>\n",
       "      <th>fuzzy</th>\n",
       "      <th>longitude</th>\n",
       "      <th>latitude</th>\n",
       "      <th>scalping</th>\n",
       "      <th>autoSendErp</th>\n",
       "      <th>autoSendErpStatus</th>\n",
       "      <th>lang</th>\n",
       "      <th>delivery_note_price</th>\n",
       "    </tr>\n",
       "  </thead>\n",
       "  <tbody>\n",
       "    <tr>\n",
       "      <th>1726</th>\n",
       "      <td>16025631922</td>\n",
       "      <td>5994.0</td>\n",
       "      <td>1</td>\n",
       "      <td>1</td>\n",
       "      <td>1</td>\n",
       "      <td>succ</td>\n",
       "      <td>1484367354</td>\n",
       "      <td>1484646661</td>\n",
       "      <td>alipay</td>\n",
       "      <td>一米市集直送</td>\n",
       "      <td>...</td>\n",
       "      <td>1.0</td>\n",
       "      <td>1.0</td>\n",
       "      <td>0</td>\n",
       "      <td>121.639651</td>\n",
       "      <td>31.324147</td>\n",
       "      <td>False</td>\n",
       "      <td>True</td>\n",
       "      <td>1</td>\n",
       "      <td>simplified_chinese</td>\n",
       "      <td>display</td>\n",
       "    </tr>\n",
       "    <tr>\n",
       "      <th>1965</th>\n",
       "      <td>16025631922</td>\n",
       "      <td>724.0</td>\n",
       "      <td>1</td>\n",
       "      <td>1</td>\n",
       "      <td>1</td>\n",
       "      <td>succ</td>\n",
       "      <td>1484535563</td>\n",
       "      <td>1484785861</td>\n",
       "      <td>alipay</td>\n",
       "      <td>一米市集直送</td>\n",
       "      <td>...</td>\n",
       "      <td>1.0</td>\n",
       "      <td>1.0</td>\n",
       "      <td>0</td>\n",
       "      <td>121.639651</td>\n",
       "      <td>31.324147</td>\n",
       "      <td>False</td>\n",
       "      <td>True</td>\n",
       "      <td>0</td>\n",
       "      <td>simplified_chinese</td>\n",
       "      <td>display</td>\n",
       "    </tr>\n",
       "  </tbody>\n",
       "</table>\n",
       "<p>2 rows × 44 columns</p>\n",
       "</div>"
      ],
      "text/plain": [
       "      ship_mobile  total_amount  pay_status  ship_status  erp_order_id  \\\n",
       "1726  16025631922        5994.0           1            1             1   \n",
       "1965  16025631922         724.0           1            1             1   \n",
       "\n",
       "     erp_status  createtime  last_modified payment shipping  \\\n",
       "1726       succ  1484367354     1484646661  alipay   一米市集直送   \n",
       "1965       succ  1484535563     1484785861  alipay   一米市集直送   \n",
       "\n",
       "             ...           city_link verify_city_link  fuzzy   longitude  \\\n",
       "1726         ...                 1.0              1.0      0  121.639651   \n",
       "1965         ...                 1.0              1.0      0  121.639651   \n",
       "\n",
       "       latitude  scalping autoSendErp autoSendErpStatus                lang  \\\n",
       "1726  31.324147     False        True                 1  simplified_chinese   \n",
       "1965  31.324147     False        True                 0  simplified_chinese   \n",
       "\n",
       "      delivery_note_price  \n",
       "1726              display  \n",
       "1965              display  \n",
       "\n",
       "[2 rows x 44 columns]"
      ]
     },
     "execution_count": 14,
     "metadata": {},
     "output_type": "execute_result"
    }
   ],
   "source": [
    "# 查看客户 16025631922\n",
    "mobile_16025631922 = df[df.ship_mobile == 16025631922]\n",
    "mobile_16025631922"
   ]
  },
  {
   "cell_type": "code",
   "execution_count": 15,
   "metadata": {
    "collapsed": false,
    "deletable": true,
    "editable": true
   },
   "outputs": [
    {
     "data": {
      "text/plain": [
       "1.0391382898554062"
      ]
     },
     "execution_count": 15,
     "metadata": {},
     "output_type": "execute_result"
    }
   ],
   "source": [
    "100 * mobile_16025631922.total_amount.sum() / df.total_amount.sum()"
   ]
  },
  {
   "cell_type": "markdown",
   "metadata": {
    "deletable": true,
    "editable": true
   },
   "source": [
    "虽然只下了两次单，但人家好歹也占营业额1%啊！这个“泠客戶”值得注意"
   ]
  },
  {
   "cell_type": "code",
   "execution_count": 16,
   "metadata": {
    "collapsed": false,
    "deletable": true,
    "editable": true
   },
   "outputs": [
    {
     "data": {
      "text/html": [
       "<div>\n",
       "<table border=\"1\" class=\"dataframe\">\n",
       "  <thead>\n",
       "    <tr style=\"text-align: right;\">\n",
       "      <th></th>\n",
       "      <th>ship_mobile</th>\n",
       "      <th>total_amount</th>\n",
       "      <th>pay_status</th>\n",
       "      <th>ship_status</th>\n",
       "      <th>erp_order_id</th>\n",
       "      <th>erp_status</th>\n",
       "      <th>createtime</th>\n",
       "      <th>last_modified</th>\n",
       "      <th>payment</th>\n",
       "      <th>shipping</th>\n",
       "      <th>...</th>\n",
       "      <th>city_link</th>\n",
       "      <th>verify_city_link</th>\n",
       "      <th>fuzzy</th>\n",
       "      <th>longitude</th>\n",
       "      <th>latitude</th>\n",
       "      <th>scalping</th>\n",
       "      <th>autoSendErp</th>\n",
       "      <th>autoSendErpStatus</th>\n",
       "      <th>lang</th>\n",
       "      <th>delivery_note_price</th>\n",
       "    </tr>\n",
       "  </thead>\n",
       "  <tbody>\n",
       "    <tr>\n",
       "      <th>1010</th>\n",
       "      <td>16047130497</td>\n",
       "      <td>1000.0</td>\n",
       "      <td>0</td>\n",
       "      <td>0</td>\n",
       "      <td>1</td>\n",
       "      <td>normal</td>\n",
       "      <td>1484829136</td>\n",
       "      <td>1484830983</td>\n",
       "      <td>online</td>\n",
       "      <td>一米市集直送</td>\n",
       "      <td>...</td>\n",
       "      <td>0.0</td>\n",
       "      <td>NaN</td>\n",
       "      <td>0</td>\n",
       "      <td>NaN</td>\n",
       "      <td>NaN</td>\n",
       "      <td>False</td>\n",
       "      <td>True</td>\n",
       "      <td>0</td>\n",
       "      <td>simplified_chinese</td>\n",
       "      <td>display</td>\n",
       "    </tr>\n",
       "    <tr>\n",
       "      <th>1011</th>\n",
       "      <td>16047130497</td>\n",
       "      <td>1000.0</td>\n",
       "      <td>0</td>\n",
       "      <td>0</td>\n",
       "      <td>1</td>\n",
       "      <td>normal</td>\n",
       "      <td>1484829275</td>\n",
       "      <td>1484831104</td>\n",
       "      <td>online</td>\n",
       "      <td>一米市集直送</td>\n",
       "      <td>...</td>\n",
       "      <td>0.0</td>\n",
       "      <td>NaN</td>\n",
       "      <td>0</td>\n",
       "      <td>NaN</td>\n",
       "      <td>NaN</td>\n",
       "      <td>False</td>\n",
       "      <td>True</td>\n",
       "      <td>0</td>\n",
       "      <td>simplified_chinese</td>\n",
       "      <td>display</td>\n",
       "    </tr>\n",
       "    <tr>\n",
       "      <th>1265</th>\n",
       "      <td>16058109885</td>\n",
       "      <td>1000.0</td>\n",
       "      <td>0</td>\n",
       "      <td>0</td>\n",
       "      <td>1</td>\n",
       "      <td>normal</td>\n",
       "      <td>1483953385</td>\n",
       "      <td>1483955222</td>\n",
       "      <td>online</td>\n",
       "      <td>一米市集直送</td>\n",
       "      <td>...</td>\n",
       "      <td>0.0</td>\n",
       "      <td>NaN</td>\n",
       "      <td>0</td>\n",
       "      <td>NaN</td>\n",
       "      <td>NaN</td>\n",
       "      <td>False</td>\n",
       "      <td>True</td>\n",
       "      <td>0</td>\n",
       "      <td>simplified_chinese</td>\n",
       "      <td>display</td>\n",
       "    </tr>\n",
       "    <tr>\n",
       "      <th>1429</th>\n",
       "      <td>16941369693</td>\n",
       "      <td>1000.0</td>\n",
       "      <td>0</td>\n",
       "      <td>0</td>\n",
       "      <td>1</td>\n",
       "      <td>normal</td>\n",
       "      <td>1484080679</td>\n",
       "      <td>1484082483</td>\n",
       "      <td>online</td>\n",
       "      <td>一米市集直送</td>\n",
       "      <td>...</td>\n",
       "      <td>0.0</td>\n",
       "      <td>NaN</td>\n",
       "      <td>0</td>\n",
       "      <td>NaN</td>\n",
       "      <td>NaN</td>\n",
       "      <td>False</td>\n",
       "      <td>True</td>\n",
       "      <td>0</td>\n",
       "      <td>simplified_chinese</td>\n",
       "      <td>display</td>\n",
       "    </tr>\n",
       "    <tr>\n",
       "      <th>2935</th>\n",
       "      <td>17188596867</td>\n",
       "      <td>1000.0</td>\n",
       "      <td>1</td>\n",
       "      <td>1</td>\n",
       "      <td>1</td>\n",
       "      <td>succ</td>\n",
       "      <td>1485066953</td>\n",
       "      <td>1485331441</td>\n",
       "      <td>alipay</td>\n",
       "      <td>一米市集直送</td>\n",
       "      <td>...</td>\n",
       "      <td>1.0</td>\n",
       "      <td>1.0</td>\n",
       "      <td>1</td>\n",
       "      <td>121.390661</td>\n",
       "      <td>31.325194</td>\n",
       "      <td>False</td>\n",
       "      <td>True</td>\n",
       "      <td>0</td>\n",
       "      <td>simplified_chinese</td>\n",
       "      <td>display</td>\n",
       "    </tr>\n",
       "    <tr>\n",
       "      <th>3490</th>\n",
       "      <td>16111321232</td>\n",
       "      <td>1000.0</td>\n",
       "      <td>1</td>\n",
       "      <td>1</td>\n",
       "      <td>1</td>\n",
       "      <td>succ</td>\n",
       "      <td>1486304324</td>\n",
       "      <td>1489917642</td>\n",
       "      <td>wxpayjsapi</td>\n",
       "      <td>一米市集直送</td>\n",
       "      <td>...</td>\n",
       "      <td>0.0</td>\n",
       "      <td>0.0</td>\n",
       "      <td>0</td>\n",
       "      <td>121.452639</td>\n",
       "      <td>31.217353</td>\n",
       "      <td>False</td>\n",
       "      <td>True</td>\n",
       "      <td>0</td>\n",
       "      <td>simplified_chinese</td>\n",
       "      <td>display</td>\n",
       "    </tr>\n",
       "    <tr>\n",
       "      <th>3576</th>\n",
       "      <td>16166056665</td>\n",
       "      <td>1000.0</td>\n",
       "      <td>0</td>\n",
       "      <td>0</td>\n",
       "      <td>0</td>\n",
       "      <td>normal</td>\n",
       "      <td>1486536224</td>\n",
       "      <td>1487305767</td>\n",
       "      <td>alipay</td>\n",
       "      <td>一米市集直送</td>\n",
       "      <td>...</td>\n",
       "      <td>0.0</td>\n",
       "      <td>0.0</td>\n",
       "      <td>1</td>\n",
       "      <td>121.516388</td>\n",
       "      <td>31.160659</td>\n",
       "      <td>False</td>\n",
       "      <td>True</td>\n",
       "      <td>0</td>\n",
       "      <td>simplified_chinese</td>\n",
       "      <td>display</td>\n",
       "    </tr>\n",
       "  </tbody>\n",
       "</table>\n",
       "<p>7 rows × 44 columns</p>\n",
       "</div>"
      ],
      "text/plain": [
       "      ship_mobile  total_amount  pay_status  ship_status  erp_order_id  \\\n",
       "1010  16047130497        1000.0           0            0             1   \n",
       "1011  16047130497        1000.0           0            0             1   \n",
       "1265  16058109885        1000.0           0            0             1   \n",
       "1429  16941369693        1000.0           0            0             1   \n",
       "2935  17188596867        1000.0           1            1             1   \n",
       "3490  16111321232        1000.0           1            1             1   \n",
       "3576  16166056665        1000.0           0            0             0   \n",
       "\n",
       "     erp_status  createtime  last_modified     payment shipping  \\\n",
       "1010     normal  1484829136     1484830983      online   一米市集直送   \n",
       "1011     normal  1484829275     1484831104      online   一米市集直送   \n",
       "1265     normal  1483953385     1483955222      online   一米市集直送   \n",
       "1429     normal  1484080679     1484082483      online   一米市集直送   \n",
       "2935       succ  1485066953     1485331441      alipay   一米市集直送   \n",
       "3490       succ  1486304324     1489917642  wxpayjsapi   一米市集直送   \n",
       "3576     normal  1486536224     1487305767      alipay   一米市集直送   \n",
       "\n",
       "             ...           city_link verify_city_link  fuzzy   longitude  \\\n",
       "1010         ...                 0.0              NaN      0         NaN   \n",
       "1011         ...                 0.0              NaN      0         NaN   \n",
       "1265         ...                 0.0              NaN      0         NaN   \n",
       "1429         ...                 0.0              NaN      0         NaN   \n",
       "2935         ...                 1.0              1.0      1  121.390661   \n",
       "3490         ...                 0.0              0.0      0  121.452639   \n",
       "3576         ...                 0.0              0.0      1  121.516388   \n",
       "\n",
       "       latitude  scalping autoSendErp autoSendErpStatus                lang  \\\n",
       "1010        NaN     False        True                 0  simplified_chinese   \n",
       "1011        NaN     False        True                 0  simplified_chinese   \n",
       "1265        NaN     False        True                 0  simplified_chinese   \n",
       "1429        NaN     False        True                 0  simplified_chinese   \n",
       "2935  31.325194     False        True                 0  simplified_chinese   \n",
       "3490  31.217353     False        True                 0  simplified_chinese   \n",
       "3576  31.160659     False        True                 0  simplified_chinese   \n",
       "\n",
       "      delivery_note_price  \n",
       "1010              display  \n",
       "1011              display  \n",
       "1265              display  \n",
       "1429              display  \n",
       "2935              display  \n",
       "3490              display  \n",
       "3576              display  \n",
       "\n",
       "[7 rows x 44 columns]"
      ]
     },
     "execution_count": 16,
     "metadata": {},
     "output_type": "execute_result"
    }
   ],
   "source": [
    "# 发现一个有趣的现象: 好几张订单金额都是1000，呼应某种促销活动吗？\n",
    "df2[df2.total_amount % 1000 == 0]"
   ]
  },
  {
   "cell_type": "code",
   "execution_count": null,
   "metadata": {
    "collapsed": true,
    "deletable": true,
    "editable": true
   },
   "outputs": [],
   "source": []
  }
 ],
 "metadata": {
  "kernelspec": {
   "display_name": "Python 2",
   "language": "python",
   "name": "python2"
  },
  "language_info": {
   "codemirror_mode": {
    "name": "ipython",
    "version": 2
   },
   "file_extension": ".py",
   "mimetype": "text/x-python",
   "name": "python",
   "nbconvert_exporter": "python",
   "pygments_lexer": "ipython2",
   "version": "2.7.11"
  }
 },
 "nbformat": 4,
 "nbformat_minor": 2
}
