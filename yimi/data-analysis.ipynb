{
 "cells": [
  {
   "cell_type": "markdown",
   "metadata": {
    "deletable": true,
    "editable": true
   },
   "source": [
    "# 数据分析"
   ]
  },
  {
   "cell_type": "code",
   "execution_count": 1,
   "metadata": {
    "collapsed": false,
    "deletable": true,
    "editable": true
   },
   "outputs": [
    {
     "name": "stdout",
     "output_type": "stream",
     "text": [
      "Populating the interactive namespace from numpy and matplotlib\n"
     ]
    }
   ],
   "source": [
    "%pylab inline"
   ]
  },
  {
   "cell_type": "code",
   "execution_count": 2,
   "metadata": {
    "collapsed": true,
    "deletable": true,
    "editable": true
   },
   "outputs": [],
   "source": [
    "import numpy as np\n",
    "import pandas as pd\n",
    "from pandas import Series, DataFrame\n",
    "import seaborn as sns\n",
    "from datetime import datetime"
   ]
  },
  {
   "cell_type": "markdown",
   "metadata": {
    "deletable": true,
    "editable": true
   },
   "source": [
    "## 载入数据\n",
    "\n",
    "字段 | 分类 | 处理方式\n",
    "---|---|---\n",
    "ship_name | 杂讯 | 丢弃\n",
    "ship_mobile | 类别特征 | 使用\n",
    "order_id | 无关分析 | 丢弃\n",
    "total_amount | 数值特征 | 过滤奇异值\n",
    "final_amount | 重复信息 | 丢弃\n",
    "pay_status | 类别特征 | {0, 1, 4, 5}\n",
    "ship_status | 类别特征 | {0, 1}\n",
    "is_delivery | 无识别度 | 丢弃\n",
    "try_order | 无识别度 | 丢弃\n",
    "erp_order_id | 数值特征 | {0, 1}\n",
    "erp_status | 数值特征 | {'succ', 'normal'}\n",
    "createtime | 数值特征 | 转换成日期\n",
    "last_modified | 数值特征 | 转换成日期\n",
    "payment | 类别特征 | {'wxpayjsapi', 'online', 'alipay', 'wxsmpay', '-1', 'deposit'}\n",
    "shipping_id | 无识别度 | 丢弃\n",
    "shipping | 类别特征 | {'冷链直供', '一米市集直送'}\n",
    "member_id | 类别特征 | 使用\n",
    "promotion_type | 类别特征 | {'normal', 'group', 'prepare', 'card'}\n",
    "group_id | 类别特征 | 使用\n",
    "groupOn_id | 类别特征 | 使用\n",
    "is_leader | 数值特征 | {0, 1}\n",
    "is_prepare | 无识别度 | 丢弃\n",
    "group_num | 数值特征 | {0, 3}\n",
    "status | 类别特征 | {'finish', 'dead', 'active', 'pendding'}\n",
    "confirm_delivery | 类别特征 | {'Y', 'N'}\n",
    "confirm | 无识别度 | 丢弃\n",
    "ship_area | 类别特征 | 抽取区码\n",
    "weight | 数值特征 | 使用\n",
    "tostr | 无关分析 | 丢弃\n",
    "itemnum | 数值特征 | [0, 30]\n",
    "ip | 杂讯 | 丢弃\n",
    "ship_addr | 重复信息 | 丢弃\n",
    "ship_zip | 无关分析 | 丢弃\n",
    "ship_tel | 重复信息 | 丢弃\n",
    "ship_email | 无识别度 | 丢弃\n",
    "ship_time | 类别特征 | 抽取时段，重新编码\n",
    "cost_item | 数值特征 | 使用\n",
    "is_tax | 数值特征 | {False, True}\n",
    "tax_type | 类别特征 | {'false', 'company', 'personal'}\n",
    "cost_tax | 无识别度 | 丢弃\n",
    "is_protect | 无识别度 | 丢弃\n",
    "cost_protect | 无识别度 | 丢弃\n",
    "cost_payment | 无识别度 | 丢弃\n",
    "currency | 无识别度 | 丢弃\n",
    "cur_rate | 无识别度 | 丢弃\n",
    "advance | 数值特征 | 0~993.4\n",
    "score_u | 数值特征 | 0~2802.0\n",
    "score_g | 数值特征 | 0~1149.0\n",
    "discount | 数值特征 | 转成正数 (0~401.6)\n",
    "pmt_goods | 数值特征 | 0~396.0\n",
    "pmt_order | 数值特征 | 0~1899.0\n",
    "payed | 杂讯 | 丢弃\n",
    "disabled | 无识别度 | 丢弃\n",
    "displayonsite | 数值特征 | {False, True}\n",
    "mark_type | 无识别度 | 丢弃\n",
    "cost_freight | 数值特征 | {0, 20, 30}\n",
    "extend | 无识别度 | 丢弃\n",
    "order_refer | 无识别度 | 丢弃\n",
    "addon | 杂讯 | 丢弃\n",
    "source | 类别特征 | {'weixin', 'ios', 'pc', 'wap'}\n",
    "city_link | 数值特征 | {0, 1, 2}\n",
    "verify_city_link | 数值特征 | {-1，0，1，2}\n",
    "fuzzy | 数值特征 | {0,1}\n",
    "longitude | 数值特征 | ~~剔除异常值~~ 使用\n",
    "latitude | 数值特征 | ~~剔除异常值~~ 使用\n",
    "scalping | 数值特征 | {False, True}\n",
    "out_trade_no | 无关分析 | 丢弃\n",
    "autoSendErp | 数值特征 | {False,True}\n",
    "autoSendErpStatus | 类别特征 | {0, 1, 2}\n",
    "string_tag_id | 杂讯 | 丢弃\n",
    "lang | 类别特征 | {'simplified_chinese', 'english'}\n",
    "delivery_note_price | 类别特征 | {'display', 'none'}"
   ]
  },
  {
   "cell_type": "code",
   "execution_count": 3,
   "metadata": {
    "collapsed": false,
    "deletable": true,
    "editable": true
   },
   "outputs": [
    {
     "data": {
      "text/plain": [
       "(5881, 44)"
      ]
     },
     "execution_count": 3,
     "metadata": {},
     "output_type": "execute_result"
    }
   ],
   "source": [
    "# 选取需要的字段\n",
    "cols = ['ship_mobile', 'total_amount', 'pay_status', 'ship_status', 'erp_order_id', 'erp_status',\n",
    "        'createtime', 'last_modified', 'payment', 'shipping', 'member_id', 'promotion_type',\n",
    "        'group_id', 'groupOn_id', 'is_leader', 'group_num', 'status', 'confirm_delivery', 'ship_area',\n",
    "        'weight', 'itemnum', 'ship_time', 'cost_item', 'is_tax', 'tax_type', 'advance',\n",
    "        'score_u', 'score_g', 'discount', 'pmt_goods', 'pmt_order', 'displayonsite', 'cost_freight',\n",
    "        'source', 'city_link', 'verify_city_link', 'fuzzy', 'longitude', 'latitude', 'scalping',\n",
    "        'autoSendErp', 'autoSendErpStatus', 'lang', 'delivery_note_price']\n",
    "\n",
    "df = pd.read_excel('test_data.xls', usecols=cols)\n",
    "df.shape"
   ]
  },
  {
   "cell_type": "code",
   "execution_count": 4,
   "metadata": {
    "collapsed": false,
    "deletable": true,
    "editable": true
   },
   "outputs": [],
   "source": [
    "areas = {23: u'黄浦区', 24: u'卢湾区', 25: u'徐汇区', 26: u'长宁区', 27: u'静安区', 28: u'普陀区', 29: u'闸北区',\n",
    "         30: u'虹口区', 31: u'杨浦区', 35: u'浦东新区', 36: u'闵行区', 37: u'宝山区', 38: u'嘉定区', 39: u'奉贤区',\n",
    "         40: u'青浦区', 41: u'松江区', 42: u'南汇区', 44: u'金山区', 46: u'南汇区', 48: u'奉贤区'}\n",
    "\n",
    "def area2code(area):\n",
    "    code = int(area.split(':')[-1])\n",
    "    mapping = {48: 39, 46: 42}\n",
    "    return mapping.get(code, code)\n",
    "\n",
    "# 抽取区码，重新编码\n",
    "#df.ship_area = df.ship_area.map(lambda area: int(area.split(':')[-1])).map({48: 39, 46: 42}.get(t, t))\n",
    "df.ship_area = df.ship_area.map(area2code)"
   ]
  },
  {
   "cell_type": "code",
   "execution_count": 5,
   "metadata": {
    "collapsed": false,
    "deletable": true,
    "editable": true
   },
   "outputs": [],
   "source": [
    "def time2code(t):\n",
    "    mapping = {'08:00-12:00': 'morning',\n",
    "               '14:00-18:00': 'afternoon',\n",
    "               '18:00-21:00': 'evening',\n",
    "               '14:00-21:00': 'afternoon|evening'}\n",
    "    return mapping.get(t, 'morning|afternoon|evening')\n",
    "\n",
    "# 抽取时段，重新编码\n",
    "df.ship_time = df.ship_time.fillna('??,??').map(lambda x: time2code(x.split(',')[1]))\n",
    "\n",
    "# 1-of-k 编码\n",
    "dummies = DataFrame(np.zeros((len(df), 3)), columns=['morning', 'afternoon', 'evening'])\n",
    "for i, time in enumerate(df.ship_time):\n",
    "    dummies.ix[i, time.split('|')] = 1\n",
    "\n",
    "df = df.join(dummies.add_prefix('ship_'))"
   ]
  },
  {
   "cell_type": "code",
   "execution_count": 6,
   "metadata": {
    "collapsed": false,
    "deletable": true,
    "editable": true
   },
   "outputs": [],
   "source": [
    "# 将时间戳转换成日期\n",
    "df.createtime = df.createtime.map(datetime.fromtimestamp).map(datetime.date)\n",
    "df.last_modified = df.last_modified.map(datetime.fromtimestamp).map(datetime.date)"
   ]
  },
  {
   "cell_type": "code",
   "execution_count": 7,
   "metadata": {
    "collapsed": false
   },
   "outputs": [],
   "source": [
    "# 运送方式，重新编码\n",
    "df.shipping = df.shipping.map({u'冷链直供': 'cool chain', u'一米市集直送': 'yimi delivery'})"
   ]
  },
  {
   "cell_type": "code",
   "execution_count": 8,
   "metadata": {
    "collapsed": false,
    "deletable": true,
    "editable": true
   },
   "outputs": [],
   "source": [
    "# 折扣：转成正数\n",
    "df.discount = df.discount.map(abs)"
   ]
  },
  {
   "cell_type": "code",
   "execution_count": 9,
   "metadata": {
    "collapsed": true,
    "deletable": true,
    "editable": true
   },
   "outputs": [],
   "source": [
    "df = df[df.total_amount < df.total_amount.quantile(.99)]"
   ]
  },
  {
   "cell_type": "markdown",
   "metadata": {
    "deletable": true,
    "editable": true
   },
   "source": [
    "## 基本统计观察"
   ]
  },
  {
   "cell_type": "markdown",
   "metadata": {
    "deletable": true,
    "editable": true
   },
   "source": [
    "### 客户"
   ]
  },
  {
   "cell_type": "code",
   "execution_count": 10,
   "metadata": {
    "collapsed": false,
    "deletable": true,
    "editable": true
   },
   "outputs": [
    {
     "data": {
      "text/plain": [
       "3778"
      ]
     },
     "execution_count": 10,
     "metadata": {},
     "output_type": "execute_result"
    }
   ],
   "source": [
    "# 客户总数\n",
    "num_mobile = len(df.ship_mobile.unique())\n",
    "num_mobile"
   ]
  },
  {
   "cell_type": "code",
   "execution_count": 11,
   "metadata": {
    "collapsed": false,
    "deletable": true,
    "editable": true
   },
   "outputs": [
    {
     "data": {
      "text/plain": [
       "17166769648    23\n",
       "16143545425    22\n",
       "16143452034    14\n",
       "17131246473    13\n",
       "17188915242    13\n",
       "17015859490    11\n",
       "16569883485    11\n",
       "16103411770    11\n",
       "16140271796    11\n",
       "16594905358    11\n",
       "Name: ship_mobile, dtype: int64"
      ]
     },
     "execution_count": 11,
     "metadata": {},
     "output_type": "execute_result"
    }
   ],
   "source": [
    "# 常客 Top 10\n",
    "df.ship_mobile.value_counts().head(10)"
   ]
  },
  {
   "cell_type": "code",
   "execution_count": 12,
   "metadata": {
    "collapsed": false,
    "deletable": true,
    "editable": true
   },
   "outputs": [
    {
     "data": {
      "image/png": "[encoded data removed]",
      "text/plain": [
       "<matplotlib.figure.Figure at 0x1018e4450>"
      ]
     },
     "metadata": {},
     "output_type": "display_data"
    }
   ],
   "source": [
    "# 按客户分析：订单数 vs. 消费总额\n",
    "df2 = df.groupby('ship_mobile')['total_amount'].agg({'orders':'count', 'amount':'sum'})\n",
    "df2.plot.scatter(x='orders', y='amount')\n",
    "\n",
    "plt.savefig('picture/orders_amount.png')"
   ]
  },
  {
   "cell_type": "markdown",
   "metadata": {
    "deletable": true,
    "editable": true
   },
   "source": [
    "### 消费"
   ]
  },
  {
   "cell_type": "code",
   "execution_count": 13,
   "metadata": {
    "collapsed": false,
    "deletable": true,
    "editable": true
   },
   "outputs": [
    {
     "data": {
      "text/plain": [
       "596657.60499999998"
      ]
     },
     "execution_count": 13,
     "metadata": {},
     "output_type": "execute_result"
    }
   ],
   "source": [
    "# 总营业额\n",
    "df.total_amount.sum()"
   ]
  },
  {
   "cell_type": "code",
   "execution_count": 14,
   "metadata": {
    "collapsed": false,
    "deletable": true,
    "editable": true
   },
   "outputs": [
    {
     "data": {
      "text/plain": [
       "count    5821.000000\n",
       "mean      102.500877\n",
       "std       106.008417\n",
       "min         0.000000\n",
       "25%        15.800000\n",
       "50%        76.000000\n",
       "75%       171.020000\n",
       "max       532.930000\n",
       "Name: total_amount, dtype: float64"
      ]
     },
     "execution_count": 14,
     "metadata": {},
     "output_type": "execute_result"
    }
   ],
   "source": [
    "# 统计\n",
    "df.total_amount.describe()"
   ]
  },
  {
   "cell_type": "code",
   "execution_count": 15,
   "metadata": {
    "collapsed": false,
    "deletable": true,
    "editable": true
   },
   "outputs": [
    {
     "data": {
      "image/png": "[encoded data removed]",
      "text/plain": [
       "<matplotlib.figure.Figure at 0x113f9aa50>"
      ]
     },
     "metadata": {},
     "output_type": "display_data"
    }
   ],
   "source": [
    "# 每日营业额\n",
    "df.groupby('createtime')['total_amount'].sum().plot(kind='bar', figsize=(15,5))\n",
    "\n",
    "plt.savefig('picture/daily_turnover.png')"
   ]
  },
  {
   "cell_type": "code",
   "execution_count": 16,
   "metadata": {
    "collapsed": false,
    "deletable": true,
    "editable": true
   },
   "outputs": [
    {
     "data": {
      "text/plain": [
       "ship_mobile\n",
       "17166769648    6420.86\n",
       "16143545425    5002.66\n",
       "16143452034    3969.50\n",
       "17131246473    3332.54\n",
       "16104542317    2983.37\n",
       "17131310015    2519.62\n",
       "16165985610    2504.15\n",
       "16547276920    2441.16\n",
       "17015859490    2406.81\n",
       "15987152535    2393.70\n",
       "Name: total_amount, dtype: float64"
      ]
     },
     "execution_count": 16,
     "metadata": {},
     "output_type": "execute_result"
    }
   ],
   "source": [
    "# 消费 Top 10\n",
    "df.groupby('ship_mobile')['total_amount'].sum().sort_values(ascending=False).head(10)"
   ]
  },
  {
   "cell_type": "markdown",
   "metadata": {
    "deletable": true,
    "editable": true
   },
   "source": [
    "- 客户 17166769648 订单数23，总消费金额6420.86，绝对是VIP"
   ]
  },
  {
   "cell_type": "code",
   "execution_count": 17,
   "metadata": {
    "collapsed": false,
    "deletable": true,
    "editable": true
   },
   "outputs": [
    {
     "name": "stdout",
     "output_type": "stream",
     "text": [
      "regular ratio: 1107 / 3778 (29.30%)\n"
     ]
    }
   ],
   "source": [
    "# 常客分析\n",
    "order_regular = (df.ship_mobile.value_counts() > 1)\n",
    "num_regular = order_regular.sum()\n",
    "print \"regular ratio: %d / %d (%.2f%%)\" % (num_regular, num_mobile, 100.0 * num_regular / num_mobile)"
   ]
  },
  {
   "cell_type": "markdown",
   "metadata": {
    "deletable": true,
    "editable": true
   },
   "source": [
    "- 回头客比例太低"
   ]
  },
  {
   "cell_type": "code",
   "execution_count": 18,
   "metadata": {
    "collapsed": false,
    "deletable": true,
    "editable": true
   },
   "outputs": [
    {
     "name": "stdout",
     "output_type": "stream",
     "text": [
      "count    2671.000000\n",
      "mean       64.273190\n",
      "std        80.325428\n",
      "min         0.000000\n",
      "25%        10.000000\n",
      "50%        26.000000\n",
      "75%       109.000000\n",
      "max       532.000000\n",
      "Name: total_amount, dtype: float64\n"
     ]
    },
    {
     "data": {
      "image/png": "[encoded data removed]",
      "text/plain": [
       "<matplotlib.figure.Figure at 0x117ba05d0>"
      ]
     },
     "metadata": {},
     "output_type": "display_data"
    }
   ],
   "source": [
    "# 单次购买客户消费金额分布\n",
    "order_once = (df.ship_mobile.value_counts() == 1)\n",
    "df_order_once = df[order_once.reindex(df.ship_mobile).values]\n",
    "print df_order_once.total_amount.describe()\n",
    "\n",
    "sns.distplot(df_order_once.total_amount, kde=False)\n",
    "plt.savefig('picture/order_once_amount_dist.png')"
   ]
  },
  {
   "cell_type": "code",
   "execution_count": 19,
   "metadata": {
    "collapsed": false,
    "deletable": true,
    "editable": true
   },
   "outputs": [
    {
     "data": {
      "text/plain": [
       "109.0    351\n",
       "0.0      202\n",
       "20.0     137\n",
       "18.0      77\n",
       "10.0      66\n",
       "Name: total_amount, dtype: int64"
      ]
     },
     "execution_count": 19,
     "metadata": {},
     "output_type": "execute_result"
    }
   ],
   "source": [
    "# 单次购买最常出现的结账金额\n",
    "df_order_once.total_amount.value_counts().head()"
   ]
  },
  {
   "cell_type": "markdown",
   "metadata": {
    "deletable": true,
    "editable": true
   },
   "source": [
    "- 109.0 可能是某次促销活动"
   ]
  },
  {
   "cell_type": "code",
   "execution_count": 20,
   "metadata": {
    "collapsed": false,
    "deletable": true,
    "editable": true
   },
   "outputs": [
    {
     "data": {
      "image/png": "[encoded data removed]",
      "text/plain": [
       "<matplotlib.figure.Figure at 0x113f8f190>"
      ]
     },
     "metadata": {},
     "output_type": "display_data"
    }
   ],
   "source": [
    "# 追踪消费金额109.0的客户\n",
    "df_109 = df[df.total_amount == 109]\n",
    "\n",
    "# 消费时间\n",
    "df_109.groupby('createtime')['total_amount'].count().plot.bar()\n",
    "\n",
    "plt.savefig('picture/amount109_orders_createtime.png')"
   ]
  },
  {
   "cell_type": "code",
   "execution_count": 21,
   "metadata": {
    "collapsed": false,
    "deletable": true,
    "editable": true
   },
   "outputs": [
    {
     "data": {
      "image/png": "[encoded data removed]",
      "text/plain": [
       "<matplotlib.figure.Figure at 0x113fc2590>"
      ]
     },
     "metadata": {},
     "output_type": "display_data"
    }
   ],
   "source": [
    "# 购买次数\n",
    "df_109.ship_mobile.value_counts().value_counts().plot.pie()\n",
    "\n",
    "plt.savefig('picture/amount109_orders_piechart.png')"
   ]
  },
  {
   "cell_type": "markdown",
   "metadata": {
    "deletable": true,
    "editable": true
   },
   "source": [
    "- 貌似效果不佳 =\"="
   ]
  },
  {
   "cell_type": "code",
   "execution_count": 22,
   "metadata": {
    "collapsed": false,
    "deletable": true,
    "editable": true
   },
   "outputs": [
    {
     "data": {
      "text/plain": [
       "1    4910\n",
       "0     769\n",
       "5     111\n",
       "4      31\n",
       "Name: pay_status, dtype: int64"
      ]
     },
     "execution_count": 22,
     "metadata": {},
     "output_type": "execute_result"
    }
   ],
   "source": [
    "df.pay_status.value_counts()"
   ]
  },
  {
   "cell_type": "code",
   "execution_count": 23,
   "metadata": {
    "collapsed": false
   },
   "outputs": [
    {
     "data": {
      "image/png": "[encoded data removed]",
      "text/plain": [
       "<matplotlib.figure.Figure at 0x113031150>"
      ]
     },
     "metadata": {},
     "output_type": "display_data"
    }
   ],
   "source": [
    "# 追踪消费金额0且只消费一次的客户\n",
    "df_0 = df_order_once[df_order_once.total_amount == 0]\n",
    "\n",
    "# 消费频次\n",
    "df_0.groupby('createtime')['total_amount'].count().plot(kind='bar', figsize=(15,5))\n",
    "\n",
    "plt.savefig('picture/order_once_amount0_barchar.png')"
   ]
  },
  {
   "cell_type": "markdown",
   "metadata": {
    "deletable": true,
    "editable": true
   },
   "source": [
    "### 地区"
   ]
  },
  {
   "cell_type": "code",
   "execution_count": 24,
   "metadata": {
    "collapsed": false,
    "deletable": true,
    "editable": true
   },
   "outputs": [
    {
     "data": {
      "image/png": "[encoded data removed]",
      "text/plain": [
       "<matplotlib.figure.Figure at 0x1018d7250>"
      ]
     },
     "metadata": {},
     "output_type": "display_data"
    }
   ],
   "source": [
    "# 各地区消费次数\n",
    "area_orders = df.groupby('ship_area')['total_amount'].count()\n",
    "\n",
    "area_orders.plot(kind='bar', figsize=(10,5))\n",
    "area_orders.sort_values(ascending=False).rename(areas).head()\n",
    "\n",
    "plt.savefig('picture/ship_area_orders.png')"
   ]
  },
  {
   "cell_type": "code",
   "execution_count": 25,
   "metadata": {
    "collapsed": false,
    "deletable": true,
    "editable": true
   },
   "outputs": [
    {
     "data": {
      "image/png": "[encoded data removed]",
      "text/plain": [
       "<matplotlib.figure.Figure at 0x1128f0810>"
      ]
     },
     "metadata": {},
     "output_type": "display_data"
    }
   ],
   "source": [
    "# 各地区消费总额\n",
    "area_amount = df.groupby('ship_area')['total_amount'].sum()\n",
    "\n",
    "area_amount.plot(kind='bar', figsize=(10,5))\n",
    "area_amount.sort_values(ascending=False).rename(areas).head()\n",
    "\n",
    "plt.savefig('picture/ship_area_amount.png')"
   ]
  },
  {
   "cell_type": "code",
   "execution_count": 26,
   "metadata": {
    "collapsed": false,
    "deletable": true,
    "editable": true,
    "scrolled": false
   },
   "outputs": [
    {
     "data": {
      "image/png": "[encoded data removed]",
      "text/plain": [
       "<matplotlib.figure.Figure at 0x1128cfc10>"
      ]
     },
     "metadata": {},
     "output_type": "display_data"
    }
   ],
   "source": [
    "# 各地区消费力分析\n",
    "fig = plt.figure(figsize=(15, 5))\n",
    "sns.boxplot(x='ship_area', y='total_amount', data=df)\n",
    "\n",
    "plt.savefig('picture/ship_ares_consumption_power.png')"
   ]
  },
  {
   "cell_type": "code",
   "execution_count": 27,
   "metadata": {
    "collapsed": false,
    "deletable": true,
    "editable": true
   },
   "outputs": [
    {
     "data": {
      "image/png": "[encoded data removed]",
      "text/plain": [
       "<matplotlib.figure.Figure at 0x117ee37d0>"
      ]
     },
     "metadata": {},
     "output_type": "display_data"
    }
   ],
   "source": [
    "# 各地区消费力分析（区分运送方式）\n",
    "fig = plt.figure(figsize=(15,5))\n",
    "sns.boxplot(x=\"ship_area\", y=\"total_amount\", hue=\"shipping\", data=df)\n",
    "\n",
    "plt.savefig('picture/ship_ares_consumption_power_shipping.png')"
   ]
  },
  {
   "cell_type": "markdown",
   "metadata": {
    "collapsed": false,
    "deletable": true,
    "editable": true
   },
   "source": [
    "### 时段"
   ]
  },
  {
   "cell_type": "code",
   "execution_count": 28,
   "metadata": {
    "collapsed": false,
    "deletable": true,
    "editable": true
   },
   "outputs": [
    {
     "data": {
      "text/plain": [
       "morning|afternoon|evening    1680\n",
       "afternoon|evening            1418\n",
       "morning                      1295\n",
       "afternoon                     853\n",
       "evening                       575\n",
       "Name: ship_time, dtype: int64"
      ]
     },
     "execution_count": 28,
     "metadata": {},
     "output_type": "execute_result"
    }
   ],
   "source": [
    "df.ship_time.value_counts()"
   ]
  },
  {
   "cell_type": "code",
   "execution_count": 29,
   "metadata": {
    "collapsed": false
   },
   "outputs": [
    {
     "data": {
      "image/png": "[encoded data removed]",
      "text/plain": [
       "<matplotlib.figure.Figure at 0x113200a10>"
      ]
     },
     "metadata": {},
     "output_type": "display_data"
    }
   ],
   "source": [
    "# 地区 vs. 时段\n",
    "df.groupby('ship_area')[['ship_morning','ship_afternoon','ship_evening']].sum().plot.bar(figsize=(15,5))\n",
    "\n",
    "plt.savefig('picture/ship_area_time.png')"
   ]
  },
  {
   "cell_type": "markdown",
   "metadata": {},
   "source": [
    "- 不同地区不同收件时段\n",
    "- 38（嘉定）、40（青浦）、41（松江）午后收件占大部分，可能大多为上班族"
   ]
  },
  {
   "cell_type": "markdown",
   "metadata": {},
   "source": [
    "### 标识价格"
   ]
  },
  {
   "cell_type": "code",
   "execution_count": 30,
   "metadata": {
    "collapsed": false
   },
   "outputs": [
    {
     "data": {
      "text/plain": [
       "1     193\n",
       "2      32\n",
       "3       7\n",
       "6       2\n",
       "5       2\n",
       "19      1\n",
       "14      1\n",
       "9       1\n",
       "4       1\n",
       "Name: total_amount, dtype: int64"
      ]
     },
     "execution_count": 30,
     "metadata": {},
     "output_type": "execute_result"
    }
   ],
   "source": [
    "# 假设送礼，不标识价格\n",
    "df2 = df[df.delivery_note_price == 'none']\n",
    "\n",
    "df2.groupby('ship_mobile')['total_amount'].count().value_counts()"
   ]
  }
 ],
 "metadata": {
  "kernelspec": {
   "display_name": "Python 2",
   "language": "python",
   "name": "python2"
  },
  "language_info": {
   "codemirror_mode": {
    "name": "ipython",
    "version": 2
   },
   "file_extension": ".py",
   "mimetype": "text/x-python",
   "name": "python",
   "nbconvert_exporter": "python",
   "pygments_lexer": "ipython2",
   "version": "2.7.11"
  }
 },
 "nbformat": 4,
 "nbformat_minor": 2
}
