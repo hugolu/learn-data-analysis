{
 "cells": [
  {
   "cell_type": "markdown",
   "metadata": {},
   "source": [
    "# 数据挖掘"
   ]
  },
  {
   "cell_type": "code",
   "execution_count": 1,
   "metadata": {
    "collapsed": false,
    "deletable": true,
    "editable": true
   },
   "outputs": [
    {
     "name": "stdout",
     "output_type": "stream",
     "text": [
      "Populating the interactive namespace from numpy and matplotlib\n"
     ]
    }
   ],
   "source": [
    "%pylab inline"
   ]
  },
  {
   "cell_type": "code",
   "execution_count": 2,
   "metadata": {
    "collapsed": true,
    "deletable": true,
    "editable": true
   },
   "outputs": [],
   "source": [
    "import numpy as np\n",
    "import pandas as pd\n",
    "from pandas import Series, DataFrame\n",
    "import seaborn as sns\n",
    "from datetime import datetime, timedelta"
   ]
  },
  {
   "cell_type": "markdown",
   "metadata": {
    "deletable": true,
    "editable": true
   },
   "source": [
    "## 数据转换\n",
    "\n",
    "- 数据挖掘（机器学习）前，数据需要先过滤、整理、转换。\n",
    "- 在[数据探索](try-exploration.ipynb)阶段，发现[测试数据](test_data.xls)某些字段需要额外处理。"
   ]
  },
  {
   "cell_type": "markdown",
   "metadata": {},
   "source": [
    "字段 | 类型 | 处理方式\n",
    "---|---|---\n",
    "ship_name | 杂讯 | 丢弃\n",
    "ship_mobile | 分类变量 | 转换成 level\n",
    "order_id | 无关分析 | 丢弃\n",
    "total_amount | 数值 | 直接使用\n",
    "final_amount | 信息重复 | 丢弃\n",
    "pay_status | 分类变量 | 转换成 level\n",
    "ship_status | 分类变量 | 直接使用 (已编码)\n",
    "is_delivery | 无识别度 | 丢弃\n",
    "try_order | 无识别度 | 丢弃\n",
    "erp_order_id | 分类变量 | 转换成 level\n",
    "erp_status | 分类变量 | 转换成 level\n",
    "createtime | 数值 | 转换成 日期\n",
    "last_modified | 数值 | 转换成 日期\n",
    "payment | 分类变量 | 转换成 level\n",
    "shipping_id | 无识别度 | 丢弃\n",
    "shipping | 分类变量 | 转换成 level\n",
    "member_id | 分类变量 | 转换成 level\n",
    "promotion_type | 分类变量 | 转换成 level\n",
    "group_id | 分类变量 | 转换成 level\n",
    "groupOn_id | 分类变量 | 转换成 level\n",
    "is_leader | 分类变量 | 直接使用 (已编码)\n",
    "is_prepare | 无识别度 | 丢弃\n",
    "group_num | 分类变量 | 转换成 level\n",
    "status | 分类变量 | 转换成 level\n",
    "confirm_delivery | 分类变量 | 转换成 level\n",
    "confirm | 无识别度 | 丢弃\n",
    "ship_area | 分类变量 | 转换成 level\n",
    "weight | 分类变量 | 转换成 level\n",
    "tostr | 无关分析 | 丢弃\n",
    "itemnum | 分类变量 | 转换成 level\n",
    "ip | 杂讯 | 丢弃\n",
    "ship_addr | 信息重复 | 丢弃\n",
    "ship_zip | 无关分析 | 丢弃\n",
    "ship_tel | 信息重复 | 丢弃\n",
    "ship_email | 无识别度 | 丢弃\n",
    "ship_time | 分类变量 | 转换成 level\n",
    "cost_item | 数值 | 直接使用\n",
    "is_tax | 布林值 | 直接使用\n",
    "tax_type | 分类变量 | 转换成 level\n",
    "cost_tax | 无识别度 | 丢弃\n",
    "is_protect | 无识别度 | 丢弃\n",
    "cost_protect | 无识别度 | 丢弃\n",
    "cost_payment | 无识别度 | 丢弃\n",
    "currency | 无识别度 | 丢弃\n",
    "cur_rate | 无识别度 | 丢弃\n",
    "advance | 数值 | 直接使用\n",
    "score_u | 数值 | 直接使用\n",
    "score_g | 数值 | 直接使用\n",
    "discount | 数值 | 直接使用\n",
    "pmt_goods | 数值 | 直接使用\n",
    "pmt_order | 数值 | 直接使用\n",
    "payed | 杂讯 | 丢弃\n",
    "disabled | 无识别度 | 丢弃\n",
    "displayonsite | 布林值 | 直接使用\n",
    "mark_type | 无识别度 | 丢弃\n",
    "cost_freight | 数值 | 直接使用\n",
    "extend | 无识别度 | 丢弃\n",
    "order_refer | 无识别度 | 丢弃\n",
    "addon | 杂讯 | 丢弃\n",
    "source | 分类变量 | 转换成 level\n",
    "city_link | 分类变量 | 直接使用 (已编码)\n",
    "verify_city_link | 分类变量 | 直接使用 (已编码)\n",
    "fuzzy | 数值 | 直接使用\n",
    "longitude | 数值 | 直接使用\n",
    "latitude | 数值 | 直接使用\n",
    "scalping | 布林值 | 直接使用\n",
    "out_trade_no | 无关分析 | 丢弃\n",
    "autoSendErp | 布林值 | 直接使用\n",
    "autoSendErpStatus | 分类变量 | 直接使用 (已编码)\n",
    "string_tag_id | 杂讯 | 丢弃\n",
    "lang | 分类变量 | 转换成 level\n",
    "delivery_note_price | 分类变量 | 转换成 level"
   ]
  },
  {
   "cell_type": "markdown",
   "metadata": {},
   "source": [
    "### 步骤一：过滤字段"
   ]
  },
  {
   "cell_type": "code",
   "execution_count": 3,
   "metadata": {
    "collapsed": false,
    "deletable": true,
    "editable": true
   },
   "outputs": [],
   "source": [
    "# 选取需要的字段\n",
    "cols = ['ship_mobile', 'total_amount', 'pay_status', 'ship_status', 'erp_order_id', 'erp_status', 'createtime', 'last_modified', 'payment', 'shipping', 'member_id', 'promotion_type', 'group_id', 'groupOn_id', 'is_leader', 'group_num', 'status', 'confirm_delivery', 'ship_area', 'weight', 'itemnum', 'ship_time', 'cost_item', 'is_tax', 'tax_type', 'advance', 'score_u', 'score_g', 'discount', 'pmt_goods', 'pmt_order', 'displayonsite', 'cost_freight', 'source', 'city_link', 'verify_city_link', 'fuzzy', 'longitude', 'latitude', 'scalping', 'autoSendErp', 'autoSendErpStatus', 'lang', 'delivery_note_price']\n",
    "df = pd.read_excel('test_data.xls', usecols=cols)"
   ]
  },
  {
   "cell_type": "markdown",
   "metadata": {},
   "source": [
    "### 步骤二：转换格式"
   ]
  },
  {
   "cell_type": "code",
   "execution_count": 4,
   "metadata": {
    "collapsed": true
   },
   "outputs": [],
   "source": [
    "# 函数：转换level，重新编码\n",
    "def levelize(values):\n",
    "    items = values.unique()\n",
    "    mapping = dict((item, idx) for idx, item in enumerate(items))\n",
    "    return values.map(mapping)"
   ]
  },
  {
   "cell_type": "code",
   "execution_count": 5,
   "metadata": {
    "collapsed": false
   },
   "outputs": [],
   "source": [
    "df.ship_mobile = levelize(df.ship_mobile)"
   ]
  },
  {
   "cell_type": "code",
   "execution_count": 6,
   "metadata": {
    "collapsed": true
   },
   "outputs": [],
   "source": [
    "df.pay_status = levelize(df.pay_status)"
   ]
  },
  {
   "cell_type": "code",
   "execution_count": 7,
   "metadata": {
    "collapsed": true
   },
   "outputs": [],
   "source": [
    "df.erp_order_id = levelize(df.erp_order_id)"
   ]
  },
  {
   "cell_type": "code",
   "execution_count": 8,
   "metadata": {
    "collapsed": false
   },
   "outputs": [],
   "source": [
    "df.erp_status = df.erp_status.map({'succ': 0, 'normal': 1})"
   ]
  },
  {
   "cell_type": "code",
   "execution_count": 9,
   "metadata": {
    "collapsed": false,
    "deletable": true,
    "editable": true
   },
   "outputs": [],
   "source": [
    "df.createtime = df.createtime.map(datetime.fromtimestamp).map(lambda ts: ts.dayofyear)"
   ]
  },
  {
   "cell_type": "code",
   "execution_count": 10,
   "metadata": {
    "collapsed": true,
    "deletable": true,
    "editable": true
   },
   "outputs": [],
   "source": [
    "df.last_modified = df.last_modified.map(datetime.fromtimestamp).map(lambda ts: ts.dayofyear)"
   ]
  },
  {
   "cell_type": "code",
   "execution_count": 11,
   "metadata": {
    "collapsed": false
   },
   "outputs": [],
   "source": [
    "df.payment = df.payment.map({'wxpayjsapi': 0, 'online': 1, 'alipay': 2, 'wxsmpay': 3, '-1': 4})"
   ]
  },
  {
   "cell_type": "code",
   "execution_count": 12,
   "metadata": {
    "collapsed": false
   },
   "outputs": [],
   "source": [
    "df.shipping = df.shipping.map({u'冷链直供': 0, u'一米市集直送': 1})"
   ]
  },
  {
   "cell_type": "code",
   "execution_count": 13,
   "metadata": {
    "collapsed": true
   },
   "outputs": [],
   "source": [
    "df.member_id = levelize(df.member_id)"
   ]
  },
  {
   "cell_type": "code",
   "execution_count": 14,
   "metadata": {
    "collapsed": false
   },
   "outputs": [],
   "source": [
    "df.promotion_type = df.promotion_type.map({'normal': 0, 'group': 1, 'prepare': 2, 'card': 3})"
   ]
  },
  {
   "cell_type": "code",
   "execution_count": 15,
   "metadata": {
    "collapsed": true
   },
   "outputs": [],
   "source": [
    "df.group_id = levelize(df.group_id)"
   ]
  },
  {
   "cell_type": "code",
   "execution_count": 16,
   "metadata": {
    "collapsed": true
   },
   "outputs": [],
   "source": [
    "df.groupOn_id = levelize(df.groupOn_id)"
   ]
  },
  {
   "cell_type": "code",
   "execution_count": 17,
   "metadata": {
    "collapsed": true
   },
   "outputs": [],
   "source": [
    "df.group_num = levelize(df.group_num)"
   ]
  },
  {
   "cell_type": "code",
   "execution_count": 18,
   "metadata": {
    "collapsed": false
   },
   "outputs": [],
   "source": [
    "df.status = df.status.map({'finish': 0, 'dead': 1, 'active': 2, 'pendding': 3})"
   ]
  },
  {
   "cell_type": "code",
   "execution_count": 19,
   "metadata": {
    "collapsed": false
   },
   "outputs": [],
   "source": [
    "df.confirm_delivery = df.confirm_delivery.map({'Y': 0, 'N': 1})"
   ]
  },
  {
   "cell_type": "code",
   "execution_count": 20,
   "metadata": {
    "collapsed": false
   },
   "outputs": [],
   "source": [
    "df.ship_area = df.ship_area.map(lambda area: int(area.split(':')[-1]))"
   ]
  },
  {
   "cell_type": "code",
   "execution_count": 21,
   "metadata": {
    "collapsed": false
   },
   "outputs": [],
   "source": [
    "def time2code(t):\n",
    "    mapping = {\n",
    "        '08:00-12:00': 0,\n",
    "        '14:00-18:00': 1,\n",
    "        '18:00-21:00': 2,\n",
    "        '14:00-21:00': 3}\n",
    "    return mapping.get(t, 4)\n",
    "\n",
    "df.ship_time = df.ship_time.fillna('??,??').map(lambda x: time2code(x.split(',')[1]))"
   ]
  },
  {
   "cell_type": "code",
   "execution_count": 22,
   "metadata": {
    "collapsed": false
   },
   "outputs": [],
   "source": [
    "# df.is_tax = df.is_tax.map({False: 0, True: 1})"
   ]
  },
  {
   "cell_type": "code",
   "execution_count": 23,
   "metadata": {
    "collapsed": false
   },
   "outputs": [],
   "source": [
    "df.tax_type = df.tax_type.map({'false': 0, 'company': 1, 'personal': 2})"
   ]
  },
  {
   "cell_type": "code",
   "execution_count": 24,
   "metadata": {
    "collapsed": true
   },
   "outputs": [],
   "source": [
    "# df.displayonsite = df.displayonsite.map({False: 0, True: 1})"
   ]
  },
  {
   "cell_type": "code",
   "execution_count": 25,
   "metadata": {
    "collapsed": true
   },
   "outputs": [],
   "source": [
    "df.source = df.source.map({'weixin': 0, 'ios': 1, 'pc': 2, 'wap': 3})"
   ]
  },
  {
   "cell_type": "code",
   "execution_count": 26,
   "metadata": {
    "collapsed": true
   },
   "outputs": [],
   "source": [
    "df.scalping = df.scalping.map({False: 0, True: 1})"
   ]
  },
  {
   "cell_type": "code",
   "execution_count": 27,
   "metadata": {
    "collapsed": true
   },
   "outputs": [],
   "source": [
    "# df.autoSendErp = df.autoSendErp.map({False: 0, True: 1})"
   ]
  },
  {
   "cell_type": "code",
   "execution_count": 28,
   "metadata": {
    "collapsed": true
   },
   "outputs": [],
   "source": [
    "df.lang = df.lang.map({'simplified_chinese': 0, 'english': 1})"
   ]
  },
  {
   "cell_type": "code",
   "execution_count": 29,
   "metadata": {
    "collapsed": true
   },
   "outputs": [],
   "source": [
    "df.delivery_note_price = df.delivery_note_price.map({'display': 0, 'none': 1})"
   ]
  },
  {
   "cell_type": "code",
   "execution_count": 30,
   "metadata": {
    "collapsed": false
   },
   "outputs": [
    {
     "data": {
      "text/plain": [
       "ship_mobile                  0\n",
       "total_amount                34\n",
       "pay_status                   0\n",
       "ship_status                  1\n",
       "erp_order_id                 0\n",
       "erp_status                   0\n",
       "createtime                   2\n",
       "last_modified                8\n",
       "payment                      0\n",
       "shipping                     0\n",
       "member_id                    0\n",
       "promotion_type               0\n",
       "group_id                     0\n",
       "groupOn_id                   0\n",
       "is_leader                    0\n",
       "group_num                    0\n",
       "status                       0\n",
       "confirm_delivery             0\n",
       "ship_area                   35\n",
       "weight                       6\n",
       "itemnum                      1\n",
       "ship_time                    4\n",
       "cost_item                   36\n",
       "is_tax                   False\n",
       "tax_type                     0\n",
       "advance                      0\n",
       "score_u                    200\n",
       "score_g                     36\n",
       "discount                     0\n",
       "pmt_goods                    0\n",
       "pmt_order                    0\n",
       "displayonsite             True\n",
       "cost_freight                 0\n",
       "source                       0\n",
       "city_link                    0\n",
       "verify_city_link             0\n",
       "fuzzy                        0\n",
       "longitude              121.524\n",
       "latitude               31.2349\n",
       "scalping                     0\n",
       "autoSendErp               True\n",
       "autoSendErpStatus            0\n",
       "lang                         0\n",
       "delivery_note_price          0\n",
       "Name: 0, dtype: object"
      ]
     },
     "execution_count": 30,
     "metadata": {},
     "output_type": "execute_result"
    }
   ],
   "source": [
    "df.ix[0]"
   ]
  },
  {
   "cell_type": "markdown",
   "metadata": {},
   "source": [
    "### 步骤三：去除异常值\n",
    "\n",
    "根据[箱形图](http://baike.baidu.com/link?url=p5iilyxKfj00v8yBe7AkHusrO94ulEySuxDyqefi_6Qk34eSjJDe0MYvF2ZWFY1ke_nRy4aI8svvxKttWPgD1ti0vL7DW6nTGeFwlVlnwDKzFojUsp32aaQ6km01wIa9Rps-Va0ntNji-_kvHnNHzA_d3XTX-bpVspI3_jiFOM0CqZe0767L0SCo9qr9SyOR)定义，过滤极端异常值。"
   ]
  },
  {
   "cell_type": "code",
   "execution_count": 31,
   "metadata": {
    "collapsed": true,
    "deletable": true,
    "editable": true
   },
   "outputs": [],
   "source": [
    "# 定义异常阈值\n",
    "outlier_thershold = 5\n",
    "\n",
    "# 函数：选出异常值\n",
    "def choose_abnormal(values):\n",
    "    Q1 = values.quantile(.25)\n",
    "    Q3 = values.quantile(.75)\n",
    "    IQR = Q3 - Q1\n",
    "    upper_fence = Q3 + outlier_thershold * IQR\n",
    "    lower_fence = Q1 - outlier_thershold * IQR\n",
    "    return (values < lower_fence) | (values > upper_fence)"
   ]
  },
  {
   "cell_type": "code",
   "execution_count": 32,
   "metadata": {
    "collapsed": false
   },
   "outputs": [
    {
     "name": "stdout",
     "output_type": "stream",
     "text": [
      "toatl: 5867, abnormal: 14\n"
     ]
    }
   ],
   "source": [
    "# 过滤订购金额异常值\n",
    "abnormals = choose_abnormal(df.total_amount)\n",
    "normals = abnormals.map(lambda x: not x)\n",
    "print \"toatl: %d, abnormal: %d\" % (len(df[normals]), len(df[abnormals]))\n",
    "\n",
    "df = df[normals]"
   ]
  },
  {
   "cell_type": "code",
   "execution_count": 33,
   "metadata": {
    "collapsed": false
   },
   "outputs": [
    {
     "name": "stdout",
     "output_type": "stream",
     "text": [
      "toatl: 5852, abnormal: 15\n"
     ]
    }
   ],
   "source": [
    "# 过滤地理位置异常值\n",
    "log_abnormals = choose_abnormal(df.longitude) # 经度异常值\n",
    "lat_abnormals = choose_abnormal(df.latitude)  # 纬度异常值\n",
    "abnormals = log_abnormals | lat_abnormals     # 经纬度异常值\n",
    "normals = abnormals.map(lambda x: not x)      # 经纬度正常值\n",
    "print \"toatl: %d, abnormal: %d\" % (len(df[normals]), len(df[abnormals]))\n",
    "\n",
    "df = df[normals]"
   ]
  }
 ],
 "metadata": {
  "kernelspec": {
   "display_name": "Python 2",
   "language": "python",
   "name": "python2"
  },
  "language_info": {
   "codemirror_mode": {
    "name": "ipython",
    "version": 2
   },
   "file_extension": ".py",
   "mimetype": "text/x-python",
   "name": "python",
   "nbconvert_exporter": "python",
   "pygments_lexer": "ipython2",
   "version": "2.7.11"
  }
 },
 "nbformat": 4,
 "nbformat_minor": 2
}
