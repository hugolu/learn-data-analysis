{
 "cells": [
  {
   "cell_type": "code",
   "execution_count": 1,
   "metadata": {
    "collapsed": false,
    "deletable": true,
    "editable": true
   },
   "outputs": [
    {
     "name": "stdout",
     "output_type": "stream",
     "text": [
      "Populating the interactive namespace from numpy and matplotlib\n"
     ]
    }
   ],
   "source": [
    "%pylab inline"
   ]
  },
  {
   "cell_type": "code",
   "execution_count": 2,
   "metadata": {
    "collapsed": true,
    "deletable": true,
    "editable": true
   },
   "outputs": [],
   "source": [
    "import numpy as np\n",
    "import pandas as pd\n",
    "from pandas import Series, DataFrame\n",
    "\n",
    "import datetime\n",
    "import time"
   ]
  },
  {
   "cell_type": "code",
   "execution_count": 3,
   "metadata": {
    "collapsed": false,
    "deletable": true,
    "editable": true
   },
   "outputs": [],
   "source": [
    "df = pd.read_excel('test_data.xls')"
   ]
  },
  {
   "cell_type": "code",
   "execution_count": 4,
   "metadata": {
    "collapsed": false,
    "deletable": true,
    "editable": true
   },
   "outputs": [
    {
     "data": {
      "text/plain": [
       "ship_name                                                            姐客戶\n",
       "ship_mobile                                                  16143836292\n",
       "order_id                                                 170102235550041\n",
       "total_amount                                                          34\n",
       "final_amount                                                          34\n",
       "pay_status                                                             1\n",
       "ship_status                                                            1\n",
       "is_delivery                                                            Y\n",
       "try_order                                                          False\n",
       "erp_order_id                                                           1\n",
       "erp_status                                                          succ\n",
       "createtime                                                    1483372544\n",
       "last_modified                                                 1483855998\n",
       "payment                                                       wxpayjsapi\n",
       "shipping_id                                                            1\n",
       "shipping                                                            冷链直供\n",
       "member_id                                                          85641\n",
       "promotion_type                                                    normal\n",
       "group_id                                                               0\n",
       "groupOn_id                                                             0\n",
       "is_leader                                                              0\n",
       "is_prepare                                                             0\n",
       "group_num                                                              0\n",
       "status                                                            finish\n",
       "confirm_delivery                                                       Y\n",
       "confirm                                                                N\n",
       "ship_area                                        mainland:上海/上海市/浦东新区:35\n",
       "weight                                                                 6\n",
       "tostr                                                             订单明细介绍\n",
       "itemnum                                                                1\n",
       "                                             ...                        \n",
       "cost_payment                                                           0\n",
       "currency                                                             CNY\n",
       "cur_rate                                                               1\n",
       "advance                                                                0\n",
       "score_u                                                              200\n",
       "score_g                                                               36\n",
       "discount                                                               0\n",
       "pmt_goods                                                              0\n",
       "pmt_order                                                              0\n",
       "payed                                                                 34\n",
       "disabled                                                           False\n",
       "displayonsite                                                       True\n",
       "mark_type                                                             b1\n",
       "cost_freight                                                           0\n",
       "extend                                                             False\n",
       "order_refer                                                        local\n",
       "addon                  a:2:{s:19:\"order_chgpointmoney\";s:4:\"2.00\";s:1...\n",
       "source                                                            weixin\n",
       "city_link                                                              0\n",
       "verify_city_link                                                       0\n",
       "fuzzy                                                                  0\n",
       "longitude                                                        121.524\n",
       "latitude                                                         31.2349\n",
       "scalping                                                           False\n",
       "out_trade_no                                        17010223555004121975\n",
       "autoSendErp                                                         True\n",
       "autoSendErpStatus                                                      0\n",
       "string_tag_id                                                        NaN\n",
       "lang                                                  simplified_chinese\n",
       "delivery_note_price                                              display\n",
       "Name: 0, dtype: object"
      ]
     },
     "execution_count": 4,
     "metadata": {},
     "output_type": "execute_result"
    }
   ],
   "source": [
    "df.ix[0]"
   ]
  },
  {
   "cell_type": "code",
   "execution_count": 5,
   "metadata": {
    "collapsed": false,
    "deletable": true,
    "editable": true
   },
   "outputs": [
    {
     "data": {
      "text/plain": [
       "17166769648    23\n",
       "16143545425    22\n",
       "16143452034    14\n",
       "17015859490    13\n",
       "17131246473    13\n",
       "17188915242    13\n",
       "16104542317    12\n",
       "16103411770    11\n",
       "16140271796    11\n",
       "16594905358    11\n",
       "Name: ship_mobile, dtype: int64"
      ]
     },
     "execution_count": 5,
     "metadata": {},
     "output_type": "execute_result"
    }
   ],
   "source": [
    "# top 10 常客\n",
    "df.ship_mobile.value_counts().head(10)"
   ]
  },
  {
   "cell_type": "code",
   "execution_count": 6,
   "metadata": {
    "collapsed": false
   },
   "outputs": [
    {
     "data": {
      "text/plain": [
       "ship_mobile\n",
       "16025631922    6718.00\n",
       "17166769648    6420.86\n",
       "16143545425    5002.66\n",
       "16143452034    3969.50\n",
       "17015859490    3603.17\n",
       "16104542317    3599.37\n",
       "16143852933    3503.90\n",
       "17131246473    3332.54\n",
       "16594856439    3140.21\n",
       "16165729992    2910.70\n",
       "Name: total_amount, dtype: float64"
      ]
     },
     "execution_count": 6,
     "metadata": {},
     "output_type": "execute_result"
    }
   ],
   "source": [
    "# top 10 顾客\n",
    "df.groupby('ship_mobile')['total_amount'].sum().sort_values(ascending=False).head(10)"
   ]
  },
  {
   "cell_type": "markdown",
   "metadata": {},
   "source": [
    "客户 17166769648 订单数22，总消费金额6420.86，绝对是VIP"
   ]
  },
  {
   "cell_type": "code",
   "execution_count": 7,
   "metadata": {
    "collapsed": false,
    "deletable": true,
    "editable": true
   },
   "outputs": [
    {
     "data": {
      "text/plain": [
       "count    5881.000000\n",
       "mean      109.929809\n",
       "std       146.618477\n",
       "min         0.000000\n",
       "25%        16.000000\n",
       "50%        80.000000\n",
       "75%       176.000000\n",
       "max      5994.000000\n",
       "Name: total_amount, dtype: float64"
      ]
     },
     "execution_count": 7,
     "metadata": {},
     "output_type": "execute_result"
    }
   ],
   "source": [
    "# 观察 total_amount\n",
    "df.total_amount.describe()"
   ]
  },
  {
   "cell_type": "markdown",
   "metadata": {},
   "source": [
    "- 平均购买金额约 110\n",
    "- 购买金额差异颇大 (std=146.618477)\n",
    "- 最小购买金额0， 最大购买金额 5994"
   ]
  },
  {
   "cell_type": "code",
   "execution_count": 8,
   "metadata": {
    "collapsed": false
   },
   "outputs": [
    {
     "data": {
      "text/plain": [
       "<matplotlib.axes._subplots.AxesSubplot at 0x110e2add0>"
      ]
     },
     "execution_count": 8,
     "metadata": {},
     "output_type": "execute_result"
    },
    {
     "data": {
      "image/png": "[encoded data removed]",
      "text/plain": [
       "<matplotlib.figure.Figure at 0x10fbe5e50>"
      ]
     },
     "metadata": {},
     "output_type": "display_data"
    }
   ],
   "source": [
    "# 用 bar chart 观察消费分布\n",
    "df.total_amount.hist(bins=60)"
   ]
  },
  {
   "cell_type": "code",
   "execution_count": 9,
   "metadata": {
    "collapsed": false
   },
   "outputs": [
    {
     "data": {
      "text/plain": [
       "(0, 100]        2694\n",
       "(100, 200]      1516\n",
       "(200, 300]       869\n",
       "(300, 400]       193\n",
       "(400, 500]        82\n",
       "(500, 600]        51\n",
       "(900, 1000]       12\n",
       "(600, 700]        10\n",
       "(700, 800]         5\n",
       "(800, 900]         4\n",
       "(1000, 1100]       3\n",
       "(1300, 1400]       1\n",
       "(1100, 1200]       1\n",
       "(5900, 6000]       1\n",
       "Name: total_amount, dtype: int64"
      ]
     },
     "execution_count": 9,
     "metadata": {},
     "output_type": "execute_result"
    }
   ],
   "source": [
    "# 对消费金额分组\n",
    "cats = pd.cut(df.total_amount, bins=linspace(0,6000,61)).value_counts()\n",
    "cats = cats[cats != 0]\n",
    "cats"
   ]
  },
  {
   "cell_type": "markdown",
   "metadata": {},
   "source": [
    "用 1000元 将购买行为分成两部分\n",
    "- 一般消费者\n",
    "- 高端消费者"
   ]
  },
  {
   "cell_type": "code",
   "execution_count": 10,
   "metadata": {
    "collapsed": false
   },
   "outputs": [
    {
     "data": {
      "text/plain": [
       "count    5868.000000\n",
       "mean      106.992922\n",
       "std       117.425926\n",
       "min         0.000000\n",
       "25%        16.000000\n",
       "50%        79.000000\n",
       "75%       175.000000\n",
       "max       994.000000\n",
       "Name: total_amount, dtype: float64"
      ]
     },
     "execution_count": 10,
     "metadata": {},
     "output_type": "execute_result"
    }
   ],
   "source": [
    "# 一般消费者\n",
    "df1 = df[df.total_amount < 1000]\n",
    "df1.total_amount.describe()"
   ]
  },
  {
   "cell_type": "code",
   "execution_count": 11,
   "metadata": {
    "collapsed": false
   },
   "outputs": [
    {
     "data": {
      "text/plain": [
       "<matplotlib.axes._subplots.AxesSubplot at 0x11443f390>"
      ]
     },
     "execution_count": 11,
     "metadata": {},
     "output_type": "execute_result"
    },
    {
     "data": {
      "image/png": "[encoded data removed]",
      "text/plain": [
       "<matplotlib.figure.Figure at 0x1144f3a90>"
      ]
     },
     "metadata": {},
     "output_type": "display_data"
    }
   ],
   "source": [
    "df1.total_amount.hist(bins=20)"
   ]
  },
  {
   "cell_type": "code",
   "execution_count": 12,
   "metadata": {
    "collapsed": false
   },
   "outputs": [
    {
     "data": {
      "text/plain": [
       "439"
      ]
     },
     "execution_count": 12,
     "metadata": {},
     "output_type": "execute_result"
    }
   ],
   "source": [
    "# 发现消费金额为 0 的订单\n",
    "df0 = df[df.total_amount == 0]\n",
    "len(df0)"
   ]
  },
  {
   "cell_type": "markdown",
   "metadata": {},
   "source": [
    "应该追查原因\n",
    "- 为何放弃购买：价格太贵？找不到想买的？购物车设计不良？\n",
    "- 那些人放弃购买：来乱的？熟客？\n",
    "- 什么时间：商品缺货？竞争对手促销？\n",
    "- 放弃购买时购物车里有哪些商品？\n",
    "- 放弃购买的人地理分布：距离太远、运送时间太久？"
   ]
  },
  {
   "cell_type": "code",
   "execution_count": 13,
   "metadata": {
    "collapsed": false,
    "deletable": true,
    "editable": true
   },
   "outputs": [
    {
     "data": {
      "text/plain": [
       "<matplotlib.axes._subplots.AxesSubplot at 0x11491c2d0>"
      ]
     },
     "execution_count": 13,
     "metadata": {},
     "output_type": "execute_result"
    },
    {
     "data": {
      "image/png": "[encoded data removed]",
      "text/plain": [
       "<matplotlib.figure.Figure at 0x1144c8dd0>"
      ]
     },
     "metadata": {},
     "output_type": "display_data"
    }
   ],
   "source": [
    "# 移除0元订单\n",
    "df1 = df1[df1.total_amount != 0]\n",
    "df1.total_amount.hist(bins=20)"
   ]
  },
  {
   "cell_type": "code",
   "execution_count": 14,
   "metadata": {
    "collapsed": false
   },
   "outputs": [
    {
     "data": {
      "text/html": [
       "<div>\n",
       "<table border=\"1\" class=\"dataframe\">\n",
       "  <thead>\n",
       "    <tr style=\"text-align: right;\">\n",
       "      <th></th>\n",
       "      <th>count</th>\n",
       "      <th>sum</th>\n",
       "    </tr>\n",
       "    <tr>\n",
       "      <th>ship_mobile</th>\n",
       "      <th></th>\n",
       "      <th></th>\n",
       "    </tr>\n",
       "  </thead>\n",
       "  <tbody>\n",
       "    <tr>\n",
       "      <th>16025631922</th>\n",
       "      <td>1</td>\n",
       "      <td>5994.00</td>\n",
       "    </tr>\n",
       "    <tr>\n",
       "      <th>16027987710</th>\n",
       "      <td>1</td>\n",
       "      <td>1303.60</td>\n",
       "    </tr>\n",
       "    <tr>\n",
       "      <th>16047130497</th>\n",
       "      <td>2</td>\n",
       "      <td>2000.00</td>\n",
       "    </tr>\n",
       "    <tr>\n",
       "      <th>16058109885</th>\n",
       "      <td>1</td>\n",
       "      <td>1000.00</td>\n",
       "    </tr>\n",
       "    <tr>\n",
       "      <th>16073163745</th>\n",
       "      <td>1</td>\n",
       "      <td>1096.60</td>\n",
       "    </tr>\n",
       "    <tr>\n",
       "      <th>16111321232</th>\n",
       "      <td>1</td>\n",
       "      <td>1000.00</td>\n",
       "    </tr>\n",
       "    <tr>\n",
       "      <th>16140231576</th>\n",
       "      <td>1</td>\n",
       "      <td>1081.00</td>\n",
       "    </tr>\n",
       "    <tr>\n",
       "      <th>16143852933</th>\n",
       "      <td>1</td>\n",
       "      <td>1033.10</td>\n",
       "    </tr>\n",
       "    <tr>\n",
       "      <th>16166056665</th>\n",
       "      <td>1</td>\n",
       "      <td>1000.00</td>\n",
       "    </tr>\n",
       "    <tr>\n",
       "      <th>16594856439</th>\n",
       "      <td>1</td>\n",
       "      <td>1154.44</td>\n",
       "    </tr>\n",
       "    <tr>\n",
       "      <th>16941369693</th>\n",
       "      <td>1</td>\n",
       "      <td>1000.00</td>\n",
       "    </tr>\n",
       "    <tr>\n",
       "      <th>17188596867</th>\n",
       "      <td>1</td>\n",
       "      <td>1000.00</td>\n",
       "    </tr>\n",
       "  </tbody>\n",
       "</table>\n",
       "</div>"
      ],
      "text/plain": [
       "             count      sum\n",
       "ship_mobile                \n",
       "16025631922      1  5994.00\n",
       "16027987710      1  1303.60\n",
       "16047130497      2  2000.00\n",
       "16058109885      1  1000.00\n",
       "16073163745      1  1096.60\n",
       "16111321232      1  1000.00\n",
       "16140231576      1  1081.00\n",
       "16143852933      1  1033.10\n",
       "16166056665      1  1000.00\n",
       "16594856439      1  1154.44\n",
       "16941369693      1  1000.00\n",
       "17188596867      1  1000.00"
      ]
     },
     "execution_count": 14,
     "metadata": {},
     "output_type": "execute_result"
    }
   ],
   "source": [
    "# 观察1000元以上的订单\n",
    "df2 = df[df.total_amount >= 1000]\n",
    "df2.groupby('ship_mobile')['total_amount'].agg(['count','sum'])"
   ]
  },
  {
   "cell_type": "code",
   "execution_count": 15,
   "metadata": {
    "collapsed": false
   },
   "outputs": [
    {
     "data": {
      "text/html": [
       "<div>\n",
       "<table border=\"1\" class=\"dataframe\">\n",
       "  <thead>\n",
       "    <tr style=\"text-align: right;\">\n",
       "      <th></th>\n",
       "      <th>ship_name</th>\n",
       "      <th>ship_mobile</th>\n",
       "      <th>order_id</th>\n",
       "      <th>total_amount</th>\n",
       "      <th>final_amount</th>\n",
       "      <th>pay_status</th>\n",
       "      <th>ship_status</th>\n",
       "      <th>is_delivery</th>\n",
       "      <th>try_order</th>\n",
       "      <th>erp_order_id</th>\n",
       "      <th>...</th>\n",
       "      <th>fuzzy</th>\n",
       "      <th>longitude</th>\n",
       "      <th>latitude</th>\n",
       "      <th>scalping</th>\n",
       "      <th>out_trade_no</th>\n",
       "      <th>autoSendErp</th>\n",
       "      <th>autoSendErpStatus</th>\n",
       "      <th>string_tag_id</th>\n",
       "      <th>lang</th>\n",
       "      <th>delivery_note_price</th>\n",
       "    </tr>\n",
       "  </thead>\n",
       "  <tbody>\n",
       "    <tr>\n",
       "      <th>1726</th>\n",
       "      <td>泠客戶</td>\n",
       "      <td>16025631922</td>\n",
       "      <td>170114121503016</td>\n",
       "      <td>5994.0</td>\n",
       "      <td>5994.0</td>\n",
       "      <td>1</td>\n",
       "      <td>1</td>\n",
       "      <td>Y</td>\n",
       "      <td>False</td>\n",
       "      <td>1</td>\n",
       "      <td>...</td>\n",
       "      <td>0</td>\n",
       "      <td>121.639651</td>\n",
       "      <td>31.324147</td>\n",
       "      <td>False</td>\n",
       "      <td>17011412150301644808</td>\n",
       "      <td>True</td>\n",
       "      <td>1</td>\n",
       "      <td>NaN</td>\n",
       "      <td>simplified_chinese</td>\n",
       "      <td>display</td>\n",
       "    </tr>\n",
       "    <tr>\n",
       "      <th>1965</th>\n",
       "      <td>泠客戶</td>\n",
       "      <td>16025631922</td>\n",
       "      <td>170116105955945</td>\n",
       "      <td>724.0</td>\n",
       "      <td>724.0</td>\n",
       "      <td>1</td>\n",
       "      <td>1</td>\n",
       "      <td>Y</td>\n",
       "      <td>False</td>\n",
       "      <td>1</td>\n",
       "      <td>...</td>\n",
       "      <td>0</td>\n",
       "      <td>121.639651</td>\n",
       "      <td>31.324147</td>\n",
       "      <td>False</td>\n",
       "      <td>17011610595594558220</td>\n",
       "      <td>True</td>\n",
       "      <td>0</td>\n",
       "      <td>NaN</td>\n",
       "      <td>simplified_chinese</td>\n",
       "      <td>display</td>\n",
       "    </tr>\n",
       "  </tbody>\n",
       "</table>\n",
       "<p>2 rows × 72 columns</p>\n",
       "</div>"
      ],
      "text/plain": [
       "     ship_name  ship_mobile         order_id  total_amount  final_amount  \\\n",
       "1726       泠客戶  16025631922  170114121503016        5994.0        5994.0   \n",
       "1965       泠客戶  16025631922  170116105955945         724.0         724.0   \n",
       "\n",
       "      pay_status  ship_status is_delivery try_order  erp_order_id  \\\n",
       "1726           1            1           Y     False             1   \n",
       "1965           1            1           Y     False             1   \n",
       "\n",
       "             ...          fuzzy   longitude   latitude scalping  \\\n",
       "1726         ...              0  121.639651  31.324147    False   \n",
       "1965         ...              0  121.639651  31.324147    False   \n",
       "\n",
       "              out_trade_no autoSendErp  autoSendErpStatus string_tag_id  \\\n",
       "1726  17011412150301644808        True                  1           NaN   \n",
       "1965  17011610595594558220        True                  0           NaN   \n",
       "\n",
       "                    lang  delivery_note_price  \n",
       "1726  simplified_chinese              display  \n",
       "1965  simplified_chinese              display  \n",
       "\n",
       "[2 rows x 72 columns]"
      ]
     },
     "execution_count": 15,
     "metadata": {},
     "output_type": "execute_result"
    }
   ],
   "source": [
    "# 查看客户 16025631922\n",
    "mobile_16025631922 = df[df.ship_mobile == 16025631922]\n",
    "mobile_16025631922"
   ]
  },
  {
   "cell_type": "code",
   "execution_count": 16,
   "metadata": {
    "collapsed": false
   },
   "outputs": [
    {
     "data": {
      "text/plain": [
       "1.0391382898554062"
      ]
     },
     "execution_count": 16,
     "metadata": {},
     "output_type": "execute_result"
    }
   ],
   "source": [
    "100 * mobile_16025631922.total_amount.sum() / df.total_amount.sum()"
   ]
  },
  {
   "cell_type": "markdown",
   "metadata": {},
   "source": [
    "虽然只下了两次单，但人家好歹也占营业额1%啊！这个“泠客戶”值得注意"
   ]
  },
  {
   "cell_type": "code",
   "execution_count": 17,
   "metadata": {
    "collapsed": false
   },
   "outputs": [
    {
     "data": {
      "text/html": [
       "<div>\n",
       "<table border=\"1\" class=\"dataframe\">\n",
       "  <thead>\n",
       "    <tr style=\"text-align: right;\">\n",
       "      <th></th>\n",
       "      <th>ship_name</th>\n",
       "      <th>ship_mobile</th>\n",
       "      <th>order_id</th>\n",
       "      <th>total_amount</th>\n",
       "      <th>final_amount</th>\n",
       "      <th>pay_status</th>\n",
       "      <th>ship_status</th>\n",
       "      <th>is_delivery</th>\n",
       "      <th>try_order</th>\n",
       "      <th>erp_order_id</th>\n",
       "      <th>...</th>\n",
       "      <th>fuzzy</th>\n",
       "      <th>longitude</th>\n",
       "      <th>latitude</th>\n",
       "      <th>scalping</th>\n",
       "      <th>out_trade_no</th>\n",
       "      <th>autoSendErp</th>\n",
       "      <th>autoSendErpStatus</th>\n",
       "      <th>string_tag_id</th>\n",
       "      <th>lang</th>\n",
       "      <th>delivery_note_price</th>\n",
       "    </tr>\n",
       "  </thead>\n",
       "  <tbody>\n",
       "    <tr>\n",
       "      <th>1010</th>\n",
       "      <td>姐客戶</td>\n",
       "      <td>16047130497</td>\n",
       "      <td>170119203298825</td>\n",
       "      <td>1000.0</td>\n",
       "      <td>1000.0</td>\n",
       "      <td>0</td>\n",
       "      <td>0</td>\n",
       "      <td>Y</td>\n",
       "      <td>False</td>\n",
       "      <td>1</td>\n",
       "      <td>...</td>\n",
       "      <td>0</td>\n",
       "      <td>NaN</td>\n",
       "      <td>NaN</td>\n",
       "      <td>False</td>\n",
       "      <td>17011920329882570353</td>\n",
       "      <td>True</td>\n",
       "      <td>0</td>\n",
       "      <td>NaN</td>\n",
       "      <td>simplified_chinese</td>\n",
       "      <td>display</td>\n",
       "    </tr>\n",
       "    <tr>\n",
       "      <th>1011</th>\n",
       "      <td>姐客戶</td>\n",
       "      <td>16047130497</td>\n",
       "      <td>170119203477079</td>\n",
       "      <td>1000.0</td>\n",
       "      <td>1000.0</td>\n",
       "      <td>0</td>\n",
       "      <td>0</td>\n",
       "      <td>Y</td>\n",
       "      <td>False</td>\n",
       "      <td>1</td>\n",
       "      <td>...</td>\n",
       "      <td>0</td>\n",
       "      <td>NaN</td>\n",
       "      <td>NaN</td>\n",
       "      <td>False</td>\n",
       "      <td>17011920347707959751</td>\n",
       "      <td>True</td>\n",
       "      <td>0</td>\n",
       "      <td>NaN</td>\n",
       "      <td>simplified_chinese</td>\n",
       "      <td>display</td>\n",
       "    </tr>\n",
       "    <tr>\n",
       "      <th>1265</th>\n",
       "      <td>鱼客戶</td>\n",
       "      <td>16058109885</td>\n",
       "      <td>170109171697490</td>\n",
       "      <td>1000.0</td>\n",
       "      <td>1000.0</td>\n",
       "      <td>0</td>\n",
       "      <td>0</td>\n",
       "      <td>Y</td>\n",
       "      <td>False</td>\n",
       "      <td>1</td>\n",
       "      <td>...</td>\n",
       "      <td>0</td>\n",
       "      <td>NaN</td>\n",
       "      <td>NaN</td>\n",
       "      <td>False</td>\n",
       "      <td>17010917169749081441</td>\n",
       "      <td>True</td>\n",
       "      <td>0</td>\n",
       "      <td>NaN</td>\n",
       "      <td>simplified_chinese</td>\n",
       "      <td>display</td>\n",
       "    </tr>\n",
       "    <tr>\n",
       "      <th>1429</th>\n",
       "      <td>墨客戶</td>\n",
       "      <td>16941369693</td>\n",
       "      <td>170111043753996</td>\n",
       "      <td>1000.0</td>\n",
       "      <td>1000.0</td>\n",
       "      <td>0</td>\n",
       "      <td>0</td>\n",
       "      <td>Y</td>\n",
       "      <td>False</td>\n",
       "      <td>1</td>\n",
       "      <td>...</td>\n",
       "      <td>0</td>\n",
       "      <td>NaN</td>\n",
       "      <td>NaN</td>\n",
       "      <td>False</td>\n",
       "      <td>17011104375399686397</td>\n",
       "      <td>True</td>\n",
       "      <td>0</td>\n",
       "      <td>NaN</td>\n",
       "      <td>simplified_chinese</td>\n",
       "      <td>display</td>\n",
       "    </tr>\n",
       "    <tr>\n",
       "      <th>2935</th>\n",
       "      <td>娜客戶</td>\n",
       "      <td>17188596867</td>\n",
       "      <td>170122143590991</td>\n",
       "      <td>1000.0</td>\n",
       "      <td>1000.0</td>\n",
       "      <td>1</td>\n",
       "      <td>1</td>\n",
       "      <td>Y</td>\n",
       "      <td>False</td>\n",
       "      <td>1</td>\n",
       "      <td>...</td>\n",
       "      <td>1</td>\n",
       "      <td>121.390661</td>\n",
       "      <td>31.325194</td>\n",
       "      <td>False</td>\n",
       "      <td>17012214359099109102</td>\n",
       "      <td>True</td>\n",
       "      <td>0</td>\n",
       "      <td>NaN</td>\n",
       "      <td>simplified_chinese</td>\n",
       "      <td>display</td>\n",
       "    </tr>\n",
       "    <tr>\n",
       "      <th>3490</th>\n",
       "      <td>玲客戶</td>\n",
       "      <td>16111321232</td>\n",
       "      <td>170205221886076</td>\n",
       "      <td>1000.0</td>\n",
       "      <td>1000.0</td>\n",
       "      <td>1</td>\n",
       "      <td>1</td>\n",
       "      <td>Y</td>\n",
       "      <td>False</td>\n",
       "      <td>1</td>\n",
       "      <td>...</td>\n",
       "      <td>0</td>\n",
       "      <td>121.452639</td>\n",
       "      <td>31.217353</td>\n",
       "      <td>False</td>\n",
       "      <td>17020522188607696113</td>\n",
       "      <td>True</td>\n",
       "      <td>0</td>\n",
       "      <td>NaN</td>\n",
       "      <td>simplified_chinese</td>\n",
       "      <td>display</td>\n",
       "    </tr>\n",
       "    <tr>\n",
       "      <th>3576</th>\n",
       "      <td>斌客戶</td>\n",
       "      <td>16166056665</td>\n",
       "      <td>170208144367916</td>\n",
       "      <td>1000.0</td>\n",
       "      <td>1000.0</td>\n",
       "      <td>0</td>\n",
       "      <td>0</td>\n",
       "      <td>Y</td>\n",
       "      <td>False</td>\n",
       "      <td>0</td>\n",
       "      <td>...</td>\n",
       "      <td>1</td>\n",
       "      <td>121.516388</td>\n",
       "      <td>31.160659</td>\n",
       "      <td>False</td>\n",
       "      <td>NaN</td>\n",
       "      <td>True</td>\n",
       "      <td>0</td>\n",
       "      <td>NaN</td>\n",
       "      <td>simplified_chinese</td>\n",
       "      <td>display</td>\n",
       "    </tr>\n",
       "  </tbody>\n",
       "</table>\n",
       "<p>7 rows × 72 columns</p>\n",
       "</div>"
      ],
      "text/plain": [
       "     ship_name  ship_mobile         order_id  total_amount  final_amount  \\\n",
       "1010       姐客戶  16047130497  170119203298825        1000.0        1000.0   \n",
       "1011       姐客戶  16047130497  170119203477079        1000.0        1000.0   \n",
       "1265       鱼客戶  16058109885  170109171697490        1000.0        1000.0   \n",
       "1429       墨客戶  16941369693  170111043753996        1000.0        1000.0   \n",
       "2935       娜客戶  17188596867  170122143590991        1000.0        1000.0   \n",
       "3490       玲客戶  16111321232  170205221886076        1000.0        1000.0   \n",
       "3576       斌客戶  16166056665  170208144367916        1000.0        1000.0   \n",
       "\n",
       "      pay_status  ship_status is_delivery try_order  erp_order_id  \\\n",
       "1010           0            0           Y     False             1   \n",
       "1011           0            0           Y     False             1   \n",
       "1265           0            0           Y     False             1   \n",
       "1429           0            0           Y     False             1   \n",
       "2935           1            1           Y     False             1   \n",
       "3490           1            1           Y     False             1   \n",
       "3576           0            0           Y     False             0   \n",
       "\n",
       "             ...          fuzzy   longitude   latitude scalping  \\\n",
       "1010         ...              0         NaN        NaN    False   \n",
       "1011         ...              0         NaN        NaN    False   \n",
       "1265         ...              0         NaN        NaN    False   \n",
       "1429         ...              0         NaN        NaN    False   \n",
       "2935         ...              1  121.390661  31.325194    False   \n",
       "3490         ...              0  121.452639  31.217353    False   \n",
       "3576         ...              1  121.516388  31.160659    False   \n",
       "\n",
       "              out_trade_no autoSendErp  autoSendErpStatus string_tag_id  \\\n",
       "1010  17011920329882570353        True                  0           NaN   \n",
       "1011  17011920347707959751        True                  0           NaN   \n",
       "1265  17010917169749081441        True                  0           NaN   \n",
       "1429  17011104375399686397        True                  0           NaN   \n",
       "2935  17012214359099109102        True                  0           NaN   \n",
       "3490  17020522188607696113        True                  0           NaN   \n",
       "3576                   NaN        True                  0           NaN   \n",
       "\n",
       "                    lang  delivery_note_price  \n",
       "1010  simplified_chinese              display  \n",
       "1011  simplified_chinese              display  \n",
       "1265  simplified_chinese              display  \n",
       "1429  simplified_chinese              display  \n",
       "2935  simplified_chinese              display  \n",
       "3490  simplified_chinese              display  \n",
       "3576  simplified_chinese              display  \n",
       "\n",
       "[7 rows x 72 columns]"
      ]
     },
     "execution_count": 17,
     "metadata": {},
     "output_type": "execute_result"
    }
   ],
   "source": [
    "# 发现一个有趣的现象: 好几张订单金额都是1000，呼应某种促销活动吗？\n",
    "df2[df2.total_amount % 1000 == 0]"
   ]
  },
  {
   "cell_type": "code",
   "execution_count": 18,
   "metadata": {
    "collapsed": false,
    "deletable": true,
    "editable": true
   },
   "outputs": [
    {
     "data": {
      "text/plain": [
       "冷链直供      4905\n",
       "一米市集直送     976\n",
       "Name: shipping, dtype: int64"
      ]
     },
     "execution_count": 18,
     "metadata": {},
     "output_type": "execute_result"
    }
   ],
   "source": [
    "# 观察 shipping\n",
    "df['shipping'].value_counts()"
   ]
  }
 ],
 "metadata": {
  "kernelspec": {
   "display_name": "Python 2",
   "language": "python",
   "name": "python2"
  },
  "language_info": {
   "codemirror_mode": {
    "name": "ipython",
    "version": 2
   },
   "file_extension": ".py",
   "mimetype": "text/x-python",
   "name": "python",
   "nbconvert_exporter": "python",
   "pygments_lexer": "ipython2",
   "version": "2.7.11"
  }
 },
 "nbformat": 4,
 "nbformat_minor": 2
}
