{
 "cells": [
  {
   "cell_type": "markdown",
   "metadata": {
    "deletable": true,
    "editable": true
   },
   "source": [
    "# 网络流量分析\n",
    "\n",
    "- 4/13 被通知网络流量异常\n",
    "- 4/17 分析 2017/04/10~2017/04/15 的网络使用情况"
   ]
  },
  {
   "cell_type": "code",
   "execution_count": 1,
   "metadata": {
    "collapsed": false,
    "deletable": true,
    "editable": true
   },
   "outputs": [
    {
     "name": "stdout",
     "output_type": "stream",
     "text": [
      "Populating the interactive namespace from numpy and matplotlib\n"
     ]
    }
   ],
   "source": [
    "%pylab inline"
   ]
  },
  {
   "cell_type": "code",
   "execution_count": 2,
   "metadata": {
    "collapsed": true,
    "deletable": true,
    "editable": true
   },
   "outputs": [],
   "source": [
    "import numpy as np\n",
    "import pandas as pd\n",
    "from pandas import Series, DataFrame\n",
    "from datetime import datetime"
   ]
  },
  {
   "cell_type": "code",
   "execution_count": 3,
   "metadata": {
    "collapsed": true,
    "deletable": true,
    "editable": true
   },
   "outputs": [],
   "source": [
    "import sys \n",
    "reload(sys)\n",
    "sys.setdefaultencoding('gb2312')\n",
    "\n",
    "gb_id = u'工号'.encode('gb2312')\n",
    "gb_name = u'姓名'.encode('gb2312')\n",
    "gb_datetime = u'日期时间'.encode('gb2312')\n",
    "gb_type = u'类型'.encode('gb2312')\n",
    "gb_url = u'网站'.encode('gb2312')\n",
    "gb_volume = u'流量'.encode('gb2312')"
   ]
  },
  {
   "cell_type": "code",
   "execution_count": 4,
   "metadata": {
    "collapsed": false,
    "deletable": true,
    "editable": true
   },
   "outputs": [],
   "source": [
    "# 载入数据 0410~0415\n",
    "df0410 = pd.read_csv('0410.csv',index_col=gb_datetime,parse_dates=True)\n",
    "df0411 = pd.read_csv('0411.csv',index_col=gb_datetime,parse_dates=True)\n",
    "df0412 = pd.read_csv('0412.csv',index_col=gb_datetime,parse_dates=True)\n",
    "df0413 = pd.read_csv('0413.csv',index_col=gb_datetime,parse_dates=True)\n",
    "df0414 = pd.read_csv('0414.csv',index_col=gb_datetime,parse_dates=True)\n",
    "df0415 = pd.read_csv('0415.csv',index_col=gb_datetime,parse_dates=True)\n",
    "\n",
    "df = pd.concat([df0410,df0411,df0412,df0413,df0414,df0415])"
   ]
  },
  {
   "cell_type": "code",
   "execution_count": 5,
   "metadata": {
    "collapsed": false,
    "deletable": true,
    "editable": true
   },
   "outputs": [
    {
     "data": {
      "text/plain": [
       "工号            315657\n",
       "姓名               吕明宪\n",
       "类型                营销\n",
       "网站                ::\n",
       "流量              0.02\n",
       "Unnamed: 6       NaN\n",
       "Name: 2017-04-10 08:34:19, dtype: object"
      ]
     },
     "execution_count": 5,
     "metadata": {},
     "output_type": "execute_result"
    }
   ],
   "source": [
    "# 观察第一笔记录\n",
    "df.ix[0]"
   ]
  },
  {
   "cell_type": "code",
   "execution_count": 6,
   "metadata": {
    "collapsed": false,
    "deletable": true,
    "editable": true
   },
   "outputs": [
    {
     "data": {
      "text/plain": [
       "1648.49"
      ]
     },
     "execution_count": 6,
     "metadata": {},
     "output_type": "execute_result"
    }
   ],
   "source": [
    "# 总流量\n",
    "df[gb_volume].sum()"
   ]
  },
  {
   "cell_type": "code",
   "execution_count": 7,
   "metadata": {
    "collapsed": false
   },
   "outputs": [
    {
     "data": {
      "text/plain": [
       "<matplotlib.axes._subplots.AxesSubplot at 0x10fd94b90>"
      ]
     },
     "execution_count": 7,
     "metadata": {},
     "output_type": "execute_result"
    },
    {
     "data": {
      "image/png": "[encoded data removed]",
      "text/plain": [
       "<matplotlib.figure.Figure at 0x10e985f90>"
      ]
     },
     "metadata": {},
     "output_type": "display_data"
    }
   ],
   "source": [
    "# 日流量长条图\n",
    "df[gb_volume].resample('1D', how='sum').plot(kind='barh')"
   ]
  },
  {
   "cell_type": "code",
   "execution_count": 8,
   "metadata": {
    "collapsed": false,
    "deletable": true,
    "editable": true
   },
   "outputs": [
    {
     "data": {
      "text/plain": [
       "类型\n",
       "百度音乐        1082.08\n",
       "IT相关         189.91\n",
       "搜索引擎          79.13\n",
       "未识别应用         61.74\n",
       "OneDrive      31.64\n",
       "PC微信传文件       27.54\n",
       "PC微信收文件       26.01\n",
       "微信            20.16\n",
       "新闻门户          14.10\n",
       "IT行业          13.38\n",
       "Name: 流量, dtype: float64"
      ]
     },
     "execution_count": 8,
     "metadata": {},
     "output_type": "execute_result"
    }
   ],
   "source": [
    "# 流量排行\n",
    "df.groupby(gb_type)[gb_volume].sum().sort_values(ascending=False).head(10)"
   ]
  },
  {
   "cell_type": "markdown",
   "metadata": {
    "deletable": true,
    "editable": true
   },
   "source": [
    "- 百度音乐占大部分流量"
   ]
  },
  {
   "cell_type": "code",
   "execution_count": 9,
   "metadata": {
    "collapsed": false,
    "deletable": true,
    "editable": true
   },
   "outputs": [
    {
     "data": {
      "text/plain": [
       "<matplotlib.axes._subplots.AxesSubplot at 0x113e29650>"
      ]
     },
     "execution_count": 9,
     "metadata": {},
     "output_type": "execute_result"
    },
    {
     "data": {
      "image/png": "[encoded data removed]",
      "text/plain": [
       "<matplotlib.figure.Figure at 0x10ff43ad0>"
      ]
     },
     "metadata": {},
     "output_type": "display_data"
    }
   ],
   "source": [
    "# 百度音乐累计流量\n",
    "df[df[gb_type] == u'百度音乐'][gb_volume].cumsum().plot(xlim=['2017-04-10','2017-04-16'])"
   ]
  },
  {
   "cell_type": "markdown",
   "metadata": {
    "deletable": true,
    "editable": true
   },
   "source": [
    "- 接到通知即刻停止使用百度音乐，在4/13以后不再产生流量"
   ]
  }
 ],
 "metadata": {
  "kernelspec": {
   "display_name": "Python 2",
   "language": "python",
   "name": "python2"
  },
  "language_info": {
   "codemirror_mode": {
    "name": "ipython",
    "version": 2
   },
   "file_extension": ".py",
   "mimetype": "text/x-python",
   "name": "python",
   "nbconvert_exporter": "python",
   "pygments_lexer": "ipython2",
   "version": "2.7.11"
  }
 },
 "nbformat": 4,
 "nbformat_minor": 2
}
