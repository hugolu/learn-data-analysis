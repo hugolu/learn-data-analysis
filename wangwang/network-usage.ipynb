{
 "cells": [
  {
   "cell_type": "markdown",
   "metadata": {
    "deletable": true,
    "editable": true
   },
   "source": [
    "# 网络流量分析\n",
    "\n",
    "- 4/13 被通知网络流量异常\n",
    "- 4/17 分析 2017/04/10~2017/04/15 的网络使用情况"
   ]
  },
  {
   "cell_type": "code",
   "execution_count": 1,
   "metadata": {
    "collapsed": false,
    "deletable": true,
    "editable": true
   },
   "outputs": [
    {
     "name": "stdout",
     "output_type": "stream",
     "text": [
      "Populating the interactive namespace from numpy and matplotlib\n"
     ]
    }
   ],
   "source": [
    "%pylab inline"
   ]
  },
  {
   "cell_type": "code",
   "execution_count": 2,
   "metadata": {
    "collapsed": true,
    "deletable": true,
    "editable": true
   },
   "outputs": [],
   "source": [
    "import numpy as np\n",
    "import pandas as pd\n",
    "from pandas import Series, DataFrame\n",
    "from datetime import datetime"
   ]
  },
  {
   "cell_type": "code",
   "execution_count": 3,
   "metadata": {
    "collapsed": true,
    "deletable": true,
    "editable": true
   },
   "outputs": [],
   "source": [
    "import sys \n",
    "reload(sys)\n",
    "sys.setdefaultencoding('gb2312')\n",
    "\n",
    "gb_id = u'工号'.encode('gb2312')\n",
    "gb_name = u'姓名'.encode('gb2312')\n",
    "gb_datetime = u'日期时间'.encode('gb2312')\n",
    "gb_type = u'类型'.encode('gb2312')\n",
    "gb_url = u'网站'.encode('gb2312')\n",
    "gb_volume = u'流量'.encode('gb2312')\n",
    "gb_others = u'其他'.encode('gb2312')"
   ]
  },
  {
   "cell_type": "code",
   "execution_count": 4,
   "metadata": {
    "collapsed": false,
    "deletable": true,
    "editable": true
   },
   "outputs": [],
   "source": [
    "# 载入数据 0410~0415\n",
    "df0410 = pd.read_csv('0410.csv',index_col=gb_datetime,parse_dates=True)\n",
    "df0411 = pd.read_csv('0411.csv',index_col=gb_datetime,parse_dates=True)\n",
    "df0412 = pd.read_csv('0412.csv',index_col=gb_datetime,parse_dates=True)\n",
    "df0413 = pd.read_csv('0413.csv',index_col=gb_datetime,parse_dates=True)\n",
    "df0414 = pd.read_csv('0414.csv',index_col=gb_datetime,parse_dates=True)\n",
    "df0415 = pd.read_csv('0415.csv',index_col=gb_datetime,parse_dates=True)\n",
    "\n",
    "df = pd.concat([df0410,df0411,df0412,df0413,df0414,df0415])"
   ]
  },
  {
   "cell_type": "code",
   "execution_count": 5,
   "metadata": {
    "collapsed": false,
    "deletable": true,
    "editable": true
   },
   "outputs": [
    {
     "data": {
      "text/plain": [
       "工号            315657\n",
       "姓名               吕明宪\n",
       "类型                营销\n",
       "网站                ::\n",
       "流量              0.02\n",
       "Unnamed: 6       NaN\n",
       "Name: 2017-04-10 08:34:19, dtype: object"
      ]
     },
     "execution_count": 5,
     "metadata": {},
     "output_type": "execute_result"
    }
   ],
   "source": [
    "# 观察第一笔记录\n",
    "df.ix[0]"
   ]
  },
  {
   "cell_type": "code",
   "execution_count": 6,
   "metadata": {
    "collapsed": false,
    "deletable": true,
    "editable": true
   },
   "outputs": [
    {
     "data": {
      "text/plain": [
       "1648.49"
      ]
     },
     "execution_count": 6,
     "metadata": {},
     "output_type": "execute_result"
    }
   ],
   "source": [
    "# 总流量\n",
    "df[gb_volume].sum()"
   ]
  },
  {
   "cell_type": "code",
   "execution_count": 7,
   "metadata": {
    "collapsed": false
   },
   "outputs": [
    {
     "data": {
      "text/plain": [
       "<matplotlib.axes._subplots.AxesSubplot at 0x10fd94b90>"
      ]
     },
     "execution_count": 7,
     "metadata": {},
     "output_type": "execute_result"
    },
    {
     "data": {
      "image/png": "[encoded data removed]",
      "text/plain": [
       "<matplotlib.figure.Figure at 0x10e985f90>"
      ]
     },
     "metadata": {},
     "output_type": "display_data"
    }
   ],
   "source": [
    "# 日流量长条图\n",
    "df[gb_volume].resample('1D', how='sum').plot(kind='barh')"
   ]
  },
  {
   "cell_type": "code",
   "execution_count": 8,
   "metadata": {
    "collapsed": false,
    "deletable": true,
    "editable": true
   },
   "outputs": [
    {
     "data": {
      "text/plain": [
       "类型\n",
       "百度音乐        1082.08\n",
       "IT相关         189.91\n",
       "搜索引擎          79.13\n",
       "未识别应用         61.74\n",
       "OneDrive      31.64\n",
       "PC微信传文件       27.54\n",
       "PC微信收文件       26.01\n",
       "微信            20.16\n",
       "新闻门户          14.10\n",
       "IT行业          13.38\n",
       "Name: 流量, dtype: float64"
      ]
     },
     "execution_count": 8,
     "metadata": {},
     "output_type": "execute_result"
    }
   ],
   "source": [
    "# 流量排行\n",
    "df.groupby(gb_type)[gb_volume].sum().sort_values(ascending=False).head(10)"
   ]
  },
  {
   "cell_type": "markdown",
   "metadata": {
    "deletable": true,
    "editable": true
   },
   "source": [
    "- 百度音乐占大部分流量"
   ]
  },
  {
   "cell_type": "code",
   "execution_count": 9,
   "metadata": {
    "collapsed": false,
    "deletable": true,
    "editable": true
   },
   "outputs": [
    {
     "data": {
      "text/plain": [
       "<matplotlib.axes._subplots.AxesSubplot at 0x10fc45150>"
      ]
     },
     "execution_count": 9,
     "metadata": {},
     "output_type": "execute_result"
    },
    {
     "data": {
      "image/png": "[encoded data removed]",
      "text/plain": [
       "<matplotlib.figure.Figure at 0x10ea87b90>"
      ]
     },
     "metadata": {},
     "output_type": "display_data"
    }
   ],
   "source": [
    "# 百度音乐累计流量\n",
    "df[df[gb_type] == u'百度音乐'][gb_volume].cumsum().plot(xlim=['2017-04-10','2017-04-16'])"
   ]
  },
  {
   "cell_type": "markdown",
   "metadata": {
    "deletable": true,
    "editable": true
   },
   "source": [
    "- 接到通知即刻停止使用百度音乐，在4/13以后不再产生流量"
   ]
  },
  {
   "cell_type": "code",
   "execution_count": 9,
   "metadata": {
    "collapsed": false
   },
   "outputs": [],
   "source": [
    "df_baidu_music = df[df[gb_type] == u'百度音乐']\n",
    "df_it_related = df[df[gb_type] == u'IT相关']\n",
    "df_search_engine = df[df[gb_type] == u'搜索引擎']\n",
    "df_unknown_app = df[df[gb_type] == u'未识别应用']\n",
    "df_others =  df[(df[gb_type] != u'百度音乐') &\n",
    "                (df[gb_type] != u'IT相关') &\n",
    "                (df[gb_type] != u'搜索引擎') &\n",
    "                (df[gb_type] != u'未识别应用')]"
   ]
  },
  {
   "cell_type": "code",
   "execution_count": 10,
   "metadata": {
    "collapsed": false
   },
   "outputs": [
    {
     "data": {
      "text/plain": [
       "10    366.64\n",
       "12    543.25\n",
       "13    172.19\n",
       "Name: 流量, dtype: float64"
      ]
     },
     "execution_count": 10,
     "metadata": {},
     "output_type": "execute_result"
    }
   ],
   "source": [
    "df_baidu_music.groupby(lambda idx: idx.day)[gb_volume].sum()"
   ]
  },
  {
   "cell_type": "code",
   "execution_count": 11,
   "metadata": {
    "collapsed": false
   },
   "outputs": [
    {
     "data": {
      "text/plain": [
       "10    84.26\n",
       "11     1.31\n",
       "12    31.96\n",
       "13    27.63\n",
       "14    12.84\n",
       "15    31.91\n",
       "Name: 流量, dtype: float64"
      ]
     },
     "execution_count": 11,
     "metadata": {},
     "output_type": "execute_result"
    }
   ],
   "source": [
    "df_it_related.groupby(lambda idx: idx.day)[gb_volume].sum()"
   ]
  },
  {
   "cell_type": "code",
   "execution_count": 12,
   "metadata": {
    "collapsed": false
   },
   "outputs": [
    {
     "data": {
      "text/plain": [
       "10    45.60\n",
       "11     0.13\n",
       "12    12.67\n",
       "13     4.77\n",
       "14     5.37\n",
       "15    10.59\n",
       "Name: 流量, dtype: float64"
      ]
     },
     "execution_count": 12,
     "metadata": {},
     "output_type": "execute_result"
    }
   ],
   "source": [
    "df_search_engine.groupby(lambda idx: idx.day)[gb_volume].sum()"
   ]
  },
  {
   "cell_type": "code",
   "execution_count": 13,
   "metadata": {
    "collapsed": false
   },
   "outputs": [
    {
     "data": {
      "text/plain": [
       "10    14.89\n",
       "11     1.97\n",
       "12     9.18\n",
       "13     7.24\n",
       "14    11.16\n",
       "15    17.30\n",
       "Name: 流量, dtype: float64"
      ]
     },
     "execution_count": 13,
     "metadata": {},
     "output_type": "execute_result"
    }
   ],
   "source": [
    "df_unknown_app.groupby(lambda idx: idx.day)[gb_volume].sum()"
   ]
  },
  {
   "cell_type": "code",
   "execution_count": 14,
   "metadata": {
    "collapsed": false
   },
   "outputs": [
    {
     "data": {
      "text/plain": [
       "10    78.29\n",
       "11    22.99\n",
       "12    43.03\n",
       "13    44.54\n",
       "14    20.19\n",
       "15    26.59\n",
       "Name: 流量, dtype: float64"
      ]
     },
     "execution_count": 14,
     "metadata": {},
     "output_type": "execute_result"
    }
   ],
   "source": [
    "df_others.groupby(lambda idx: idx.day)[gb_volume].sum()"
   ]
  },
  {
   "cell_type": "code",
   "execution_count": 15,
   "metadata": {
    "collapsed": false
   },
   "outputs": [
    {
     "data": {
      "text/html": [
       "<div>\n",
       "<table border=\"1\" class=\"dataframe\">\n",
       "  <thead>\n",
       "    <tr style=\"text-align: right;\">\n",
       "      <th></th>\n",
       "      <th>music</th>\n",
       "      <th>it</th>\n",
       "      <th>search</th>\n",
       "      <th>unkonwn</th>\n",
       "      <th>others</th>\n",
       "    </tr>\n",
       "  </thead>\n",
       "  <tbody>\n",
       "    <tr>\n",
       "      <th>10</th>\n",
       "      <td>366.64</td>\n",
       "      <td>84.26</td>\n",
       "      <td>45.60</td>\n",
       "      <td>14.89</td>\n",
       "      <td>78.29</td>\n",
       "    </tr>\n",
       "    <tr>\n",
       "      <th>11</th>\n",
       "      <td>NaN</td>\n",
       "      <td>1.31</td>\n",
       "      <td>0.13</td>\n",
       "      <td>1.97</td>\n",
       "      <td>22.99</td>\n",
       "    </tr>\n",
       "    <tr>\n",
       "      <th>12</th>\n",
       "      <td>543.25</td>\n",
       "      <td>31.96</td>\n",
       "      <td>12.67</td>\n",
       "      <td>9.18</td>\n",
       "      <td>43.03</td>\n",
       "    </tr>\n",
       "    <tr>\n",
       "      <th>13</th>\n",
       "      <td>172.19</td>\n",
       "      <td>27.63</td>\n",
       "      <td>4.77</td>\n",
       "      <td>7.24</td>\n",
       "      <td>44.54</td>\n",
       "    </tr>\n",
       "    <tr>\n",
       "      <th>14</th>\n",
       "      <td>NaN</td>\n",
       "      <td>12.84</td>\n",
       "      <td>5.37</td>\n",
       "      <td>11.16</td>\n",
       "      <td>20.19</td>\n",
       "    </tr>\n",
       "    <tr>\n",
       "      <th>15</th>\n",
       "      <td>NaN</td>\n",
       "      <td>31.91</td>\n",
       "      <td>10.59</td>\n",
       "      <td>17.30</td>\n",
       "      <td>26.59</td>\n",
       "    </tr>\n",
       "  </tbody>\n",
       "</table>\n",
       "</div>"
      ],
      "text/plain": [
       "     music     it  search  unkonwn  others\n",
       "10  366.64  84.26   45.60    14.89   78.29\n",
       "11     NaN   1.31    0.13     1.97   22.99\n",
       "12  543.25  31.96   12.67     9.18   43.03\n",
       "13  172.19  27.63    4.77     7.24   44.54\n",
       "14     NaN  12.84    5.37    11.16   20.19\n",
       "15     NaN  31.91   10.59    17.30   26.59"
      ]
     },
     "execution_count": 15,
     "metadata": {},
     "output_type": "execute_result"
    }
   ],
   "source": [
    "usage = pd.concat([df_baidu_music.groupby(lambda idx: idx.day)[gb_volume].sum(),\n",
    "                   df_it_related.groupby(lambda idx: idx.day)[gb_volume].sum(),\n",
    "                   df_search_engine.groupby(lambda idx: idx.day)[gb_volume].sum(),\n",
    "                   df_unknown_app.groupby(lambda idx: idx.day)[gb_volume].sum(),\n",
    "                   df_others.groupby(lambda idx: idx.day)[gb_volume].sum()], axis=1)\n",
    "usage.columns = ['music','it','search','unkonwn','others']\n",
    "usage"
   ]
  },
  {
   "cell_type": "code",
   "execution_count": 16,
   "metadata": {
    "collapsed": false
   },
   "outputs": [
    {
     "data": {
      "text/plain": [
       "<matplotlib.axes._subplots.AxesSubplot at 0x113894050>"
      ]
     },
     "execution_count": 16,
     "metadata": {},
     "output_type": "execute_result"
    },
    {
     "data": {
      "image/png": "[encoded data removed]",
      "text/plain": [
       "<matplotlib.figure.Figure at 0x11384ae90>"
      ]
     },
     "metadata": {},
     "output_type": "display_data"
    }
   ],
   "source": [
    "acc = usage.sum(axis=1)\n",
    "usage_pct = usage.div(acc, axis=0)\n",
    "usage_pct.plot(kind='barh', stacked=True, figsize=(12,6))\n"
   ]
  }
 ],
 "metadata": {
  "kernelspec": {
   "display_name": "Python 2",
   "language": "python",
   "name": "python2"
  },
  "language_info": {
   "codemirror_mode": {
    "name": "ipython",
    "version": 2
   },
   "file_extension": ".py",
   "mimetype": "text/x-python",
   "name": "python",
   "nbconvert_exporter": "python",
   "pygments_lexer": "ipython2",
   "version": "2.7.11"
  }
 },
 "nbformat": 4,
 "nbformat_minor": 2
}
