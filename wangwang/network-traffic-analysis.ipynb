{
 "cells": [
  {
   "cell_type": "markdown",
   "metadata": {},
   "source": [
    "# 网络流量分析"
   ]
  },
  {
   "cell_type": "code",
   "execution_count": 1,
   "metadata": {
    "collapsed": false
   },
   "outputs": [
    {
     "name": "stdout",
     "output_type": "stream",
     "text": [
      "Populating the interactive namespace from numpy and matplotlib\n"
     ]
    }
   ],
   "source": [
    "%pylab inline\n",
    "\n",
    "import numpy as np\n",
    "import pandas as pd\n",
    "from pandas import Series, DataFrame\n",
    "import seaborn as sns"
   ]
  },
  {
   "cell_type": "markdown",
   "metadata": {},
   "source": [
    "## 设定语系"
   ]
  },
  {
   "cell_type": "code",
   "execution_count": 2,
   "metadata": {
    "collapsed": true,
    "deletable": true,
    "editable": true
   },
   "outputs": [],
   "source": [
    "import sys \n",
    "reload(sys)\n",
    "sys.setdefaultencoding('gb2312')\n",
    "\n",
    "gb_id = u'工号'.encode('gb2312')\n",
    "gb_name = u'姓名'.encode('gb2312')\n",
    "gb_datetime = u'日期时间'.encode('gb2312')\n",
    "gb_type = u'类型'.encode('gb2312')\n",
    "gb_url = u'网站'.encode('gb2312')\n",
    "gb_volume = u'流量'.encode('gb2312')\n",
    "gb_others = u'其他'.encode('gb2312')"
   ]
  },
  {
   "cell_type": "markdown",
   "metadata": {},
   "source": [
    "## 载入数据"
   ]
  },
  {
   "cell_type": "code",
   "execution_count": 3,
   "metadata": {
    "collapsed": false
   },
   "outputs": [
    {
     "data": {
      "text/html": [
       "<div>\n",
       "<table border=\"1\" class=\"dataframe\">\n",
       "  <thead>\n",
       "    <tr style=\"text-align: right;\">\n",
       "      <th></th>\n",
       "      <th>工号</th>\n",
       "      <th>姓名</th>\n",
       "      <th>类型</th>\n",
       "      <th>网站</th>\n",
       "      <th>流量</th>\n",
       "      <th>Unnamed: 6</th>\n",
       "    </tr>\n",
       "    <tr>\n",
       "      <th>日期时间</th>\n",
       "      <th></th>\n",
       "      <th></th>\n",
       "      <th></th>\n",
       "      <th></th>\n",
       "      <th></th>\n",
       "      <th></th>\n",
       "    </tr>\n",
       "  </thead>\n",
       "  <tbody>\n",
       "    <tr>\n",
       "      <th>2017-04-10 08:34:19</th>\n",
       "      <td>315657</td>\n",
       "      <td>吕明宪</td>\n",
       "      <td>营销</td>\n",
       "      <td>::</td>\n",
       "      <td>0.02</td>\n",
       "      <td>NaN</td>\n",
       "    </tr>\n",
       "    <tr>\n",
       "      <th>2017-04-10 08:34:20</th>\n",
       "      <td>315657</td>\n",
       "      <td>吕明宪</td>\n",
       "      <td>iCloud</td>\n",
       "      <td>::</td>\n",
       "      <td>0.12</td>\n",
       "      <td>NaN</td>\n",
       "    </tr>\n",
       "    <tr>\n",
       "      <th>2017-04-10 08:34:20</th>\n",
       "      <td>315657</td>\n",
       "      <td>吕明宪</td>\n",
       "      <td>Microsoft数据</td>\n",
       "      <td>::</td>\n",
       "      <td>0.00</td>\n",
       "      <td>NaN</td>\n",
       "    </tr>\n",
       "    <tr>\n",
       "      <th>2017-04-10 08:34:20</th>\n",
       "      <td>315657</td>\n",
       "      <td>吕明宪</td>\n",
       "      <td>未识别应用</td>\n",
       "      <td>::</td>\n",
       "      <td>0.02</td>\n",
       "      <td>NaN</td>\n",
       "    </tr>\n",
       "    <tr>\n",
       "      <th>2017-04-10 08:34:21</th>\n",
       "      <td>315657</td>\n",
       "      <td>吕明宪</td>\n",
       "      <td>ICMP</td>\n",
       "      <td>::</td>\n",
       "      <td>0.00</td>\n",
       "      <td>NaN</td>\n",
       "    </tr>\n",
       "  </tbody>\n",
       "</table>\n",
       "</div>"
      ],
      "text/plain": [
       "                         工号   姓名           类型  网站    流量  Unnamed: 6\n",
       "日期时间                                                               \n",
       "2017-04-10 08:34:19  315657  吕明宪           营销  ::  0.02         NaN\n",
       "2017-04-10 08:34:20  315657  吕明宪       iCloud  ::  0.12         NaN\n",
       "2017-04-10 08:34:20  315657  吕明宪  Microsoft数据  ::  0.00         NaN\n",
       "2017-04-10 08:34:20  315657  吕明宪        未识别应用  ::  0.02         NaN\n",
       "2017-04-10 08:34:21  315657  吕明宪         ICMP  ::  0.00         NaN"
      ]
     },
     "execution_count": 3,
     "metadata": {},
     "output_type": "execute_result"
    }
   ],
   "source": [
    "import os\n",
    "\n",
    "data = pd.concat([pd.read_csv(f, index_col=gb_datetime, parse_dates=True) for f in os.listdir('.') if f.endswith('.csv')])\n",
    "data.head()"
   ]
  },
  {
   "cell_type": "markdown",
   "metadata": {},
   "source": [
    "## 总流量统计"
   ]
  },
  {
   "cell_type": "code",
   "execution_count": 4,
   "metadata": {
    "collapsed": false
   },
   "outputs": [
    {
     "data": {
      "text/plain": [
       "2236.9000000000001"
      ]
     },
     "execution_count": 4,
     "metadata": {},
     "output_type": "execute_result"
    }
   ],
   "source": [
    "# 总流量\n",
    "data[gb_volume].sum()"
   ]
  },
  {
   "cell_type": "code",
   "execution_count": 5,
   "metadata": {
    "collapsed": false
   },
   "outputs": [
    {
     "data": {
      "text/plain": [
       "2017-04-10    589.68\n",
       "2017-04-11     26.40\n",
       "2017-04-12    640.09\n",
       "2017-04-13    256.37\n",
       "2017-04-14     49.56\n",
       "2017-04-15     86.39\n",
       "2017-04-17    135.73\n",
       "2017-04-18    211.59\n",
       "2017-04-19      8.54\n",
       "2017-04-20     25.16\n",
       "2017-04-21     30.18\n",
       "2017-04-24    177.21\n",
       "Name: 流量, dtype: float64"
      ]
     },
     "execution_count": 5,
     "metadata": {},
     "output_type": "execute_result"
    }
   ],
   "source": [
    "# 每日流量\n",
    "daily_total = data.groupby(lambda dt: dt.date)[gb_volume].sum()\n",
    "daily_total"
   ]
  },
  {
   "cell_type": "markdown",
   "metadata": {},
   "source": [
    "## 每日流量统计"
   ]
  },
  {
   "cell_type": "code",
   "execution_count": 6,
   "metadata": {
    "collapsed": false
   },
   "outputs": [
    {
     "data": {
      "text/plain": [
       "<matplotlib.axes._subplots.AxesSubplot at 0x1126096d0>"
      ]
     },
     "execution_count": 6,
     "metadata": {},
     "output_type": "execute_result"
    },
    {
     "data": {
      "image/png": "[encoded data removed]",
      "text/plain": [
       "<matplotlib.figure.Figure at 0x1044cc650>"
      ]
     },
     "metadata": {},
     "output_type": "display_data"
    }
   ],
   "source": [
    "daily_total.plot.barh()"
   ]
  },
  {
   "cell_type": "markdown",
   "metadata": {},
   "source": [
    "## 总流量分布"
   ]
  },
  {
   "cell_type": "code",
   "execution_count": 7,
   "metadata": {
    "collapsed": false
   },
   "outputs": [
    {
     "data": {
      "text/plain": [
       "类型\n",
       "百度音乐        1082.08\n",
       "IT相关         283.16\n",
       "OneDrive     172.66\n",
       "未识别应用        144.01\n",
       "搜索引擎         111.69\n",
       "PC微信收文件       71.05\n",
       "新闻门户          45.17\n",
       "PC微信传文件       36.87\n",
       "微信            33.51\n",
       "旅行交通          27.62\n",
       "Name: 流量, dtype: float64"
      ]
     },
     "execution_count": 7,
     "metadata": {},
     "output_type": "execute_result"
    }
   ],
   "source": [
    "# 总流量分布\n",
    "traffic_dist = data.groupby(gb_type)[gb_volume].sum().sort_values(ascending=False)\n",
    "traffic_dist.head(10)"
   ]
  },
  {
   "cell_type": "code",
   "execution_count": 8,
   "metadata": {
    "collapsed": false
   },
   "outputs": [],
   "source": [
    "# 转换类型名称\n",
    "def type_mapping(t):\n",
    "    switcher = {\n",
    "    u'百度音乐'.encode('gb2312'): 'Music',\n",
    "    u'IT相关'.encode('gb2312'): 'IT related',\n",
    "    u'OneDrive'.encode('gb2312'): 'OneDrive',\n",
    "    u'未识别应用'.encode('gb2312'): 'Unknown',\n",
    "    u'搜索引擎'.encode('gb2312'): 'Search Engine',\n",
    "    u'PC微信收文件'.encode('gb2312'): 'Wechat file',\n",
    "    u'新闻门户'.encode('gb2312'): 'News',\n",
    "    u'PC微信传文件'.encode('gb2312'): 'Wechat file',\n",
    "    u'微信'.encode('gb2312'): 'Wechat'}\n",
    "    return switcher.get(t, 'Other')\n",
    "\n",
    "data[gb_type] = data[gb_type].map(type_mapping)"
   ]
  },
  {
   "cell_type": "code",
   "execution_count": 9,
   "metadata": {
    "collapsed": false
   },
   "outputs": [
    {
     "data": {
      "text/plain": [
       "<matplotlib.axes._subplots.AxesSubplot at 0x1136b24d0>"
      ]
     },
     "execution_count": 9,
     "metadata": {},
     "output_type": "execute_result"
    },
    {
     "data": {
      "image/png": "[encoded data removed]",
      "text/plain": [
       "<matplotlib.figure.Figure at 0x1137f9f90>"
      ]
     },
     "metadata": {},
     "output_type": "display_data"
    }
   ],
   "source": [
    "# Top 10 圆饼图\n",
    "traffic_dist = data.groupby(gb_type)[gb_volume].sum().sort_values(ascending=False)\n",
    "traffic_dist.head(10).plot.pie()"
   ]
  },
  {
   "cell_type": "markdown",
   "metadata": {},
   "source": [
    "## 每日流量分布"
   ]
  },
  {
   "cell_type": "code",
   "execution_count": 10,
   "metadata": {
    "collapsed": false
   },
   "outputs": [
    {
     "data": {
      "text/html": [
       "<div>\n",
       "<table border=\"1\" class=\"dataframe\">\n",
       "  <thead>\n",
       "    <tr style=\"text-align: right;\">\n",
       "      <th>类型</th>\n",
       "      <th>IT related</th>\n",
       "      <th>Music</th>\n",
       "      <th>News</th>\n",
       "      <th>OneDrive</th>\n",
       "      <th>Other</th>\n",
       "      <th>Search Engine</th>\n",
       "      <th>Unknown</th>\n",
       "      <th>Wechat</th>\n",
       "      <th>Wechat file</th>\n",
       "    </tr>\n",
       "  </thead>\n",
       "  <tbody>\n",
       "    <tr>\n",
       "      <th>2017-04-10</th>\n",
       "      <td>84.26</td>\n",
       "      <td>366.64</td>\n",
       "      <td>5.23</td>\n",
       "      <td>10.29</td>\n",
       "      <td>23.91</td>\n",
       "      <td>45.60</td>\n",
       "      <td>14.89</td>\n",
       "      <td>5.26</td>\n",
       "      <td>33.60</td>\n",
       "    </tr>\n",
       "    <tr>\n",
       "      <th>2017-04-11</th>\n",
       "      <td>1.31</td>\n",
       "      <td>NaN</td>\n",
       "      <td>1.21</td>\n",
       "      <td>10.17</td>\n",
       "      <td>5.95</td>\n",
       "      <td>0.13</td>\n",
       "      <td>1.97</td>\n",
       "      <td>1.80</td>\n",
       "      <td>3.86</td>\n",
       "    </tr>\n",
       "    <tr>\n",
       "      <th>2017-04-12</th>\n",
       "      <td>31.96</td>\n",
       "      <td>543.25</td>\n",
       "      <td>4.16</td>\n",
       "      <td>0.51</td>\n",
       "      <td>31.20</td>\n",
       "      <td>12.67</td>\n",
       "      <td>9.18</td>\n",
       "      <td>3.76</td>\n",
       "      <td>3.40</td>\n",
       "    </tr>\n",
       "    <tr>\n",
       "      <th>2017-04-13</th>\n",
       "      <td>27.63</td>\n",
       "      <td>172.19</td>\n",
       "      <td>1.22</td>\n",
       "      <td>10.20</td>\n",
       "      <td>22.37</td>\n",
       "      <td>4.77</td>\n",
       "      <td>7.24</td>\n",
       "      <td>4.09</td>\n",
       "      <td>6.66</td>\n",
       "    </tr>\n",
       "    <tr>\n",
       "      <th>2017-04-14</th>\n",
       "      <td>12.84</td>\n",
       "      <td>NaN</td>\n",
       "      <td>1.26</td>\n",
       "      <td>0.25</td>\n",
       "      <td>14.71</td>\n",
       "      <td>5.37</td>\n",
       "      <td>11.16</td>\n",
       "      <td>3.86</td>\n",
       "      <td>0.11</td>\n",
       "    </tr>\n",
       "    <tr>\n",
       "      <th>2017-04-15</th>\n",
       "      <td>31.91</td>\n",
       "      <td>NaN</td>\n",
       "      <td>1.02</td>\n",
       "      <td>0.22</td>\n",
       "      <td>18.04</td>\n",
       "      <td>10.59</td>\n",
       "      <td>17.30</td>\n",
       "      <td>1.39</td>\n",
       "      <td>5.92</td>\n",
       "    </tr>\n",
       "    <tr>\n",
       "      <th>2017-04-17</th>\n",
       "      <td>20.53</td>\n",
       "      <td>NaN</td>\n",
       "      <td>0.90</td>\n",
       "      <td>5.18</td>\n",
       "      <td>32.71</td>\n",
       "      <td>12.90</td>\n",
       "      <td>17.21</td>\n",
       "      <td>2.64</td>\n",
       "      <td>43.66</td>\n",
       "    </tr>\n",
       "    <tr>\n",
       "      <th>2017-04-18</th>\n",
       "      <td>18.00</td>\n",
       "      <td>NaN</td>\n",
       "      <td>3.03</td>\n",
       "      <td>135.47</td>\n",
       "      <td>28.14</td>\n",
       "      <td>7.47</td>\n",
       "      <td>13.82</td>\n",
       "      <td>3.21</td>\n",
       "      <td>2.45</td>\n",
       "    </tr>\n",
       "    <tr>\n",
       "      <th>2017-04-19</th>\n",
       "      <td>0.39</td>\n",
       "      <td>NaN</td>\n",
       "      <td>0.69</td>\n",
       "      <td>0.05</td>\n",
       "      <td>5.32</td>\n",
       "      <td>0.01</td>\n",
       "      <td>1.12</td>\n",
       "      <td>0.96</td>\n",
       "      <td>NaN</td>\n",
       "    </tr>\n",
       "    <tr>\n",
       "      <th>2017-04-20</th>\n",
       "      <td>0.63</td>\n",
       "      <td>NaN</td>\n",
       "      <td>10.29</td>\n",
       "      <td>0.12</td>\n",
       "      <td>9.86</td>\n",
       "      <td>0.02</td>\n",
       "      <td>3.41</td>\n",
       "      <td>0.83</td>\n",
       "      <td>NaN</td>\n",
       "    </tr>\n",
       "    <tr>\n",
       "      <th>2017-04-21</th>\n",
       "      <td>1.34</td>\n",
       "      <td>NaN</td>\n",
       "      <td>11.12</td>\n",
       "      <td>0.14</td>\n",
       "      <td>9.57</td>\n",
       "      <td>0.12</td>\n",
       "      <td>5.24</td>\n",
       "      <td>2.65</td>\n",
       "      <td>NaN</td>\n",
       "    </tr>\n",
       "    <tr>\n",
       "      <th>2017-04-24</th>\n",
       "      <td>52.36</td>\n",
       "      <td>NaN</td>\n",
       "      <td>5.04</td>\n",
       "      <td>0.06</td>\n",
       "      <td>54.92</td>\n",
       "      <td>12.04</td>\n",
       "      <td>41.47</td>\n",
       "      <td>3.06</td>\n",
       "      <td>8.26</td>\n",
       "    </tr>\n",
       "  </tbody>\n",
       "</table>\n",
       "</div>"
      ],
      "text/plain": [
       "类型        IT related   Music   News  OneDrive  Other  Search Engine  \\\n",
       "2017-04-10       84.26  366.64   5.23     10.29  23.91          45.60   \n",
       "2017-04-11        1.31     NaN   1.21     10.17   5.95           0.13   \n",
       "2017-04-12       31.96  543.25   4.16      0.51  31.20          12.67   \n",
       "2017-04-13       27.63  172.19   1.22     10.20  22.37           4.77   \n",
       "2017-04-14       12.84     NaN   1.26      0.25  14.71           5.37   \n",
       "2017-04-15       31.91     NaN   1.02      0.22  18.04          10.59   \n",
       "2017-04-17       20.53     NaN   0.90      5.18  32.71          12.90   \n",
       "2017-04-18       18.00     NaN   3.03    135.47  28.14           7.47   \n",
       "2017-04-19        0.39     NaN   0.69      0.05   5.32           0.01   \n",
       "2017-04-20        0.63     NaN  10.29      0.12   9.86           0.02   \n",
       "2017-04-21        1.34     NaN  11.12      0.14   9.57           0.12   \n",
       "2017-04-24       52.36     NaN   5.04      0.06  54.92          12.04   \n",
       "\n",
       "类型        Unknown  Wechat  Wechat file  \n",
       "2017-04-10    14.89    5.26        33.60  \n",
       "2017-04-11     1.97    1.80         3.86  \n",
       "2017-04-12     9.18    3.76         3.40  \n",
       "2017-04-13     7.24    4.09         6.66  \n",
       "2017-04-14    11.16    3.86         0.11  \n",
       "2017-04-15    17.30    1.39         5.92  \n",
       "2017-04-17    17.21    2.64        43.66  \n",
       "2017-04-18    13.82    3.21         2.45  \n",
       "2017-04-19     1.12    0.96          NaN  \n",
       "2017-04-20     3.41    0.83          NaN  \n",
       "2017-04-21     5.24    2.65          NaN  \n",
       "2017-04-24    41.47    3.06         8.26  "
      ]
     },
     "execution_count": 10,
     "metadata": {},
     "output_type": "execute_result"
    }
   ],
   "source": [
    "daily_dist = data.groupby([lambda dt: dt.date, gb_type])[gb_volume].sum().unstack()\n",
    "daily_dist"
   ]
  },
  {
   "cell_type": "code",
   "execution_count": 11,
   "metadata": {
    "collapsed": false
   },
   "outputs": [
    {
     "data": {
      "image/png": "[encoded data removed]",
      "text/plain": [
       "<matplotlib.figure.Figure at 0x1136884d0>"
      ]
     },
     "metadata": {},
     "output_type": "display_data"
    }
   ],
   "source": [
    "import seaborn as sns\n",
    "color = sns.color_palette(\"hls\", 10)\n",
    "\n",
    "ax = daily_dist.plot.barh(stacked=True, figsize=(12,10), color = color)"
   ]
  }
 ],
 "metadata": {
  "kernelspec": {
   "display_name": "Python 2",
   "language": "python",
   "name": "python2"
  },
  "language_info": {
   "codemirror_mode": {
    "name": "ipython",
    "version": 2
   },
   "file_extension": ".py",
   "mimetype": "text/x-python",
   "name": "python",
   "nbconvert_exporter": "python",
   "pygments_lexer": "ipython2",
   "version": "2.7.11"
  }
 },
 "nbformat": 4,
 "nbformat_minor": 2
}
